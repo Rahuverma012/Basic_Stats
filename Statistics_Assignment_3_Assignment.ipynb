{
  "nbformat": 4,
  "nbformat_minor": 0,
  "metadata": {
    "colab": {
      "provenance": []
    },
    "kernelspec": {
      "name": "python3",
      "display_name": "Python 3"
    },
    "language_info": {
      "name": "python"
    }
  },
  "cells": [
    {
      "cell_type": "markdown",
      "source": [
        "**1. A coin is flipped 100 times, and it lands heads up 60 times. Calculate the empirical probability of getting heads.**"
      ],
      "metadata": {
        "id": "6J6VG54OHkMj"
      }
    },
    {
      "cell_type": "code",
      "source": [
        "h_c = 60      # Number of times heads landed\n",
        "t_f = 100    # Total number of coin flips\n",
        "emp_pr = h_c / t_f\n",
        "\n",
        "print(\"Empirical Probability of Getting Heads:\", emp_pr)"
      ],
      "metadata": {
        "id": "S42pYrXqKUAW",
        "colab": {
          "base_uri": "https://localhost:8080/"
        },
        "outputId": "9779ea69-6406-41bf-e1a9-36ae957532b1"
      },
      "execution_count": null,
      "outputs": [
        {
          "output_type": "stream",
          "name": "stdout",
          "text": [
            "Empirical Probability of Getting Heads: 0.6\n"
          ]
        }
      ]
    },
    {
      "cell_type": "markdown",
      "source": [
        "**2. A bag contains 5 red balls and 3 green balls. If one ball is drawn at random, what is the probability of drawing a red ball?**\n",
        "\n",
        "\n"
      ],
      "metadata": {
        "id": "uCKjYx_pHqSc"
      }
    },
    {
      "cell_type": "code",
      "source": [
        "n_r = 5     # Number of red balls\n",
        "n_g = 3      # Number of green balls\n",
        "t_balls = n_r + n_g    #Total number of balls\n",
        "pr_red = n_r / t_balls    #Probability of drawing a red ball\n",
        "\n",
        "print(\"Probability of drawing a red ball:\", pr_red)"
      ],
      "metadata": {
        "id": "2dOdTQm1Ky-Y",
        "colab": {
          "base_uri": "https://localhost:8080/"
        },
        "outputId": "e1832b91-4cab-48eb-cfef-5d576f83d7d8"
      },
      "execution_count": null,
      "outputs": [
        {
          "output_type": "stream",
          "name": "stdout",
          "text": [
            "Probability of drawing a red ball: 0.625\n"
          ]
        }
      ]
    },
    {
      "cell_type": "markdown",
      "source": [
        "**3. A company conducted an A/B test on two different website layouts to determine which one generates more clicks. The first layout resulted in 500 clicks out of 2,000 visitors, while the second layout had 450 clicks out of 1,800 visitors. Determine which layout performed better using appropriate statistical testing.**\n"
      ],
      "metadata": {
        "id": "7qkPEpJkHt2x"
      }
    },
    {
      "cell_type": "code",
      "source": [
        "import statsmodels.api as sm\n",
        "from statsmodels.stats.proportion import proportions_ztest\n",
        "\n",
        "#A one proportion z-test is used to compare an observed proportion to a theoretical one.\n",
        "\n",
        "n_1 = 2000        # Total visitors for Layout 1\n",
        "n_2 = 1800        # Total visitors for Layout 2\n",
        "click_1 = 500     # Number of clicks for Layout 1\n",
        "click_2 = 450     # Number of clicks for Layout 2\n",
        "\n",
        "# Calculate the proportions\n",
        "v_1 = click_1 / n_1  # Number of Clicks per visitor for the first layout\n",
        "v_2 = click_2 / n_2  # Number of Clicks per visitor for the second layout\n",
        "\n",
        "z_stat, p_value = proportions_ztest([click_1, click_2], [n_1, n_2])\n",
        "\n",
        "print(\"Z-statistic:\", z_stat)\n",
        "print(\"P-value:\", p_value)\n",
        "\n",
        "alpha = 0.05  # Significance level\n",
        "\n",
        "if p_value < alpha:\n",
        "    print(\"\\nReject the null hypothesis\")\n",
        "    print(\"Layout 1 performed significantly better than Layout 2.\")\n",
        "else:\n",
        "    print(\"\\nFail to reject the null hypothesis\")\n",
        "    print(\"There is no significant difference in the click-through rates between the layouts.\")\n"
      ],
      "metadata": {
        "id": "9krSBWZGL2gD",
        "colab": {
          "base_uri": "https://localhost:8080/"
        },
        "outputId": "06aa9f51-328d-4e24-f90f-6a9f76a1ce86"
      },
      "execution_count": null,
      "outputs": [
        {
          "output_type": "stream",
          "name": "stdout",
          "text": [
            "Z-statistic: 0.0\n",
            "P-value: 1.0\n",
            "\n",
            "Fail to reject the null hypothesis\n",
            "There is no significant difference in the click-through rates between the layouts.\n"
          ]
        }
      ]
    },
    {
      "cell_type": "markdown",
      "source": [
        "**4. A researcher wants to compare the average heights of two populations. Population A has a mean height of 165 cm with a standard deviation of 10 cm, and Population B has a mean height of 170 cm with a standard deviation of 8 cm. Perform a hypothesis test to determine if there is a significant difference in the average heights.**\n"
      ],
      "metadata": {
        "id": "lN3KaIRPHzrF"
      }
    },
    {
      "cell_type": "code",
      "source": [
        "import scipy.stats as stats\n",
        "\n",
        "# Population A\n",
        "mean_A = 165  # Mean height\n",
        "stddev_A = 10  # Standard deviation\n",
        "\n",
        "# Population B\n",
        "mean_B = 170  # Mean height\n",
        "stddev_B = 8   # Standard deviation\n",
        "\n",
        "# Sample size (assuming equal sample size for both)\n",
        "n_A = n_B = 30\n",
        "\n",
        "# Two-sample t-test\n",
        "# T-test for means of two independent samples from descriptive statistics.\n",
        "t_statistic, p_value = stats.ttest_ind_from_stats(mean_A, stddev_A, n_A, mean_B, stddev_B, n_B)\n",
        "\n",
        "print(\"t-statistic:\", t_statistic)\n",
        "print(\"P-value:\", p_value)\n",
        "\n",
        "alpha = 0.05    #Significance level (alpha)\n",
        "\n",
        "if p_value < alpha:\n",
        "    print(\"\\nReject the null hypothesis\")\n",
        "    print(\"There is a significant difference in the average heights between Population A and Population B.\")\n",
        "else:\n",
        "    print(\"\\nFail to reject the null hypothesis\")\n",
        "    print(\"There is no significant difference in the average heights between Population A and Population B.\")"
      ],
      "metadata": {
        "id": "gHy5q8_aMO4q",
        "colab": {
          "base_uri": "https://localhost:8080/"
        },
        "outputId": "476dd27d-563c-4f9c-9883-0b68626a3cb7"
      },
      "execution_count": null,
      "outputs": [
        {
          "output_type": "stream",
          "name": "stdout",
          "text": [
            "t-statistic: -2.138497306920754\n",
            "P-value: 0.036699849261059514\n",
            "\n",
            "Reject the null hypothesis\n",
            "There is a significant difference in the average heights between Population A and Population B.\n"
          ]
        }
      ]
    },
    {
      "cell_type": "markdown",
      "source": [
        "**5. Calculate the z-score for a data point with a value of 75 in a normally distributed data set with a mean of 60 and a standard deviation of 10.**\n"
      ],
      "metadata": {
        "id": "iS6Ck6sgH2Ko"
      }
    },
    {
      "cell_type": "code",
      "source": [
        "import scipy.stats as stats\n",
        "\n",
        "#z-score tells us how many standard deviations away a value is from the mean.\n",
        "\n",
        "data_point = 75\n",
        "mean = 60\n",
        "stddev = 10\n",
        "\n",
        "z_score = (data_point - mean) / stddev\n",
        "\n",
        "print(\"Z-score:\", z_score)"
      ],
      "metadata": {
        "id": "PrVg2E_3MXkz",
        "colab": {
          "base_uri": "https://localhost:8080/"
        },
        "outputId": "bbadc179-7e56-47ed-95e6-fe517abe8ddc"
      },
      "execution_count": null,
      "outputs": [
        {
          "output_type": "stream",
          "name": "stdout",
          "text": [
            "Z-score: 1.5\n"
          ]
        }
      ]
    },
    {
      "cell_type": "markdown",
      "source": [
        "**6. Conduct a chi-square test to determine if there is a significant association between gender (male or female) and smoking habits (smoker or non-smoker) in a sample of 500 individuals.**\n"
      ],
      "metadata": {
        "id": "zbTSyLnmH6np"
      }
    },
    {
      "cell_type": "code",
      "source": [
        "import numpy as np\n",
        "import scipy.stats as stats\n",
        "\n",
        "# Create a contingency table with observed frequencies\n",
        "# Contingency table is basically the realtionship table ex. crosstab in pandas\n",
        "\n",
        "# Example data (replace with your actual data)\n",
        "observed_data = np.array([[200, 50],  # Male smokers and non-smokers\n",
        "                          [100, 150]])  # Female smokers and non-smokers\n",
        "\n",
        "# Chi-square test\n",
        "chi2, p, dof, expected = stats.chi2_contingency(observed_data)\n",
        "\n",
        "alpha = 0.05   #Significance level\n",
        "\n",
        "\n",
        "print(\"Chi-square statistic:\", chi2)\n",
        "print(\"P-value:\", p)\n",
        "print(\"Degrees of freedom:\", dof)\n",
        "print(\"\\nExpected frequencies table:\")\n",
        "print(expected)\n",
        "\n",
        "if p < alpha:\n",
        "    print(\"\\nReject the null hypothesis\")\n",
        "    print(\"There is a significant association between gender and smoking habits.\")\n",
        "else:\n",
        "    print(\"\\nFail to reject the null hypothesis\")\n",
        "    print(\"There is no significant association between gender and smoking habits.\")\n"
      ],
      "metadata": {
        "id": "VBum1PfFMgwk",
        "colab": {
          "base_uri": "https://localhost:8080/"
        },
        "outputId": "59b42ee8-d5e7-4f76-83d5-e9382f3ec7bb"
      },
      "execution_count": null,
      "outputs": [
        {
          "output_type": "stream",
          "name": "stdout",
          "text": [
            "Chi-square statistic: 81.67500000000001\n",
            "P-value: 1.6040981572350098e-19\n",
            "Degrees of freedom: 1\n",
            "\n",
            "Expected frequencies table:\n",
            "[[150. 100.]\n",
            " [150. 100.]]\n",
            "\n",
            "Reject the null hypothesis\n",
            "There is a significant association between gender and smoking habits.\n"
          ]
        }
      ]
    },
    {
      "cell_type": "markdown",
      "source": [
        "**7. Perform a one-way ANOVA to determine if there are significant differences in the mean scores among three different groups (Group A, Group B, and Group C) with sample sizes of 20, 25, and 18, respectively.**\n"
      ],
      "metadata": {
        "id": "LhQOSYX0H9fC"
      }
    },
    {
      "cell_type": "code",
      "source": [
        "import numpy as np\n",
        "import scipy.stats as stats\n",
        "\n",
        "np.random.seed(15)\n",
        "group_A = np.random.randint(80,90,20)\n",
        "group_B = np.random.randint(70,80,25)\n",
        "group_C = np.random.randint(90,100,18)\n",
        "\n",
        "# One-way ANOVA\n",
        "f_statistic, p_value = stats.f_oneway(group_A, group_B, group_C)\n",
        "\n",
        "alpha = 0.05\n",
        "\n",
        "print(\"F-statistic:\", f_statistic)\n",
        "print(\"P-value:\", p_value)\n",
        "\n",
        "if p_value < alpha:\n",
        "    print(\"\\nReject the null hypothesis\")\n",
        "    print(\"There are significant differences in the mean scores among the three groups.\")\n",
        "else:\n",
        "    print(\"\\nFail to reject the null hypothesis\")\n",
        "    print(\"There are no significant differences in the mean scores among the three groups.\")\n"
      ],
      "metadata": {
        "id": "wUzOw5XEMpWj",
        "colab": {
          "base_uri": "https://localhost:8080/"
        },
        "outputId": "6b1f4b3a-ffe9-40e2-f778-d6b807bd42a7"
      },
      "execution_count": null,
      "outputs": [
        {
          "output_type": "stream",
          "name": "stdout",
          "text": [
            "F-statistic: 239.4401999378432\n",
            "P-value: 2.5105326796444517e-29\n",
            "\n",
            "Reject the null hypothesis\n",
            "There are significant differences in the mean scores among the three groups.\n"
          ]
        }
      ]
    },
    {
      "cell_type": "markdown",
      "source": [
        "**8. Calculate the Pearson correlation coefficient between two variables X and Y, given the following data pairs:\n",
        "   X: [2, 4, 6, 8, 10]\n",
        "   Y: [3, 5, 7, 9, 11]**\n"
      ],
      "metadata": {
        "id": "pV2DsQxmICFL"
      }
    },
    {
      "cell_type": "code",
      "source": [
        "import numpy as np\n",
        "\n",
        "X = np.array([2, 4, 6, 8, 10])\n",
        "Y = np.array([3, 5, 7, 9, 11])\n",
        "correlation_coefficient = np.corrcoef(X, Y)[0, 1]\n",
        "\n",
        "print(\"Pearson Correlation Coefficient:\", correlation_coefficient)"
      ],
      "metadata": {
        "id": "Pw6q1ig6MtFj",
        "colab": {
          "base_uri": "https://localhost:8080/"
        },
        "outputId": "e346103f-8083-4a76-d6bb-31ad61b11553"
      },
      "execution_count": null,
      "outputs": [
        {
          "output_type": "stream",
          "name": "stdout",
          "text": [
            "Pearson Correlation Coefficient: 0.9999999999999999\n"
          ]
        }
      ]
    },
    {
      "cell_type": "markdown",
      "source": [
        "**9. A geometric distribution has a probability of success (p) equal to 0.2. Find the probability of the third success occurring on the 6th trial.**\n"
      ],
      "metadata": {
        "id": "rS7MHSa8IJdM"
      }
    },
    {
      "cell_type": "code",
      "source": [
        "p = 0.2  # Probability of success\n",
        "k = 3    # Number of successes\n",
        "probability = ((1 - p) ** (k - 1)) * p\n",
        "\n",
        "print(\"Probability of the third success occurring on the 6th trial:\", probability)"
      ],
      "metadata": {
        "id": "_6BLCBEqM_0_",
        "colab": {
          "base_uri": "https://localhost:8080/"
        },
        "outputId": "35b5fd35-b94f-429f-8c2d-23427cae14b8"
      },
      "execution_count": null,
      "outputs": [
        {
          "output_type": "stream",
          "name": "stdout",
          "text": [
            "Probability of the third success occurring on the 6th trial: 0.12800000000000003\n"
          ]
        }
      ]
    },
    {
      "cell_type": "markdown",
      "source": [
        "**10. Given a uniform distribution with a lower bound of 0 and an upper bound of 10, find the probability of selecting a value between 3 and 7.**"
      ],
      "metadata": {
        "id": "2kVsMoo3INcK"
      }
    },
    {
      "cell_type": "code",
      "execution_count": null,
      "metadata": {
        "id": "KtS54k-1Hcn3",
        "colab": {
          "base_uri": "https://localhost:8080/"
        },
        "outputId": "6775f2dd-6f7f-42fc-877b-53037be219ce"
      },
      "outputs": [
        {
          "output_type": "stream",
          "name": "stdout",
          "text": [
            "Probability of selecting a value between 3 and 7: 0.4\n"
          ]
        }
      ],
      "source": [
        "lower_bound = 0\n",
        "upper_bound = 10\n",
        "start = 3\n",
        "end = 7\n",
        "\n",
        "total_interval_length = upper_bound - lower_bound\n",
        "specified_interval_length = end - start\n",
        "probability = specified_interval_length / total_interval_length\n",
        "\n",
        "print(\"Probability of selecting a value between 3 and 7:\", probability)"
      ]
    }
  ]
}