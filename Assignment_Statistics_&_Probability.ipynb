{
  "nbformat": 4,
  "nbformat_minor": 0,
  "metadata": {
    "colab": {
      "provenance": []
    },
    "kernelspec": {
      "name": "python3",
      "display_name": "Python 3"
    },
    "language_info": {
      "name": "python"
    }
  },
  "cells": [
    {
      "cell_type": "markdown",
      "source": [
        "1. Define and differentiate between qualitative and quantitative data.\n",
        "\n",
        "\n",
        "In Data science encompasses both 'Qualitative and Quantitative data analysis techniques'.\n",
        "\n",
        "Qualitative data is crucial for text-based analysis and understanding unstructured information,\n",
        "\n",
        "while\n",
        "\n",
        "Quantitative data forms the basis for statistical modeling, machine learning, and data-driven decision-making in various domains. Data scientists often work with a combination of both types of data to derive meaningful insights and solve complex problems"
      ],
      "metadata": {
        "id": "KDVNHrOSuGYt"
      }
    },
    {
      "cell_type": "code",
      "source": [
        "# Analyzing Qualitative Data - Sentiment Analysis\n",
        "import nltk\n",
        "nltk.download('vader_lexicon')\n",
        "from nltk.sentiment.vader import SentimentIntensityAnalyzer\n",
        "\n",
        "# Sample customer reviews\n",
        "reviews = [\n",
        "    \"This product is amazing! I love it!\",\n",
        "    \"The service was terrible, and I'm very disappointed.\",\n",
        "    \"The quality of the food was excellent.\",\n",
        "]\n",
        "\n",
        "# Initialize the sentiment analyzer\n",
        "sia = SentimentIntensityAnalyzer()\n",
        "\n",
        "# Analyze sentiment for each review\n",
        "for review in reviews:\n",
        "    sentiment = sia.polarity_scores(review)\n",
        "    print(f\"Review: {review}\")\n",
        "    print(f\"Sentiment: {sentiment['compound']:.2f}\")\n",
        "    if sentiment['compound'] > 0:\n",
        "        print(\"Sentiment: Positive\\n\")\n",
        "    elif sentiment['compound'] < 0:\n",
        "        print(\"Sentiment: Negative\\n\")\n",
        "    else:\n",
        "        print(\"Sentiment: Neutral\\n\")\n"
      ],
      "metadata": {
        "colab": {
          "base_uri": "https://localhost:8080/"
        },
        "id": "ZPecxY0uvJNT",
        "outputId": "54a20180-59b4-49d8-ce86-ab4ed0bfaf4c"
      },
      "execution_count": null,
      "outputs": [
        {
          "output_type": "stream",
          "name": "stdout",
          "text": [
            "Review: This product is amazing! I love it!\n",
            "Sentiment: 0.86\n",
            "Sentiment: Positive\n",
            "\n",
            "Review: The service was terrible, and I'm very disappointed.\n",
            "Sentiment: -0.76\n",
            "Sentiment: Negative\n",
            "\n",
            "Review: The quality of the food was excellent.\n",
            "Sentiment: 0.57\n",
            "Sentiment: Positive\n",
            "\n"
          ]
        },
        {
          "output_type": "stream",
          "name": "stderr",
          "text": [
            "[nltk_data] Downloading package vader_lexicon to /root/nltk_data...\n"
          ]
        }
      ]
    },
    {
      "cell_type": "code",
      "source": [
        "#Analyzing Quantitative Data - Data Visualization\n",
        "\n",
        "import matplotlib.pyplot as plt\n",
        "\n",
        "# Sample data - Quarterly sales figures\n",
        "quarters = [\"Q1\", \"Q2\", \"Q3\", \"Q4\"]\n",
        "sales = [250000, 320000, 280000, 350000]\n",
        "\n",
        "# Create a bar chart\n",
        "plt.figure(figsize=(8, 5))\n",
        "plt.bar(quarters, sales, color='skyblue')\n",
        "plt.title(\"Quarterly Sales Figures\")\n",
        "plt.xlabel(\"Quarter\")\n",
        "plt.ylabel(\"Sales (in USD)\")\n",
        "plt.show()\n"
      ],
      "metadata": {
        "colab": {
          "base_uri": "https://localhost:8080/",
          "height": 487
        },
        "id": "OOhAKWvTwych",
        "outputId": "128d9342-6722-4aac-acea-e64ccf295afb"
      },
      "execution_count": null,
      "outputs": [
        {
          "output_type": "display_data",
          "data": {
            "text/plain": [
              "<Figure size 800x500 with 1 Axes>"
            ],
            "image/png": "[encoded data removed]"
          },
          "metadata": {}
        }
      ]
    },
    {
      "cell_type": "markdown",
      "source": [
        "2. Explain the concept of central tendencies in statistics and provide examples.\n",
        "\n",
        "The three most commonly used measures of central tendency are:\n",
        "\n",
        "Mean: The mean, also known as the average, is calculated by adding up all the values in a data set and dividing by the number of values.\n",
        "\n",
        "Median: The median is the middle value in a sorted data set. If there is an even number of values, it's the average of the two middle values.\n",
        "\n",
        "Mode: The mode is the value that appears most frequently in a data set. A data set can have no mode, one mode (unimodal), or multiple modes (multimodal)."
      ],
      "metadata": {
        "id": "R9hefLnzxbxa"
      }
    },
    {
      "cell_type": "code",
      "source": [
        "import statistics\n",
        "\n",
        "# Sample data\n",
        "data = [10, 15, 20, 25, 30, 35, 40, 45, 50, 55]\n",
        "\n",
        "# Mean\n",
        "mean = statistics.mean(data)\n",
        "print(f\"Mean: {mean}\")\n",
        "\n",
        "# Median\n",
        "median = statistics.median(data)\n",
        "print(f\"Median: {median}\")\n",
        "\n",
        "# Mode\n",
        "try:\n",
        "    mode = statistics.mode(data)\n",
        "    print(f\"Mode: {mode}\")\n",
        "except statistics.StatisticsError:\n",
        "    print(\"No unique mode found.\")\n"
      ],
      "metadata": {
        "colab": {
          "base_uri": "https://localhost:8080/"
        },
        "id": "RMVD03-lxj5y",
        "outputId": "4909dd12-d529-4f63-f2b7-8cef05609655"
      },
      "execution_count": null,
      "outputs": [
        {
          "output_type": "stream",
          "name": "stdout",
          "text": [
            "Mean: 32.5\n",
            "Median: 32.5\n",
            "Mode: 10\n"
          ]
        }
      ]
    },
    {
      "cell_type": "code",
      "source": [
        "#Using NumPy for Mean and Median Calculation\n",
        "import numpy as np\n",
        "\n",
        "# Sample data\n",
        "data = [10, 15, 20, 25, 30, 35, 40, 45, 50, 55]\n",
        "\n",
        "# Mean using NumPy\n",
        "mean = np.mean(data)\n",
        "print(f\"Mean: {mean}\")\n",
        "\n",
        "# Median using NumPy\n",
        "median = np.median(data)\n",
        "print(f\"Median: {median}\")\n"
      ],
      "metadata": {
        "colab": {
          "base_uri": "https://localhost:8080/"
        },
        "id": "NUJRii8oxqkk",
        "outputId": "3d62ca87-5dae-480a-a407-d571fbb1dfa6"
      },
      "execution_count": null,
      "outputs": [
        {
          "output_type": "stream",
          "name": "stdout",
          "text": [
            "Mean: 32.5\n",
            "Median: 32.5\n"
          ]
        }
      ]
    },
    {
      "cell_type": "markdown",
      "source": [
        "3. What are measures of spread and how do they help in understanding data variability?\n",
        "\n",
        "Measures of spread, also known as measures of dispersion, are statistical measures that describe the extent to which data points in a dataset vary or spread out from the central tendency (mean, median, or mode).\n",
        "\n",
        "Common measures of spread include:\n",
        "\n",
        "Range\n",
        "\n",
        "Variance\n",
        "\n",
        "Standard Deviation:\n",
        "\n",
        "Interquartile Range (IQR)\n",
        "\n",
        "Measures of spread are crucial for several reasons:\n",
        "\n",
        "i) They help in summarizing the distribution of data, providing insights into how values are dispersed around the central tendency.\n",
        "\n",
        "ii) They allow for the identification of outliers, which are data points that deviate significantly from the majority of the data.\n",
        "iii) They assist in making decisions, drawing inferences, and selecting appropriate statistical methods.\n",
        "\n",
        "\n",
        "\n",
        "\n",
        "\n"
      ],
      "metadata": {
        "id": "gnAe8OvnyMTz"
      }
    },
    {
      "cell_type": "code",
      "source": [
        "import numpy as np\n",
        "import statistics\n",
        "\n",
        "# Sample data\n",
        "data = [12, 15, 18, 22, 24, 28, 30, 35, 40, 45, 50]\n",
        "\n",
        "# Range\n",
        "data_range = np.ptp(data)\n",
        "print(f\"Range: {data_range}\")\n",
        "\n",
        "# Variance (Population Variance)\n",
        "population_variance = np.var(data)\n",
        "print(f\"Population Variance: {population_variance:.2f}\")\n",
        "\n",
        "# Standard Deviation (Population Standard Deviation)\n",
        "population_std_deviation = np.std(data)\n",
        "print(f\"Population Standard Deviation: {population_std_deviation:.2f}\")\n",
        "\n",
        "# Sample Variance and Sample Standard Deviation\n",
        "sample_variance = statistics.variance(data)\n",
        "sample_std_deviation = statistics.stdev(data)\n",
        "print(f\"Sample Variance: {sample_variance:.2f}\")\n",
        "print(f\"Sample Standard Deviation: {sample_std_deviation:.2f}\")\n",
        "\n",
        "# Interquartile Range (IQR)\n",
        "q1 = np.percentile(data, 25)\n",
        "q3 = np.percentile(data, 75)\n",
        "iqr = q3 - q1\n",
        "print(f\"Interquartile Range (IQR): {iqr}\")\n"
      ],
      "metadata": {
        "colab": {
          "base_uri": "https://localhost:8080/"
        },
        "id": "TdQq5thdzDjC",
        "outputId": "138fe95a-88f3-41cf-d8eb-4de698593cb6"
      },
      "execution_count": null,
      "outputs": [
        {
          "output_type": "stream",
          "name": "stdout",
          "text": [
            "Range: 38\n",
            "Population Variance: 139.64\n",
            "Population Standard Deviation: 11.82\n",
            "Sample Variance: 153.60\n",
            "Sample Standard Deviation: 12.39\n",
            "Interquartile Range (IQR): 17.5\n"
          ]
        }
      ]
    },
    {
      "cell_type": "markdown",
      "source": [
        "4. Define probability and discuss its importance in statistics.\n",
        "\n",
        "Probability is a fundamental concept in mathematics and statistics that quantifies the likelihood or chance of an event occurring. Probability is expressed as a number between 0 and 1, where 0 represents an impossible event, 1 represents a certain event, and values between 0 and 1 represent the degree of uncertainty.\n",
        "\n",
        "Probability is a cornerstone of statistics, providing the tools to quantify uncertainty, make predictions, analyze data, and make informed decisions in the face of randomness and uncertainty.\n",
        "\n",
        "It is a vital concept in a wide range of fields and applications, making it essential for understanding and interpreting data and making informed choices."
      ],
      "metadata": {
        "id": "nEw2Z8GlzRUi"
      }
    },
    {
      "cell_type": "code",
      "source": [
        "import random\n",
        "\n",
        "# Define the sample space (outcomes of rolling a fair die)\n",
        "sample_space = [1, 2, 3, 4, 5, 6]\n",
        "\n",
        "# Define the event (rolling a 4)\n",
        "event = 4\n",
        "\n",
        "# Number of trials (rolls)\n",
        "num_trials = 10000\n",
        "\n",
        "# Initialize a counter for the number of successful events\n",
        "count = 0\n",
        "\n",
        "# Simulate rolling the die num_trials times\n",
        "for _ in range(num_trials):\n",
        "    # Randomly select an outcome from the sample space\n",
        "    outcome = random.choice(sample_space)\n",
        "\n",
        "    # Check if the outcome matches the event\n",
        "    if outcome == event:\n",
        "        count += 1\n",
        "\n",
        "# Calculate the probability of rolling a 4\n",
        "probability = count / num_trials\n",
        "\n",
        "print(f\"Simulated Probability of Rolling a 4: {probability:.4f}\")\n",
        "print(f\"Theoretical Probability of Rolling a 4: {1/6:.4f}\")\n"
      ],
      "metadata": {
        "colab": {
          "base_uri": "https://localhost:8080/"
        },
        "id": "N5IUzQlBzqDJ",
        "outputId": "87f8f402-3c8a-4273-e8bb-098703efda2c"
      },
      "execution_count": null,
      "outputs": [
        {
          "output_type": "stream",
          "name": "stdout",
          "text": [
            "Simulated Probability of Rolling a 4: 0.1593\n",
            "Theoretical Probability of Rolling a 4: 0.1667\n"
          ]
        }
      ]
    },
    {
      "cell_type": "markdown",
      "source": [
        "\n",
        "."
      ],
      "metadata": {
        "id": "ZOd_iueWvwD6"
      }
    },
    {
      "cell_type": "markdown",
      "source": [
        "5. What are composite events? Provide an example to illustrate\n",
        "\n",
        "Composite events, in probability and statistics, are events that are formed by combining two or more elementary events.\n",
        "\n",
        "Elementary events are the most basic and indivisible outcomes in a sample space. Composite events can be created through logical operations such as \"and\" (intersection), \"or\" (union), or \"not\" (complement) applied to elementary events. Understanding composite events is essential for analyzing complex probabilistic scenarios."
      ],
      "metadata": {
        "id": "pBY8ki8gz0Yw"
      }
    },
    {
      "cell_type": "code",
      "source": [
        "import random\n",
        "\n",
        "# Define the sample space for tossing a fair coin (H for heads, T for tails)\n",
        "coin_sample_space = [\"H\", \"T\"]\n",
        "\n",
        "# Number of trials\n",
        "num_trials = 10000\n",
        "\n",
        "# Initialize a counter for successful events (at least one head)\n",
        "success_count = 0\n",
        "\n",
        "# Simulate tossing two coins num_trials times\n",
        "for _ in range(num_trials):\n",
        "    # Randomly select outcomes for two coin tosses\n",
        "    coin1 = random.choice(coin_sample_space)\n",
        "    coin2 = random.choice(coin_sample_space)\n",
        "\n",
        "    # Check if at least one of the coins shows heads (H)\n",
        "    if coin1 == \"H\" or coin2 == \"H\":\n",
        "        success_count += 1\n",
        "\n",
        "# Calculate the probability of getting at least one head\n",
        "probability = success_count / num_trials\n",
        "\n",
        "print(f\"Simulated Probability of At Least One Head: {probability:.4f}\")\n"
      ],
      "metadata": {
        "colab": {
          "base_uri": "https://localhost:8080/"
        },
        "id": "zKca37ftz9fh",
        "outputId": "03eb533c-deff-450b-cdb3-dc18a650544b"
      },
      "execution_count": null,
      "outputs": [
        {
          "output_type": "stream",
          "name": "stdout",
          "text": [
            "Simulated Probability of At Least One Head: 0.7527\n"
          ]
        }
      ]
    },
    {
      "cell_type": "markdown",
      "source": [
        "6. Explain empirical probability and how it is calculated\n",
        "\n",
        "Empirical probability, also known as experimental probability, is a probability estimate based on observed data or outcomes from an experiment or real-world observations.\n",
        "\n",
        "It is calculated by dividing the number of favorable outcomes (events of interest) by the total number of trials or observations. Empirical probability provides an approximation of the true or theoretical probability based on empirical evidence."
      ],
      "metadata": {
        "id": "4kRbRkBK0LLZ"
      }
    },
    {
      "cell_type": "code",
      "source": [
        "import random\n",
        "\n",
        "# Define the number of trials (rolls)\n",
        "num_trials = 10000\n",
        "\n",
        "# Initialize a counter for favorable outcomes (rolling a 6)\n",
        "favorable_outcomes = 0\n",
        "\n",
        "# Simulate rolling a fair six-sided die num_trials times\n",
        "for _ in range(num_trials):\n",
        "    # Randomly roll the die (generate a number between 1 and 6)\n",
        "    roll = random.randint(1, 6)\n",
        "\n",
        "    # Check if the roll resulted in a 6 (favorable outcome)\n",
        "    if roll == 6:\n",
        "        favorable_outcomes += 1\n",
        "\n",
        "# Calculate the empirical probability of rolling a 6\n",
        "empirical_probability = favorable_outcomes / num_trials\n",
        "\n",
        "print(f\"Empirical Probability of Rolling a 6: {empirical_probability:.4f}\")\n"
      ],
      "metadata": {
        "colab": {
          "base_uri": "https://localhost:8080/"
        },
        "id": "ZO7u18aN0RDP",
        "outputId": "06aadaba-a33f-4ced-9fce-15c14cab6a31"
      },
      "execution_count": null,
      "outputs": [
        {
          "output_type": "stream",
          "name": "stdout",
          "text": [
            "Empirical Probability of Rolling a 6: 0.1614\n"
          ]
        }
      ]
    },
    {
      "cell_type": "markdown",
      "source": [
        "7. List and explain the probability axioms.\n",
        "\n",
        "Probability axioms, also known as the axioms of probability or the Kolmogorov axioms, are fundamental principles that provide the foundation for the mathematical theory of probability. These axioms define the rules and properties that probabilities must adhere to. There are three main probability axioms:\n",
        "\n",
        "Non-Negativity Axiom:\n",
        "\n",
        "Probability values must be non-negative; that is, the probability of any event cannot be less than zero.\n",
        "\n",
        "Additivity Axiom (Countable Additivity):\n",
        "\n",
        "The probability of the union of two mutually exclusive events (events that cannot occur simultaneously) is equal to the sum of their individual probabilities.\n",
        "\n",
        "Normalization Axiom (Total Probability Axiom):\n",
        "\n",
        "The probability of the entire sample space (the set of all possible outcomes) is equal to 1.\n",
        "\n",
        "These three axioms provide the mathematical basis for the concept of probability and are essential for developing a consistent and coherent probability theory. They ensure that probabilities are well-defined, consistent, and interpretable, allowing us to reason about uncertainty and randomness in a formal and rigorous way."
      ],
      "metadata": {
        "id": "0tz0mKzv0UfM"
      }
    },
    {
      "cell_type": "code",
      "source": [
        "import numpy as np\n",
        "\n",
        "# Define a sample space with three equally likely outcomes\n",
        "sample_space = [\"A\", \"B\", \"C\"]\n",
        "\n",
        "# Calculate the probability of each outcome (equally likely)\n",
        "individual_probabilities = 1 / len(sample_space)\n",
        "\n",
        "# Calculate the probability of the entire sample space (sum of individual probabilities)\n",
        "total_probability = np.sum([individual_probabilities])\n",
        "\n",
        "# Check if the total probability equals 1 (Normalization Axiom)\n",
        "if np.isclose(total_probability, 1):\n",
        "    print(\"Normalization Axiom holds: The total probability equals 1.\")\n",
        "else:\n",
        "    print(\"Normalization Axiom does not hold.\")\n"
      ],
      "metadata": {
        "colab": {
          "base_uri": "https://localhost:8080/"
        },
        "id": "aCLKRA9H0yGX",
        "outputId": "7f841ed0-608b-40a3-f77a-8f075d7edcfa"
      },
      "execution_count": null,
      "outputs": [
        {
          "output_type": "stream",
          "name": "stdout",
          "text": [
            "Normalization Axiom does not hold.\n"
          ]
        }
      ]
    },
    {
      "cell_type": "markdown",
      "source": [
        "8. Define conditional probability and provide an example to illustrate its calculation.\n",
        "\n",
        "Conditional probability is a concept in probability theory that quantifies the likelihood of an event occurring given that another event has already occurred. It provides a way to update our probability assessments based on new information or conditions.\n",
        "\n",
        "Formula:\n",
        "\n",
        "P(A∣B)=\n",
        "P(B)\n",
        "P(A∩B)"
      ],
      "metadata": {
        "id": "awzewlEE08Z2"
      }
    },
    {
      "cell_type": "code",
      "source": [
        "# Number of cards in a standard deck\n",
        "total_cards = 52\n",
        "\n",
        "# Number of Aces in the deck\n",
        "aces = 4\n",
        "\n",
        "# Number of Spades in the deck\n",
        "spades = 13\n",
        "\n",
        "# Calculate the probability of drawing an Ace (P(A))\n",
        "probability_ace = aces / total_cards\n",
        "\n",
        "# Calculate the probability of drawing a Spade (P(B))\n",
        "probability_spade = spades / total_cards\n",
        "\n",
        "# Calculate the joint probability of drawing both an Ace and a Spade (P(A ∩ B))\n",
        "joint_probability = (aces / total_cards) * (spades / total_cards)\n",
        "\n",
        "# Calculate the conditional probability of drawing an Ace given that we have drawn a Spade (P(A|B))\n",
        "conditional_probability = joint_probability / probability_spade\n",
        "\n",
        "print(f\"Probability of drawing an Ace (P(A)): {probability_ace:.4f}\")\n",
        "print(f\"Probability of drawing a Spade (P(B)): {probability_spade:.4f}\")\n",
        "print(f\"Conditional Probability of drawing an Ace given a Spade (P(A|B)): {conditional_probability:.4f}\")\n"
      ],
      "metadata": {
        "colab": {
          "base_uri": "https://localhost:8080/"
        },
        "id": "CLpQN-Ql0yg4",
        "outputId": "a9bfe823-e971-46d7-b366-6ca0bd925ae6"
      },
      "execution_count": null,
      "outputs": [
        {
          "output_type": "stream",
          "name": "stdout",
          "text": [
            "Probability of drawing an Ace (P(A)): 0.0769\n",
            "Probability of drawing a Spade (P(B)): 0.2500\n",
            "Conditional Probability of drawing an Ace given a Spade (P(A|B)): 0.0769\n"
          ]
        }
      ]
    },
    {
      "cell_type": "markdown",
      "source": [
        "9. Explain Bayes' Theorem and how it is applied in statistical inference.\n",
        "\n",
        "Bayes' Theorem provides a way to update or revise probability estimates for a hypothesis (an event or statement) based on new evidence or data.\n",
        "\n",
        "Bayes' Theorem is particularly important in statistical inference, where it allows us to make inferences about uncertain events or parameters.\n",
        "\n",
        "The theorem relates two conditional probabilities:\n",
        "\n",
        "Prior Probability (Prior): This is the initial probability estimate for a hypothesis before new evidence is considered.\n",
        "\n",
        "Posterior Probability (Posterior): This is the updated probability estimate for the hypothesis after considering new evidence or data.\n",
        "\n",
        "Likelihood (Likelihood): This term quantifies the probability of observing the data given that the hypothesis is true.\n",
        "\n",
        "Marginal Likelihood (Evidence): This term represents the overall probability of observing the data, regardless of the specific hypothesis."
      ],
      "metadata": {
        "id": "_iuVeO3r1aHZ"
      }
    },
    {
      "cell_type": "code",
      "source": [
        "# Let's illustrate Bayes' Theorem with a simple example in Python.\n",
        "#Suppose we have a medical diagnostic scenario where we want to calculate the probability of a patient having a disease given the results of a diagnostic test.\n",
        "\n",
        "\n",
        "# Prior probability of disease (1% of the population)\n",
        "prior_probability_disease = 0.01\n",
        "\n",
        "# Sensitivity of the diagnostic test (probability of a positive test given disease)\n",
        "sensitivity = 0.95\n",
        "\n",
        "# Specificity of the diagnostic test (probability of a negative test given no disease)\n",
        "specificity = 0.90\n",
        "\n",
        "# Calculate the probability of no disease (complement of disease)\n",
        "probability_no_disease = 1 - prior_probability_disease\n",
        "\n",
        "# Calculate the probability of a positive test result given no disease\n",
        "probability_positive_test_given_no_disease = 1 - specificity\n",
        "\n",
        "# Apply Bayes' Theorem to calculate the posterior probability of disease given a positive test\n",
        "posterior_probability_disease_given_positive_test = (\n",
        "    (sensitivity * prior_probability_disease)\n",
        "    / ((sensitivity * prior_probability_disease) + (probability_positive_test_given_no_disease * probability_no_disease))\n",
        ")\n",
        "\n",
        "print(f\"Posterior Probability of Disease Given Positive Test: {posterior_probability_disease_given_positive_test:.4f}\")\n"
      ],
      "metadata": {
        "colab": {
          "base_uri": "https://localhost:8080/"
        },
        "id": "BLcTcWCc2bym",
        "outputId": "82f748b1-21f0-4cc7-ef4d-5cd0700add7e"
      },
      "execution_count": null,
      "outputs": [
        {
          "output_type": "stream",
          "name": "stdout",
          "text": [
            "Posterior Probability of Disease Given Positive Test: 0.0876\n"
          ]
        }
      ]
    },
    {
      "cell_type": "markdown",
      "source": [
        "10. Describe the probability distributions and random variables. Discuss the characteristics of discrete probability distributions.\n",
        "\n",
        "Probability Distributions:\n",
        "\n",
        "Probability distribution describes how the probabilities of different outcomes are distributed across a set of possible events or values.\n",
        "\n",
        "It provides a mathematical model that specifies the likelihood of each possible outcome occurring. Probability distributions are essential for understanding and analyzing random phenomena in various fields, including statistics, data science, and machine learning.\n",
        "\n",
        "Two main types of probability distributions are:\n",
        "\n",
        "i) Discrete Probability Distribution\n",
        "\n",
        "ii) Continuous Probability Distribution\n",
        "\n",
        "Random Variables:\n",
        "\n",
        "A random variable is a variable that can take on different values in a random process. It assigns numerical values to the outcomes of a random experiment, making it a function that maps the sample space to the real numbers. Random variables can be either discrete or continuous, depending on the nature of the outcomes they represent.\n",
        "\n",
        "\n",
        "\n",
        "Characteristics of Discrete Probability Distributions:\n",
        "\n",
        "\n",
        "i) Countable Outcomes: In discrete distributions, the set of possible outcomes is countable, meaning it consists of distinct and separate values. For example, the number of heads obtained when flipping a coin multiple times can only be 0, 1, 2, and so on.\n",
        "\n",
        "ii) Probability Mass Function (PMF): A discrete distribution is characterized by its probability mass function (PMF), which specifies the probability of each possible outcome. The PMF maps each outcome to its associated probability.\n",
        "\n",
        "iii) Finite or Infinite Support: Discrete distributions can have finite or infinite support. Finite support means that there are a limited number of possible outcomes, while infinite support means that the number of possible outcomes is unbounded.\n",
        "\n",
        "iv) Probability Sums to 1: The sum of the probabilities for all possible outcomes in a discrete distribution equals 1. This property ensures that all possible events are covered.\n",
        "\n",
        "v) Mean (Expectation): The mean or expected value of a discrete distribution, denoted as E(X), represents the weighted average of the possible outcomes, where each outcome is weighted by its probability.\n",
        "\n",
        "vi) ariance: The variance of a discrete distribution, denoted as Var(X), measures the spread or variability of the outcomes around the mean. It quantifies how much the random variable deviates from its expected value.\n",
        "\n",
        "vii) Probability Function Graph: Discrete probability distributions are often visualized using bar charts or probability mass function graphs, where each bar represents an outcome and its height represents the associated probability."
      ],
      "metadata": {
        "id": "qUcPYxnb2toR"
      }
    },
    {
      "cell_type": "code",
      "source": [
        "# In this example, we'll calculate and visualize the probability mass function (PMF), mean (expectation), and variance of a binomial distribution.\n",
        "\n",
        "import numpy as np\n",
        "import matplotlib.pyplot as plt\n",
        "from scipy.stats import binom\n",
        "\n",
        "# Define parameters for the binomial distribution\n",
        "n = 10  # Number of trials\n",
        "p = 0.3  # Probability of success in each trial\n",
        "\n",
        "# Generate a range of possible outcomes (number of successes)\n",
        "x = np.arange(0, n+1)\n",
        "\n",
        "# Calculate the PMF (probability mass function) for each possible outcome\n",
        "pmf = binom.pmf(x, n, p)\n",
        "\n",
        "# Calculate the mean (expectation) of the binomial distribution\n",
        "mean = binom.mean(n, p)\n",
        "\n",
        "# Calculate the variance of the binomial distribution\n",
        "variance = binom.var(n, p)\n",
        "\n",
        "# Plot the PMF\n",
        "plt.bar(x, pmf, align='center', alpha=0.5)\n",
        "plt.xlabel('Number of Successes')\n",
        "plt.ylabel('Probability')\n",
        "plt.title('Binomial Distribution PMF (n=10, p=0.3)')\n",
        "plt.xticks(x)\n",
        "plt.grid(axis='y')\n",
        "\n",
        "# Print the mean and variance\n",
        "print(f\"Mean (Expectation): {mean:.2f}\")\n",
        "print(f\"Variance: {variance:.2f}\")\n",
        "\n",
        "plt.show()\n"
      ],
      "metadata": {
        "colab": {
          "base_uri": "https://localhost:8080/",
          "height": 509
        },
        "id": "Eeay4OFX3_Oz",
        "outputId": "74178be8-5321-4191-82b1-5b1989a41152"
      },
      "execution_count": null,
      "outputs": [
        {
          "output_type": "stream",
          "name": "stdout",
          "text": [
            "Mean (Expectation): 3.00\n",
            "Variance: 2.10\n"
          ]
        },
        {
          "output_type": "display_data",
          "data": {
            "text/plain": [
              "<Figure size 640x480 with 1 Axes>"
            ],
            "image/png": "[encoded data removed]"
          },
          "metadata": {}
        }
      ]
    }
  ]
}