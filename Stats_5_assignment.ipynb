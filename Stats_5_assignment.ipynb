{
  "nbformat": 4,
  "nbformat_minor": 0,
  "metadata": {
    "colab": {
      "provenance": []
    },
    "kernelspec": {
      "name": "python3",
      "display_name": "Python 3"
    },
    "language_info": {
      "name": "python"
    }
  },
  "cells": [
    {
      "cell_type": "markdown",
      "source": [
        "Q1.: Consider the following situation and state which test statistics and hypotheses test can be used.\n",
        "Suppose we observe samples from a normal distribution, where the variance is unknown. We want\n",
        "to check whether the mean is greater than μ. What test statistics and test can be applied for this\n",
        "situation?\n"
      ],
      "metadata": {
        "id": "u7RP1phT1JtT"
      }
    },
    {
      "cell_type": "markdown",
      "source": [
        "As per the given condition, we can use T-test (more specifically one tailed T-Test) because of the following reason:\n",
        "1.\tVariance is unknown, means relatively STD is also unknown.\n",
        "2.\tNormal distribution of the data, which is one of the assumption for T-test.\n",
        "3.\tOne tailed because we want to check the relationship between variable in a single direction i.e., either left or right and are not looking for any specific value.  \n"
      ],
      "metadata": {
        "id": "UsqSh9QCS_of"
      }
    },
    {
      "cell_type": "markdown",
      "source": [
        "Q2.: The density function of a continuous random variable X is given by\n",
        "\n",
        "fX(x) = {\n",
        "k − x, 0 < x < 1,\n",
        "0, otherwise.\n",
        "\n",
        "Find the value of k, FX(0.5)?\n"
      ],
      "metadata": {
        "id": "AANS8SX81P_f"
      }
    },
    {
      "cell_type": "code",
      "source": [
        "import sympy as sp\n",
        "\n",
        "# Define the symbol x and the constant k\n",
        "x = sp.symbols('x')\n",
        "k = sp.symbols('k')\n",
        "\n",
        "# Define the PDF f_X(x)\n",
        "f_X = k - x\n",
        "\n",
        "# Define the limits of integration\n",
        "a = 0\n",
        "b = 1\n",
        "\n",
        "# Calculate the integral of f_X(x) from 0 to 1\n",
        "integral = sp.integrate(f_X, (x, a, b))\n",
        "\n",
        "# Set up the equation to solve for k: Integral = 1 (PDF must integrate to 1)\n",
        "equation = sp.Eq(integral, 1)\n",
        "\n",
        "# Solve for k\n",
        "solutions = sp.solve(equation, k)\n",
        "\n",
        "# Calculate the CDF F_X(0.5) using the computed k\n",
        "cdf_x = sp.integrate(f_X, (x, a, 0.5)).subs(k, solutions[0])\n",
        "\n",
        "# Print the value of k and F_X(0.5)\n",
        "print(\"Value of k:\", solutions[0])\n",
        "print(\"F_X(0.5):\", cdf_x)\n"
      ],
      "metadata": {
        "id": "NvT3Y3cg2F7f",
        "colab": {
          "base_uri": "https://localhost:8080/"
        },
        "outputId": "8b1f7cc2-48e6-4e74-be46-824f3bbf2d8c"
      },
      "execution_count": null,
      "outputs": [
        {
          "output_type": "stream",
          "name": "stdout",
          "text": [
            "Value of k: 3/2\n",
            "F_X(0.5): 0.625000000000000\n"
          ]
        }
      ]
    },
    {
      "cell_type": "markdown",
      "source": [
        "Q3.: A factory has a machine that dispenses 98.5 ml of liquid in a bottle. An employee believes that\n",
        "the average amount of liquid in a bottle is less than 98.5 ml. He took a sample of 100 random bottles\n",
        "from the factory and found out that the average amount of liquid in a bottle is 98.29 ml with a\n",
        "standard deviation of 1.2 ml. Define Null and Alternate Hypothesis and at which level of significance\n",
        "we have to accept Null hypothesis.\n"
      ],
      "metadata": {
        "id": "dch0SbAc1TX1"
      }
    },
    {
      "cell_type": "markdown",
      "source": [
        "1. Null Hypothesis (H0): The average amount of liquid in each bottle is equal to or greater than 98.5 ml.\n",
        "2. Alternative Hypothesis (Ha): The average amount of liquid in each bottle is less than 98.5 ml.\n",
        "3.\tLevel of significance (alpha) = 0.05 (i.e. 5%)"
      ],
      "metadata": {
        "id": "OyTnLYWMVwTo"
      }
    },
    {
      "cell_type": "markdown",
      "source": [
        "Q4: A six sided die is marked ‘1’ on one face, ‘2’ on two of its faces, and ‘3’ on the remaining three\n",
        "faces. The die is thrown twice. Let X denotes the total score in two throws. What is the PMF for X.\n"
      ],
      "metadata": {
        "id": "V8ApKak31aIz"
      }
    },
    {
      "cell_type": "code",
      "source": [
        "# Define the possible values of X and their probabilities\n",
        "pmf = {\n",
        "    2: 1/36,\n",
        "    3: 4/36,\n",
        "    4: 9/36,\n",
        "    5: 12/36,\n",
        "    6: 9/36\n",
        "}\n",
        "\n",
        "# Display the PMF\n",
        "for value, probability in pmf.items():\n",
        "    print(f'P(X = {value}) = {probability:.4f}')\n"
      ],
      "metadata": {
        "id": "eoTKRp9-2HpM",
        "colab": {
          "base_uri": "https://localhost:8080/"
        },
        "outputId": "597d3c92-b671-4adc-b334-30a57941c79c"
      },
      "execution_count": null,
      "outputs": [
        {
          "output_type": "stream",
          "name": "stdout",
          "text": [
            "P(X = 2) = 0.0278\n",
            "P(X = 3) = 0.1111\n",
            "P(X = 4) = 0.2500\n",
            "P(X = 5) = 0.3333\n",
            "P(X = 6) = 0.2500\n"
          ]
        }
      ]
    },
    {
      "cell_type": "markdown",
      "source": [
        "Q5.: A pharmaceutical company is testing a new drug. The probability that a patient experiencing a\n",
        "side effect from this drug is 0.10. If the drug is given to 5 patients, what is the probability that more\n",
        "than 1 patient will experience the side effect\n"
      ],
      "metadata": {
        "id": "LUwlF0771csR"
      }
    },
    {
      "cell_type": "code",
      "source": [
        "from scipy.stats import binom\n",
        "\n",
        "# Given data\n",
        "p = 0.10  # Probability of side effect\n",
        "n = 5     # Number of patients\n",
        "\n",
        "# Calculate the probabilities for k = 2, 3, 4, 5\n",
        "prob_more_than_1 = sum(binom.pmf(k, n, p,) for k in range(2, n + 1))\n",
        "\n",
        "print(\"Probability that more than 1 patient will experience the side effect:\", prob_more_than_1)\n"
      ],
      "metadata": {
        "id": "QTc8odjV2Ipq",
        "colab": {
          "base_uri": "https://localhost:8080/"
        },
        "outputId": "ccfcc681-b664-4cd2-fbbc-a043203025ad"
      },
      "execution_count": null,
      "outputs": [
        {
          "output_type": "stream",
          "name": "stdout",
          "text": [
            "Probability that more than 1 patient will experience the side effect: 0.08145999999999992\n"
          ]
        }
      ]
    },
    {
      "cell_type": "markdown",
      "source": [
        "Q6: Find the Eigen Vectors of the matrix A.\n",
        "\n",
        "A = [\n",
        "\n",
        "1 1 −2\n",
        "\n",
        "−1 2 1\n",
        "\n",
        "0 1 −1\n",
        "\n",
        "]\n"
      ],
      "metadata": {
        "id": "w6RlcxdN1gI0"
      }
    },
    {
      "cell_type": "code",
      "source": [
        "from numpy.linalg import eig\n",
        "\n",
        "a = np.array([[1,1,-2],[-1,2,1],[0,1,-1]])\n",
        "value, vector = eig(a)\n",
        "\n",
        "print('Eigen value :\\n',value)\n",
        "print('\\nEigen vector :\\n', vector)"
      ],
      "metadata": {
        "id": "PLuMRVxJ2JNi",
        "colab": {
          "base_uri": "https://localhost:8080/"
        },
        "outputId": "a2b21000-197f-47c2-b44a-db9d17d69f7f"
      },
      "execution_count": null,
      "outputs": [
        {
          "output_type": "stream",
          "name": "stdout",
          "text": [
            "Eigen value :\n",
            " [ 2.  1. -1.]\n",
            "\n",
            "Eigen vector :\n",
            " [[ 3.01511345e-01 -8.01783726e-01  7.07106781e-01]\n",
            " [ 9.04534034e-01 -5.34522484e-01 -2.24345647e-16]\n",
            " [ 3.01511345e-01 -2.67261242e-01  7.07106781e-01]]\n"
          ]
        }
      ]
    },
    {
      "cell_type": "markdown",
      "source": [
        "Q7: Find the IQR of the data : 15,21,41,25 and 19.\n"
      ],
      "metadata": {
        "id": "MyOw6scO1jI-"
      }
    },
    {
      "cell_type": "code",
      "source": [
        "data = [15,21,51,25,19]\n",
        "\n",
        "q1 = np.percentile(data, 25)\n",
        "q3 = np.percentile(data, 75)\n",
        "\n",
        "print('IQR :', q3-q1)"
      ],
      "metadata": {
        "id": "5ROyY77i2J5W",
        "colab": {
          "base_uri": "https://localhost:8080/"
        },
        "outputId": "33d870a8-3a1d-4b26-af80-c706acacec69"
      },
      "execution_count": null,
      "outputs": [
        {
          "output_type": "stream",
          "name": "stdout",
          "text": [
            "IQR : 6.0\n"
          ]
        }
      ]
    },
    {
      "cell_type": "markdown",
      "source": [
        "Q8: Find Mean, Median and Mode of the following data?\n",
        "\n",
        "Class Interval\n",
        "\n",
        "0-10 10-20 20-30 30-40 40-50 50-60 60-70\n",
        "\n",
        "Frequency\n",
        "\n",
        "8 12 10 8 3 2 7\n"
      ],
      "metadata": {
        "id": "FmesiTLG1nTS"
      }
    },
    {
      "cell_type": "code",
      "source": [
        "from statistics import mean, median, mode\n",
        "\n",
        "c_i = ['0-10', '10-20', '20-30', '30-40', '40-50', '50-60', '60-70']\n",
        "f_i = [8, 12, 10, 8, 3, 2, 7]\n",
        "\n",
        "mid =  [(int(i.split('-')[0]) + int(i.split('-')[1])) / 2 for i in c_i]\n",
        "\n",
        "da = []\n",
        "for j in range(len(c_i)):\n",
        "  da.extend([mid[j]] *f_i[j])\n",
        "\n",
        "print('Mean :', mean(da))\n",
        "print('Median :', median(da))\n",
        "print('Mode :', mode(da))"
      ],
      "metadata": {
        "id": "dYfcJNRN2Ka9",
        "colab": {
          "base_uri": "https://localhost:8080/"
        },
        "outputId": "5e253b66-9ba5-470f-8dbe-963c3f451e4c"
      },
      "execution_count": null,
      "outputs": [
        {
          "output_type": "stream",
          "name": "stdout",
          "text": [
            "Mean : 29.0\n",
            "Median : 25.0\n",
            "Mode : 15.0\n"
          ]
        }
      ]
    },
    {
      "cell_type": "markdown",
      "source": [
        "Q9.: Find the Karl Persons Coefficient of Correlation for the following data:\n",
        "\n",
        "Measurement\n",
        "\n",
        "10 11 12 13 14 15\n",
        "\n",
        "Frequency\n",
        "\n",
        "2 4 10 8 5 1\n"
      ],
      "metadata": {
        "id": "Bhf84TO81qnM"
      }
    },
    {
      "cell_type": "code",
      "source": [
        "Measurement = [10, 11, 12, 13, 14, 15]\n",
        "Frequency = [2, 4, 10, 8, 5, 1]\n",
        "\n",
        "print('Coefficient of Correlation :',np.corrcoef(Measurement, Frequency)[0,1])"
      ],
      "metadata": {
        "id": "axS2-RUz2LES",
        "colab": {
          "base_uri": "https://localhost:8080/"
        },
        "outputId": "6a304d96-55b4-4071-e1f8-cc8d1efe65e4"
      },
      "execution_count": null,
      "outputs": [
        {
          "output_type": "stream",
          "name": "stdout",
          "text": [
            "Coefficient of Correlation : -0.06172133998483677\n"
          ]
        }
      ]
    },
    {
      "cell_type": "markdown",
      "source": [
        "\n",
        "Q10.: A company has two plants to manufacture scooters. Plant-I manufactures 80% of the scooters\n",
        "and plant -II manufactures20%. At plant-I 85 out of 100 scooters are rated standard quality or better.\n",
        "At plant -II, only 65 out of 100 scooters are rated standard quality or better. What is the probability\n",
        "scooter selected at random came from plant -I , if it is known that the scooter is of standard quality?\n",
        "\n"
      ],
      "metadata": {
        "id": "iHNMu7K31syk"
      }
    },
    {
      "cell_type": "code",
      "source": [
        "# Given probabilities\n",
        "P_Plant_I = 0.80\n",
        "P_Plant_II = 0.20\n",
        "P_Standard_Quality_Plant_I = 0.85\n",
        "P_Standard_Quality_Plant_II = 0.65\n",
        "\n",
        "# Calculate P(Standard Quality)\n",
        "P_Standard_Quality = (P_Standard_Quality_Plant_I * P_Plant_I) + (P_Standard_Quality_Plant_II * P_Plant_II)\n",
        "\n",
        "# Calculate P(Plant-I | Standard Quality) using Bayes' theorem\n",
        "P_Plant_I_Standard_Quality = (P_Standard_Quality_Plant_I * P_Plant_I) / P_Standard_Quality\n",
        "\n",
        "print(\"Probability that the scooter came from Plant-I given it is of standard quality:\", P_Plant_I_Standard_Quality)\n"
      ],
      "metadata": {
        "id": "F_YUwtc82LlJ",
        "colab": {
          "base_uri": "https://localhost:8080/"
        },
        "outputId": "5b72dffd-ed20-43cf-e986-71214ade4004"
      },
      "execution_count": null,
      "outputs": [
        {
          "output_type": "stream",
          "name": "stdout",
          "text": [
            "Probability that the scooter came from Plant-I given it is of standard quality: 0.8395061728395061\n"
          ]
        }
      ]
    },
    {
      "cell_type": "markdown",
      "source": [
        "Q11: A die was thrown 9000 times and of these 3220 yielded a 3 or 4. Can the die be regarded as\n",
        "unbiased.\n",
        "\n"
      ],
      "metadata": {
        "id": "kESGj4xr1veV"
      }
    },
    {
      "cell_type": "code",
      "source": [
        "#H_o = The die can be regarded as unbiased\n",
        "#H_a = The die is biased\n",
        "\n",
        "from scipy import stats\n",
        "\n",
        "total_throws = 9000\n",
        "observed_3_or_4 = 3220\n",
        "alpha = 0.05\n",
        "\n",
        "# Expected frequency for each outcome for a fair die\n",
        "expected_frequency = total_throws * 2 / 6  # There are 2 favorable outcomes (3 and 4) out of 6 possible outcomes\n",
        "\n",
        "chi_squared = ((observed_3_or_4 - expected_frequency) ** 2) / expected_frequency\n",
        "degrees_of_freedom = 1  # Two categories (3 and 4) minus 1\n",
        "p_value = 1 - stats.chi2.cdf(chi_squared, df=degrees_of_freedom)\n",
        "\n",
        "if p_value < alpha:\n",
        "    print(\"Reject Null Hypothesis: The die is biased.\")\n",
        "else:\n",
        "    print(\"Fail to Reject Null Hypothesis: The die can be regarded as unbiased.\")\n"
      ],
      "metadata": {
        "id": "m-4feVd42MYr",
        "colab": {
          "base_uri": "https://localhost:8080/"
        },
        "outputId": "f81db8af-6396-417d-ac62-9bfaa3c1f881"
      },
      "execution_count": null,
      "outputs": [
        {
          "output_type": "stream",
          "name": "stdout",
          "text": [
            "Reject Null Hypothesis: The die is biased.\n"
          ]
        }
      ]
    },
    {
      "cell_type": "markdown",
      "source": [
        "Q1.: Calculate the variance of the following data?\n",
        "\n",
        "Class Interval\n",
        "\n",
        "0-10 10-20 20-30 30-40 40-50 50-60 60-70\n",
        "\n",
        "Frequency\n",
        "\n",
        "8 12 10 8 3 2 7\n"
      ],
      "metadata": {
        "id": "VVdEcdZA1xt1"
      }
    },
    {
      "cell_type": "code",
      "source": [
        "# Given data\n",
        "class_interval = ['0-10', '10-20', '20-30', '30-40', '40-50', '50-60', '60-70']\n",
        "freq = [8, 12, 10, 8, 3, 2, 7]\n",
        "\n",
        "midpoints = [(int(i.split('-')[0]) + int(i.split('-')[1])) / 2 for i in class_interval]\n",
        "\n",
        "d = []\n",
        "for j in range(len(class_interval)):\n",
        "  d.extend([midpoints[j]] *freq[j])\n",
        "\n",
        "print('Variance :',np.var(d))"
      ],
      "metadata": {
        "id": "xTGFShSV2NMi",
        "colab": {
          "base_uri": "https://localhost:8080/"
        },
        "outputId": "b1acc1fe-e61b-4475-d733-d51d5040242e"
      },
      "execution_count": null,
      "outputs": [
        {
          "output_type": "stream",
          "name": "stdout",
          "text": [
            "Variance : 372.0\n"
          ]
        }
      ]
    },
    {
      "cell_type": "markdown",
      "source": [
        "Q2: A manufacturer claimed that at least 95% of the equipment which he supplied to a factory\n",
        "conformed to specifications. An examination of a sample of 200 pieces of equipment revealed that\n",
        "18 were faulty. Test this claim at a significance level of 0.0.5 and 0.01.\n"
      ],
      "metadata": {
        "id": "GoES9vWL1z-D"
      }
    },
    {
      "cell_type": "code",
      "source": [
        "import scipy.stats as stats\n",
        "\n",
        "sample_size = 200\n",
        "faulty_count = 18\n",
        "claimed_proportion = 0.05\n",
        "\n",
        "#for alpha1 (0.05)\n",
        "alpha1 = 0.05\n",
        "result1 = stats.binomtest(faulty_count, n=sample_size, p=claimed_proportion, alternative='less')\n",
        "p_value1 = result1.pvalue               #'less' indicates a one-tailed test where you are testing whether\n",
        "                                        # the proportion of faulty equipment is less than the claimed proportion.\n",
        "\n",
        "#for alpha2 (0.01)\n",
        "alpha2 = 0.01\n",
        "result2 = stats.binomtest(faulty_count, n=sample_size, p=claimed_proportion, alternative='less')\n",
        "p_value2 = result2.pvalue\n",
        "\n",
        "if p_value1 < alpha1:\n",
        "    print(\"Reject Null Hypothesis at alpha =\", alpha1)\n",
        "    print(\"The proportion of faulty equipment is less than 5%.\")\n",
        "else:\n",
        "    print(\"Fail to Reject Null Hypothesis at alpha =\", alpha1)\n",
        "    print(\"There is no significant evidence that the proportion is less than 5.\")\n",
        "\n",
        "if p_value2 < alpha2:\n",
        "    print(\"\\nReject Null Hypothesis at alpha =\", alpha2)\n",
        "    print(\"The proportion of faulty equipment is less than 5%.\")\n",
        "else:\n",
        "    print(\"\\nFail to Reject Null Hypothesis at alpha =\", alpha2)\n",
        "    print(\"There is no significant evidence that the proportion is less than 5.\")\n",
        "\n",
        "print(\"\\nP-Value (alpha =\", alpha1, \"):\", p_value1)\n",
        "print(\"\\nP-Value (alpha =\", alpha2, \"):\", p_value2)\n"
      ],
      "metadata": {
        "id": "Asb2Nn8F2Noa",
        "colab": {
          "base_uri": "https://localhost:8080/"
        },
        "outputId": "65ae92c2-949e-4d89-903b-b9b3ccd17f09"
      },
      "execution_count": null,
      "outputs": [
        {
          "output_type": "stream",
          "name": "stdout",
          "text": [
            "Fail to Reject Null Hypothesis at alpha = 0.05\n",
            "There is no significant evidence that the proportion is less than 5.\n",
            "\n",
            "Fail to Reject Null Hypothesis at alpha = 0.01\n",
            "There is no significant evidence that the proportion is less than 5.\n",
            "\n",
            "P-Value (alpha = 0.05 ): 0.9941764420322093\n",
            "\n",
            "P-Value (alpha = 0.01 ): 0.9941764420322093\n"
          ]
        }
      ]
    },
    {
      "cell_type": "markdown",
      "source": [
        "Q3.: A die is rolled 100 times with the following distribution:\n",
        "\n",
        "Number\n",
        "\n",
        "1 2 3 4 5 6\n",
        "\n",
        "\n",
        "Observed frequency\n",
        "\n",
        "17 14 20 17 17 15\n",
        "\n",
        "At the 0.01 level of significance, determine whether die is true(or uniform)?(Hint : Use chi-square\n",
        "test)\n"
      ],
      "metadata": {
        "id": "Pf4kKIiu12E5"
      }
    },
    {
      "cell_type": "code",
      "source": [
        "import numpy as np\n",
        "from scipy import stats\n",
        "\n",
        "observed_frequencies = np.array([17, 14, 20, 17, 17, 15])\n",
        "total_rolls = 100\n",
        "alpha = 0.01\n",
        "\n",
        "expected_frequencies = np.array([total_rolls/6] * 6)\n",
        "\n",
        "chi_squared = np.sum((observed_frequencies - expected_frequencies)**2 / expected_frequencies)\n",
        "degrees_of_freedom = len(observed_frequencies) - 1\n",
        "p_value = 1 - stats.chi2.cdf(chi_squared, df=degrees_of_freedom)\n",
        "\n",
        "if p_value < alpha:\n",
        "    print(\"Reject Null Hypothesis: The die is not uniform (biased).\")\n",
        "else:\n",
        "    print(\"Fail to Reject Null Hypothesis: The die is uniform (true).\")\n"
      ],
      "metadata": {
        "id": "QK8fbcmn2OMG",
        "colab": {
          "base_uri": "https://localhost:8080/"
        },
        "outputId": "8ca01f3b-c541-49b8-d06c-9a9496f4ba89"
      },
      "execution_count": null,
      "outputs": [
        {
          "output_type": "stream",
          "name": "stdout",
          "text": [
            "Fail to Reject Null Hypothesis: The die is uniform (true).\n"
          ]
        }
      ]
    },
    {
      "cell_type": "markdown",
      "source": [
        "Q4: In a random sample of 400 persons from a large population,120 are females. Can it be said that\n",
        "males and females are in the ration 5:3 in the population? Use 1% level of significance?\n"
      ],
      "metadata": {
        "id": "unAyFrev14gE"
      }
    },
    {
      "cell_type": "code",
      "source": [
        "import numpy as np\n",
        "from scipy import stats\n",
        "\n",
        "sample_size = 400\n",
        "observed_females = 120\n",
        "expected_ratio = 5/3\n",
        "alpha = 0.01\n",
        "\n",
        "expected_females = (expected_ratio / (1 + expected_ratio)) * sample_size\n",
        "expected_males = sample_size - expected_females\n",
        "\n",
        "standard_error = np.sqrt((expected_males * expected_females) / (sample_size**2 * (sample_size - 1)))\n",
        "z_score = (observed_females - expected_females) / standard_error\n",
        "critical_z = stats.norm.ppf(1 - alpha/2)\n",
        "\n",
        "if abs(z_score) > critical_z:\n",
        "    print(\"Reject Null Hypothesis: The ratio of males to females is not 5:3 in the population.\")\n",
        "else:\n",
        "    print(\"Fail to Reject Null Hypothesis: The ratio of males to females is 5:3 in the population.\")\n"
      ],
      "metadata": {
        "id": "CRZf2PpK2O5m",
        "colab": {
          "base_uri": "https://localhost:8080/"
        },
        "outputId": "fcad3c35-661f-4824-ad02-230cc7133c43"
      },
      "execution_count": null,
      "outputs": [
        {
          "output_type": "stream",
          "name": "stdout",
          "text": [
            "Reject Null Hypothesis: The ratio of males to females is not 5:3 in the population.\n"
          ]
        }
      ]
    },
    {
      "cell_type": "code",
      "source": [
        "import statsmodels.api as sm\n",
        "\n",
        "# Given sample size and observed frequencies\n",
        "sample_size = 400\n",
        "observed_females = 120\n",
        "\n",
        "# Expected ratio of males to females in the population\n",
        "expected_ratio = 5/3\n",
        "\n",
        "# Perform the z-test for proportions\n",
        "z_stat, p_value = sm.stats.proportions_ztest(observed_females, sample_size, value=1/expected_ratio)\n",
        "\n",
        "# Two-tailed test, so we double the significance level for a one-tailed test (1% level)\n",
        "alpha = 0.01\n",
        "\n",
        "# Perform the hypothesis test\n",
        "if abs(z_stat) > stats.norm.ppf(1 - alpha/2):\n",
        "    print(\"Reject Null Hypothesis: The ratio of males to females is not 5:3 in the population.\")\n",
        "else:\n",
        "    print(\"Fail to Reject Null Hypothesis: The ratio of males to females is 5:3 in the population.\")\n"
      ],
      "metadata": {
        "colab": {
          "base_uri": "https://localhost:8080/"
        },
        "id": "TRWPBRZjX9ki",
        "outputId": "e19c55ee-45d8-4237-8684-49ac6403baf0"
      },
      "execution_count": null,
      "outputs": [
        {
          "output_type": "stream",
          "name": "stdout",
          "text": [
            "Reject Null Hypothesis: The ratio of males to females is not 5:3 in the population.\n"
          ]
        }
      ]
    },
    {
      "cell_type": "markdown",
      "source": [
        "Q5: Find the Eigen values and Eigen Vectors of the matrix A.\n",
        "\n",
        "A = [\n",
        "\n",
        "2 0 1\n",
        "\n",
        "0 2 0\n",
        "\n",
        "1 0 2\n",
        "\n",
        "]\n",
        "\n"
      ],
      "metadata": {
        "id": "gBy3fCCF16ci"
      }
    },
    {
      "cell_type": "code",
      "source": [
        "from numpy.linalg import eig\n",
        "\n",
        "a = np.array([[2,0,1],[0,2,0],[1,0,2]])\n",
        "value, vector = eig(a)\n",
        "\n",
        "print('Eigen Value :\\n',value)\n",
        "print('\\nEigen Vector :\\n',vector)"
      ],
      "metadata": {
        "id": "1__qC9pt2Q6C",
        "colab": {
          "base_uri": "https://localhost:8080/"
        },
        "outputId": "dcdc3da5-d5c2-460b-ee3d-ac2b5c402d2a"
      },
      "execution_count": null,
      "outputs": [
        {
          "output_type": "stream",
          "name": "stdout",
          "text": [
            "Eigen Value :\n",
            " [3. 1. 2.]\n",
            "\n",
            "Eigen Vector :\n",
            " [[ 0.70710678 -0.70710678  0.        ]\n",
            " [ 0.          0.          1.        ]\n",
            " [ 0.70710678  0.70710678  0.        ]]\n"
          ]
        }
      ]
    },
    {
      "cell_type": "markdown",
      "source": [
        "Q6.: Calculate the median, quartiles and the quartile coefficient of skewness from the following\n",
        "data?\n",
        "\n",
        "Weight\n",
        "\n",
        "70-80 80-9- 90-100 100-110 110-120 120-130 130-140 140-150\n",
        "\n",
        "No. of Persons:\n",
        "\n",
        "12 18 35 42 50 45 20 8\n"
      ],
      "metadata": {
        "id": "Stlb0Hep18Um"
      }
    },
    {
      "cell_type": "code",
      "source": [
        "Weight = ['70-80', '80-90', '90-100', '100-110', '110-120', '120-130', '130-140', '140-150']\n",
        "nu_person = [12, 18, 35, 42, 50, 45, 20, 8]\n",
        "\n",
        "midpoint_0 = [((int(k.split('-')[0])) + (int(k.split('-')[1])))/2  for k in Weight]\n",
        "\n",
        "data_0 = []\n",
        "for i in range(len(Weight)):\n",
        "  data_0.extend([midpoint_0[i]] * nu_person[i])\n",
        "\n",
        "median = np.median(data_0)\n",
        "Q1 = np.percentile(data_0, 25)\n",
        "Q2 = np.percentile(data_0, 50)\n",
        "Q3 = np.percentile(data_0, 75)\n",
        "IQR = Q3 - Q1\n",
        "QCS = (Q3 - median) - (median - Q1) / (Q3 - Q1)\n",
        "\n",
        "print('Median :',median)\n",
        "print('Quartile_1 :',Q1)\n",
        "print('Quartile_2 :',Q2)\n",
        "print('Quartile_3 :',Q3)\n",
        "print('Inter Quartile Range (IQR) :',IQR)\n",
        "print('Coefficient Of Skewness :',QCS)"
      ],
      "metadata": {
        "id": "mbecsYWN2Rqq",
        "colab": {
          "base_uri": "https://localhost:8080/"
        },
        "outputId": "f6f57e43-c769-423a-c5c1-ad36ab22c79d"
      },
      "execution_count": null,
      "outputs": [
        {
          "output_type": "stream",
          "name": "stdout",
          "text": [
            "Median : 115.0\n",
            "Quartile_1 : 95.0\n",
            "Quartile_2 : 115.0\n",
            "Quartile_3 : 125.0\n",
            "Inter Quartile Range (IQR) : 30.0\n",
            "Coefficient Of Skewness : 9.333333333333334\n"
          ]
        }
      ]
    },
    {
      "cell_type": "markdown",
      "source": [
        "Q7.: There are three bags: first containing 1 white, 2 red, 3 green balls; second containing 2 white, 3\n",
        "red 1 green balls and third containing 3 white, 1 red and 2 green balls. Two balls are drawn from a\n",
        "bag chosen at random. These are found to be one white and one red. Find the probability that the\n",
        "balls so drawn came from the second bag.\n"
      ],
      "metadata": {
        "id": "lWeB-msI1-EP"
      }
    },
    {
      "cell_type": "code",
      "source": [
        "# Probabilities of choosing each bag\n",
        "P_bag1 = 1/3\n",
        "P_bag2 = 1/3\n",
        "P_bag3 = 1/3\n",
        "\n",
        "# Probabilities of drawing one white and one red ball from each bag\n",
        "P_white_red_bag1 = (1/6) * (2/6)\n",
        "P_white_red_bag2 = (2/6) * (3/6)\n",
        "P_white_red_bag3 = (3/6) * (1/6)\n",
        "\n",
        "# Total probability of drawing one white and one red ball\n",
        "P_white_red = P_bag1 * P_white_red_bag1 + P_bag2 * P_white_red_bag2 + P_bag3 * P_white_red_bag3\n",
        "\n",
        "# Conditional probability using Bayes' theorem\n",
        "P_bag2_given_white_red = (P_bag2 * P_white_red_bag2) / P_white_red\n",
        "\n",
        "print(\"Probability that the balls came from the second bag:\", P_bag2_given_white_red)\n"
      ],
      "metadata": {
        "id": "JsiIdExn2SUF",
        "colab": {
          "base_uri": "https://localhost:8080/"
        },
        "outputId": "b004d0a9-7d93-4680-f6ca-bff036500900"
      },
      "execution_count": null,
      "outputs": [
        {
          "output_type": "stream",
          "name": "stdout",
          "text": [
            "Probability that the balls came from the second bag: 0.5454545454545454\n"
          ]
        }
      ]
    },
    {
      "cell_type": "markdown",
      "source": [
        "Q8: The probability mass function of a variate X with the following distribution is given by\n",
        "X 0 1 2 3 4 5 6\n",
        "P(X) K 3k 5k 7k 9k 11k 13k\n",
        "Find the value of k and P(X<4).\n"
      ],
      "metadata": {
        "id": "1nJhGo-K2Ack"
      }
    },
    {
      "cell_type": "code",
      "source": [
        "from sympy import symbols, Eq, solve\n",
        "\n",
        "# Define k as a symbol\n",
        "k = symbols('k')\n",
        "\n",
        "# Define the values of X\n",
        "X_values = [0, 1, 2, 3, 4, 5, 6]\n",
        "\n",
        "# Define the probabilities as a function of k\n",
        "probabilities = [k, 3 * k, 5 * k, 7 * k, 9 * k, 11 * k, 13 * k]\n",
        "\n",
        "# Create an equation to ensure the sum of probabilities equals 1\n",
        "equation = Eq(sum(probabilities), 1)\n",
        "\n",
        "# Solve for k\n",
        "solutions = solve(equation, k)\n",
        "\n",
        "# Check if there are valid solutions for k\n",
        "if solutions:\n",
        "    k_value = solutions[0]\n",
        "\n",
        "    # Calculate P(X < 4)\n",
        "    PX_less_than_4 = sum([prob.subs(k, k_value) for prob in probabilities[:4]])\n",
        "\n",
        "    # Print the results\n",
        "    print(\"Value of k:\", k_value)\n",
        "    print(\"P(X < 4):\", PX_less_than_4)\n",
        "else:\n",
        "    print(\"No valid solution for k.\")\n"
      ],
      "metadata": {
        "id": "ScZyk3QGY9_c",
        "colab": {
          "base_uri": "https://localhost:8080/"
        },
        "outputId": "8e174370-9af7-4322-b3e6-0cc48d667d2e"
      },
      "execution_count": null,
      "outputs": [
        {
          "output_type": "stream",
          "name": "stdout",
          "text": [
            "Value of k: 1/49\n",
            "P(X < 4): 16/49\n"
          ]
        }
      ]
    },
    {
      "cell_type": "markdown",
      "source": [
        "Q9.: Find the Karl Persons Coefficient of Correlation for the following data:\n",
        "\n",
        "x\n",
        "\n",
        "105 104 102 101 100 99 98 96 93 92\n",
        "\n",
        "y\n",
        "\n",
        "101 103 100 98 95 96 104 92 97 94\n"
      ],
      "metadata": {
        "id": "QcWl5F6P2CO1"
      }
    },
    {
      "cell_type": "code",
      "source": [
        "import numpy as np\n",
        "\n",
        "x = [105, 104, 102, 101, 100, 99, 98, 96, 93, 92]\n",
        "y = [101, 103, 100, 98, 95, 96, 104, 92, 97, 94]\n",
        "\n",
        "print('Coefficient of Correlation :',round(np.corrcoef(x,y)[0,1],2))"
      ],
      "metadata": {
        "id": "GagQ4DDJ2TOH",
        "colab": {
          "base_uri": "https://localhost:8080/"
        },
        "outputId": "4ae0c0df-ca63-44d1-9ffe-080fbffed60c"
      },
      "execution_count": null,
      "outputs": [
        {
          "output_type": "stream",
          "name": "stdout",
          "text": [
            "Coefficient of Correlation : 0.6\n"
          ]
        }
      ]
    },
    {
      "cell_type": "markdown",
      "source": [
        "Q10 find the mean of the following data?\n",
        "\n",
        "Weight\n",
        "\n",
        "0-10 10-20 20-30 30-40 40-50 50-60\n",
        "\n",
        "No. of articles\n",
        "\n",
        "14 17 22 26 23 18"
      ],
      "metadata": {
        "id": "FCiJ47P-2D3x"
      }
    },
    {
      "cell_type": "code",
      "source": [
        "from statistics import mean, median, mode\n",
        "\n",
        "weight = ['0-10', '10-20', '20-30', '30-40', '40-50', '50-60']\n",
        "no_articles = [14, 17, 22, 26, 23, 18]\n",
        "\n",
        "midpoint = [((int(k.split('-')[0])) + (int(k.split('-')[1])))/2  for k in weight]\n",
        "\n",
        "data = []\n",
        "for i in range(len(weight)):\n",
        "  data.extend([midpoint[i]] * no_articles[i])\n",
        "\n",
        "print('Mean :', mean(data))\n",
        "print('Median :', median(data))\n",
        "print('Mode :', mode(data))"
      ],
      "metadata": {
        "id": "aYNt_YLw2TuM",
        "colab": {
          "base_uri": "https://localhost:8080/"
        },
        "outputId": "4c207fb4-42b1-4e94-b45e-5ca5d2ebd41a"
      },
      "execution_count": null,
      "outputs": [
        {
          "output_type": "stream",
          "name": "stdout",
          "text": [
            "Mean : 31.75\n",
            "Median : 35.0\n",
            "Mode : 35.0\n"
          ]
        }
      ]
    }
  ]
}