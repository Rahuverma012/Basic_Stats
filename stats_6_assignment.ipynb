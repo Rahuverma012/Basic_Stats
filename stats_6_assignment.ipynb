{
  "nbformat": 4,
  "nbformat_minor": 0,
  "metadata": {
    "colab": {
      "provenance": []
    },
    "kernelspec": {
      "name": "python3",
      "display_name": "Python 3"
    },
    "language_info": {
      "name": "python"
    }
  },
  "cells": [
    {
      "cell_type": "code",
      "source": [
        "import numpy as np\n",
        "import pandas as pd\n",
        "import scipy.stats as stats\n",
        "import math\n",
        "import statistics\n",
        "import matplotlib.pyplot as plt\n",
        "import seaborn as sns\n",
        "from statsmodels.stats.weightstats import ztest as ztest"
      ],
      "metadata": {
        "id": "0kvnFOpWvSX4"
      },
      "execution_count": null,
      "outputs": []
    },
    {
      "cell_type": "markdown",
      "source": [
        "**A random sample of 100 recorded death in India during the past year showed an average life span of 75.9 years. Assuming a population S.D. of 5 years. Let H0: μ = 75 HA: μ > 75. Find the p-\n",
        "value.**"
      ],
      "metadata": {
        "id": "7AbmcS4osp-0"
      }
    },
    {
      "cell_type": "code",
      "source": [
        "import scipy.stats as stats\n",
        "\n",
        "sample_mean = 75.9\n",
        "population_std = 5\n",
        "sample_size = 100\n",
        "null_hypothesis_mean = 75\n",
        "\n",
        "z_score = (sample_mean - null_hypothesis_mean) / (population_std / (sample_size ** 0.5))\n",
        "p_value = 1 - stats.norm.cdf(z_score)\n",
        "\n",
        "print(\"Z-score:\", z_score)\n",
        "print(\"P-value:\", p_value)\n"
      ],
      "metadata": {
        "colab": {
          "base_uri": "https://localhost:8080/"
        },
        "id": "2xFUd5Hcx9nt",
        "outputId": "ffa32792-58c0-4491-8f43-ffbb73f8507c"
      },
      "execution_count": null,
      "outputs": [
        {
          "output_type": "stream",
          "name": "stdout",
          "text": [
            "Z-score: 1.8000000000000114\n",
            "P-value: 0.03593031911292488\n"
          ]
        }
      ]
    },
    {
      "cell_type": "markdown",
      "source": [
        "**The manufacturer of a new car claims that a typical car gets a mileage is less. To test our suspicion, we perform the hypothesis test with H0: μ = 40 HA: μ < 40 . Suppose we take a random sample of 900 new cars & find their average mileage is 39.8 km/l. Let SD=2 what does a Z-test say about H0 with α = 0.05**"
      ],
      "metadata": {
        "id": "B2uGFCyaszys"
      }
    },
    {
      "cell_type": "code",
      "source": [
        "sample_size = 900\n",
        "sample_mean = 39.8\n",
        "population_mean = 40\n",
        "population_stddev = 2\n",
        "alpha = 0.05\n",
        "\n",
        "\n",
        "z_score = (sample_mean - population_mean) / population_stddev / (sample_size**0.5)\n",
        "p_value = stats.norm.cdf(z_score)\n",
        "\n",
        "if p_value < alpha:\n",
        "    print(\"Reject H0\")\n",
        "else:\n",
        "    print(\"Fail to reject H0\")\n",
        "\n",
        "\n",
        "print(\"Z-score:\", z_score)\n",
        "print(\"P-value:\", p_value)\n",
        "\n"
      ],
      "metadata": {
        "id": "N1Oi-65Os7ho",
        "colab": {
          "base_uri": "https://localhost:8080/"
        },
        "outputId": "a1090253-77c5-48b4-9def-11d4c43522b2"
      },
      "execution_count": null,
      "outputs": [
        {
          "output_type": "stream",
          "name": "stdout",
          "text": [
            "Fail to reject H0\n",
            "Z-score: -0.003333333333333381\n",
            "P-value: 0.49867019486126446\n"
          ]
        }
      ]
    },
    {
      "cell_type": "markdown",
      "source": [
        "**Calculate the coefficient of correlation for the following data:**\n",
        "\n",
        "X 78 89 96 69 59 79 68 61\n",
        "\n",
        "Y 125 137 156 112 107 136 123 108"
      ],
      "metadata": {
        "id": "KfVsjzFUszvR"
      }
    },
    {
      "cell_type": "code",
      "source": [
        "X = np.array([78, 89, 96, 69, 59, 79, 68, 61])\n",
        "Y = np.array([125, 137, 156, 112, 107, 136, 123, 108])\n",
        "corr_c = np.corrcoef(X, Y)[0, 1]\n",
        "print(\"Coefficient of Correlation:\", corr_c)"
      ],
      "metadata": {
        "id": "nPGUGaXytBn6",
        "colab": {
          "base_uri": "https://localhost:8080/"
        },
        "outputId": "cd55f97e-eacb-48f5-f8bf-402524507aea"
      },
      "execution_count": null,
      "outputs": [
        {
          "output_type": "stream",
          "name": "stdout",
          "text": [
            "Coefficient of Correlation: 0.9543697714443932\n"
          ]
        }
      ]
    },
    {
      "cell_type": "markdown",
      "source": [
        "**Find the Transpose of the following matrix**\n",
        "\n",
        "A = [\n",
        "  \n",
        "1 1 −2\n",
        "\n",
        "−1 2 1\n",
        "\n",
        "0 1 −1\n",
        "\n",
        "]"
      ],
      "metadata": {
        "id": "D9_Y8-cpszsH"
      }
    },
    {
      "cell_type": "code",
      "source": [
        "mat = np.array([[1, 1, -2],\n",
        "                [-1, 2, 1],\n",
        "                [0, 1, -1]])\n",
        "\n",
        "mat_T = np.transpose(mat)\n",
        "print('Transpose of Matrix :\\n',mat_T)"
      ],
      "metadata": {
        "id": "VD1gHQQmtSno",
        "colab": {
          "base_uri": "https://localhost:8080/"
        },
        "outputId": "2042575f-8ee5-49c5-ffd9-21ebb7bfe5b5"
      },
      "execution_count": null,
      "outputs": [
        {
          "output_type": "stream",
          "name": "stdout",
          "text": [
            "Transpose of Matrix :\n",
            " [[ 1 -1  0]\n",
            " [ 1  2  1]\n",
            " [-2  1 -1]]\n"
          ]
        }
      ]
    },
    {
      "cell_type": "markdown",
      "source": [
        "**Find the Eigen Values of the matrix**\n",
        "\n",
        "A = [\n",
        "\n",
        "2 2 1\n",
        "\n",
        "1 3 1\n",
        "\n",
        "1 2 2\n",
        "\n",
        "]"
      ],
      "metadata": {
        "id": "2OELQMBntVL_"
      }
    },
    {
      "cell_type": "code",
      "source": [
        "import numpy as np\n",
        "\n",
        "A = np.array([[2, 2, 1],\n",
        "              [1, 3, 1],\n",
        "              [1, 2, 2]])\n",
        "\n",
        "\n",
        "eigenvalues = np.linalg.eigvals(A)            # Find the eigenvalues\n",
        "print(\"Eigenvalues of A:\", eigenvalues)"
      ],
      "metadata": {
        "colab": {
          "base_uri": "https://localhost:8080/"
        },
        "id": "DlI0ufMtqeA2",
        "outputId": "91878d56-ae1b-4df3-d656-ffba0e7b148e"
      },
      "execution_count": null,
      "outputs": [
        {
          "output_type": "stream",
          "name": "stdout",
          "text": [
            "Eigenvalues of A: [5. 1. 1.]\n"
          ]
        }
      ]
    },
    {
      "cell_type": "markdown",
      "source": [
        "**The following is the frequency (f) distribution of a random sample of weekly earnings(W) of 509 employees, Calculate the average weekly earnings.**\n",
        "\n",
        "W 10 12 14 16 18 20 22 24 26 28 30 32 34 36 38 40\n",
        "\n",
        "f 3 6 10 15 24 42 75 90 79 55 36 26 19 13 9 7"
      ],
      "metadata": {
        "id": "x29jb4WhteLE"
      }
    },
    {
      "cell_type": "code",
      "source": [
        "import numpy as np\n",
        "\n",
        "midpoints = np.array([10, 12, 14, 16, 18, 20, 22, 24, 26, 28, 30, 32, 34, 36, 38, 40])\n",
        "frequencies = np.array([3, 6, 10, 15, 24, 42, 75, 90, 79, 55, 36, 26, 19, 13, 9, 7])\n",
        "average_weekly_earnings = np.sum(midpoints * frequencies) / np.sum(frequencies)\n",
        "\n",
        "print(\"Average Weekly Earnings:\", average_weekly_earnings)"
      ],
      "metadata": {
        "id": "2IwbZAlvtiyj",
        "colab": {
          "base_uri": "https://localhost:8080/"
        },
        "outputId": "172801fd-10d2-4503-ec04-b9020ee37163"
      },
      "execution_count": null,
      "outputs": [
        {
          "output_type": "stream",
          "name": "stdout",
          "text": [
            "Average Weekly Earnings: 25.159135559921413\n"
          ]
        }
      ]
    },
    {
      "cell_type": "markdown",
      "source": [
        "**Three Machines A, B and C produce identical items. Of their respective output 5%, 4% and 3% items are faulty. On a certain day machine A has produced 25% of the total output, B has produced 30% of the total output and C the remaining. An item selected at random is found to be faulty. What are the chance that it was produced by the machine with highest output.**"
      ],
      "metadata": {
        "id": "qr1DVgoOtjMW"
      }
    },
    {
      "cell_type": "code",
      "source": [
        "# Probabilities of machines A, B, and C producing faulty items\n",
        "prob_faulty_A = 0.05\n",
        "prob_faulty_B = 0.04\n",
        "prob_faulty_C = 0.03\n",
        "\n",
        "# Probabilities of machines A, B, and C producing items (based on their outputs)\n",
        "prob_A = 0.25  # Machine A produces 25% of the total output\n",
        "prob_B = 0.30  # Machine B produces 30% of the total output\n",
        "prob_C = 1 - prob_A - prob_B  # Machine C produces the remaining\n",
        "\n",
        "#total probability of getting a faulty item\n",
        "total_prob_faulty = (prob_A * prob_faulty_A) + (prob_B * prob_faulty_B) + (prob_C * prob_faulty_C)\n",
        "\n",
        "#conditional probability of the item coming from each machine given that it's faulty\n",
        "conditional_prob_A = (prob_A * prob_faulty_A) / total_prob_faulty\n",
        "conditional_prob_B = (prob_B * prob_faulty_B) / total_prob_faulty\n",
        "conditional_prob_C = (prob_C * prob_faulty_C) / total_prob_faulty\n",
        "\n",
        "\n",
        "print(\"Conditional Probability (Machine A):\", conditional_prob_A)\n",
        "print(\"Conditional Probability (Machine B):\", conditional_prob_B)\n",
        "print(\"Conditional Probability (Machine C):\", conditional_prob_C)\n",
        "\n",
        "#machine with the highest conditional probability\n",
        "highest_prob_machine = max(conditional_prob_A, conditional_prob_B, conditional_prob_C)\n",
        "\n",
        "\n",
        "if highest_prob_machine == conditional_prob_A:\n",
        "    print(\"The faulty item is most likely produced by Machine A.\")\n",
        "elif highest_prob_machine == conditional_prob_B:\n",
        "    print(\"The faulty item is most likely produced by Machine B.\")\n",
        "else:\n",
        "    print(\"The faulty item is most likely produced by Machine C.\")\n"
      ],
      "metadata": {
        "id": "s2E0Mq0ytq0U",
        "colab": {
          "base_uri": "https://localhost:8080/"
        },
        "outputId": "067327bd-1bc2-49b9-850e-85572319c819"
      },
      "execution_count": null,
      "outputs": [
        {
          "output_type": "stream",
          "name": "stdout",
          "text": [
            "Conditional Probability (Machine A): 0.32894736842105265\n",
            "Conditional Probability (Machine B): 0.31578947368421056\n",
            "Conditional Probability (Machine C): 0.35526315789473684\n",
            "The faulty item is most likely produced by Machine C.\n"
          ]
        }
      ]
    },
    {
      "cell_type": "markdown",
      "source": [
        "**The probability mass function of a variate X with the following distribution is given by**\n",
        "\n",
        "X -2 -1 0 1 2 3\n",
        "\n",
        "P(X) 0.1 K 0.2 2k 0.3 k\n",
        "\n",
        "**Find the value of k and variance.**"
      ],
      "metadata": {
        "id": "ZhXPKDCktsx8"
      }
    },
    {
      "cell_type": "code",
      "source": [
        "prob_0 = 0.2\n",
        "prob_1 = 0.3\n",
        "\n",
        "total_probability = 1\n",
        "\n",
        "# Calculate k\n",
        "k = (total_probability - prob_0 - prob_1) / 3\n",
        "\n",
        "# Calculate the expected value (mean)\n",
        "mean_X = (-2 * k) + (-1 * prob_1) + (0 * (prob_0 + 2 * k)) + (1 * (2 * k + prob_1)) + (2 * (prob_0 + 3 * k)) + (3 * k)\n",
        "\n",
        "# Calculate the variance\n",
        "variance_X = ((-2 - mean_X) ** 2 * k) + ((-1 - mean_X) ** 2 * prob_1) + ((0 - mean_X) ** 2 * (prob_0 + 2 * k)) + \\\n",
        "             ((1 - mean_X) ** 2 * (2 * k + prob_1)) + ((2 - mean_X) ** 2 * (prob_0 + 3 * k)) + ((3 - mean_X) ** 2 * k)\n",
        "\n",
        "print(\"Value of k:\", k)\n",
        "print(\"Variance of X:\", variance_X)\n"
      ],
      "metadata": {
        "colab": {
          "base_uri": "https://localhost:8080/"
        },
        "id": "CCCNP_fYsH9W",
        "outputId": "171fdae5-7ba6-4209-e7ba-4cfa8daf17bd"
      },
      "execution_count": null,
      "outputs": [
        {
          "output_type": "stream",
          "name": "stdout",
          "text": [
            "Value of k: 0.16666666666666666\n",
            "Variance of X: 7.705\n"
          ]
        }
      ]
    },
    {
      "cell_type": "markdown",
      "source": [
        "**Calculate the quartile coefficient of skewness from the following data?**\n",
        "\n",
        "Weight 10-20 20-30 30-40 40-50 50-60 60-70 70-80 80-90\n",
        "\n",
        "No. of\n",
        "Persons: 12 18 35 42 50 45 20 8"
      ],
      "metadata": {
        "id": "EvR0_7aZtvVh"
      }
    },
    {
      "cell_type": "code",
      "source": [
        "import numpy as np\n",
        "\n",
        "class_intervals = [\"10-20\", \"20-30\", \"30-40\", \"40-50\", \"50-60\", \"60-70\", \"70-80\", \"80-90\"]\n",
        "frequencies = [12, 18, 35, 42, 50, 45, 20, 8]\n",
        "\n",
        "cumulative_frequencies = np.cumsum(frequencies)            #cumulative frequencies (CF)\n",
        "total_persons = sum(frequencies)\n",
        "\n",
        "#quartile positions (percentiles)\n",
        "Q1_position = 0.25 * total_persons\n",
        "Q2_position = 0.50 * total_persons\n",
        "Q3_position = 0.75 * total_persons\n",
        "\n",
        "# Find the quartile values (Q1, Q2, Q3)\n",
        "Q1 = None\n",
        "Q2 = None\n",
        "Q3 = None\n",
        "\n",
        "for i, cf in enumerate(cumulative_frequencies):\n",
        "    if cf >= Q1_position and Q1 is None:\n",
        "        Q1 = int(class_intervals[i].split(\"-\")[1])\n",
        "    if cf >= Q2_position and Q2 is None:\n",
        "        Q2 = int(class_intervals[i].split(\"-\")[1])\n",
        "    if cf >= Q3_position and Q3 is None:\n",
        "        Q3 = int(class_intervals[i].split(\"-\")[1])\n",
        "\n",
        "#quartile coefficient of skewness (QCS)\n",
        "QCS = (Q1 + Q3 - 2 * Q2) / (Q3 - Q1)\n",
        "\n",
        "print(\"Quartile Coefficient of Skewness (QCS):\", QCS)\n"
      ],
      "metadata": {
        "id": "C_Bc8__Jt5tH",
        "colab": {
          "base_uri": "https://localhost:8080/"
        },
        "outputId": "d6e6295d-2a09-457d-e61e-5e248d7855ad"
      },
      "execution_count": null,
      "outputs": [
        {
          "output_type": "stream",
          "name": "stdout",
          "text": [
            "Quartile Coefficient of Skewness (QCS): -0.3333333333333333\n"
          ]
        }
      ]
    },
    {
      "cell_type": "markdown",
      "source": [
        "**The following data represents the test scores of a class of 30 students:**\n",
        "\n",
        "75, 82, 90, 68, 88, 72, 95, 78, 85, 91, 88, 74, 79, 87, 92, 69, 84, 76, 70, 89, 83, 77, 81, 86, 73, 67, 71,\n",
        "80, 94, 98\n",
        "\n",
        "**Calculate the interquartile range for this data set.**"
      ],
      "metadata": {
        "id": "RDS8YPMWt6Ns"
      }
    },
    {
      "cell_type": "code",
      "source": [
        "import numpy as np\n",
        "\n",
        "data = [75, 82, 90, 68, 88, 72, 95, 78, 85, 91, 88, 74, 79, 87, 92, 69, 84, 76, 70, 89, 83, 77, 81, 86, 73, 67, 71, 80, 94, 98]\n",
        "\n",
        "# Sort the data in ascending order\n",
        "sorted_data = sorted(data)\n",
        "\n",
        "q1 = np.percentile(sorted_data, 25)\n",
        "q3 = np.percentile(sorted_data, 75)\n",
        "\n",
        "iqr = q3 - q1\n",
        "\n",
        "print(\"Interquartile Range (IQR):\", iqr)\n"
      ],
      "metadata": {
        "id": "X7PFCV47uBoo",
        "colab": {
          "base_uri": "https://localhost:8080/"
        },
        "outputId": "1f568132-9f1d-40ec-af57-3c8a0bc92fd8"
      },
      "execution_count": null,
      "outputs": [
        {
          "output_type": "stream",
          "name": "stdout",
          "text": [
            "Interquartile Range (IQR): 13.75\n"
          ]
        }
      ]
    },
    {
      "cell_type": "markdown",
      "source": [
        "**The ages (in years) of a group of 40 people are as follows:**\n",
        "\n",
        "35, 42, 48, 52, 38, 47, 40, 56, 30, 36, 41, 50, 39, 45, 55, 33, 43, 37, 34, 51, 44, 49, 31, 46, 53, 57, 32, 54, 59, 58, 60, 29, 63, 61, 64, 62, 28, 27, 65, 26\n",
        "\n",
        "**Calculate the interquartile range for this data set.**"
      ],
      "metadata": {
        "id": "JBiKkIzduF_Y"
      }
    },
    {
      "cell_type": "code",
      "source": [
        "import numpy as np\n",
        "\n",
        "data = [35, 42, 48, 52, 38, 47, 40, 56, 30, 36, 41, 50, 39, 45, 55, 33, 43, 37, 34, 51, 44, 49, 31, 46, 53, 57, 32, 54, 59, 58, 60, 29, 63, 61, 64, 62, 28, 27, 65, 26]\n",
        "\n",
        "# Sort the data in ascending order\n",
        "sorted_data = sorted(data)\n",
        "\n",
        "q1 = np.percentile(sorted_data, 25)\n",
        "q3 = np.percentile(sorted_data, 75)\n",
        "\n",
        "#interquartile range (IQR)\n",
        "iqr = q3 - q1\n",
        "\n",
        "print(\"Interquartile Range (IQR):\", iqr)\n"
      ],
      "metadata": {
        "id": "1njzCJlWuOJc",
        "colab": {
          "base_uri": "https://localhost:8080/"
        },
        "outputId": "5d5246df-b27c-4ceb-b118-7b9ed3204ca2"
      },
      "execution_count": null,
      "outputs": [
        {
          "output_type": "stream",
          "name": "stdout",
          "text": [
            "Interquartile Range (IQR): 19.5\n"
          ]
        }
      ]
    },
    {
      "cell_type": "markdown",
      "source": [
        "**A bag contains 5 red balls and 3 green balls. If you draw two balls from the bag without replacement, what is the probability that the second ball is red given that the first ball was red?**"
      ],
      "metadata": {
        "id": "2UVK9eViuOlz"
      }
    },
    {
      "cell_type": "code",
      "source": [
        "red_balls = 5\n",
        "green_balls = 3\n",
        "\n",
        "#probability of drawing a red ball first\n",
        "probability_red_first = red_balls / (red_balls + green_balls)\n",
        "\n",
        "# probability of drawing a red ball second given that the first ball was red\n",
        "probability_red_second_given_red_first = (red_balls - 1) / (red_balls + green_balls - 1)\n",
        "\n",
        "print(\"Probability of the second ball being red given the first was red:\", probability_red_second_given_red_first)\n"
      ],
      "metadata": {
        "id": "nVB6BY2zuROj",
        "colab": {
          "base_uri": "https://localhost:8080/"
        },
        "outputId": "ee49cb38-9c49-4512-8a71-0d98760b0aad"
      },
      "execution_count": null,
      "outputs": [
        {
          "output_type": "stream",
          "name": "stdout",
          "text": [
            "Probability of the second ball being red given the first was red: 0.5714285714285714\n"
          ]
        }
      ]
    },
    {
      "cell_type": "markdown",
      "source": [
        "**Find the mean, median, and mode of the following data set: 12, 15, 18, 21, 15, 12, 25, 18, 21, 12.**"
      ],
      "metadata": {
        "id": "Rbl0lUJ_uT0T"
      }
    },
    {
      "cell_type": "code",
      "source": [
        "from statistics import mean, median, mode\n",
        "\n",
        "data = [12, 15, 18, 21, 15, 12, 25, 18, 21, 12]\n",
        "\n",
        "# Calculate mean\n",
        "mean_value = mean(data)\n",
        "\n",
        "# Calculate median\n",
        "median_value = median(data)\n",
        "\n",
        "# Calculate mode\n",
        "mode_value = mode(data)\n",
        "\n",
        "print(\"Mean:\", mean_value)\n",
        "print(\"Median:\", median_value)\n",
        "print(\"Mode:\", mode_value)\n"
      ],
      "metadata": {
        "id": "uiEvjwwtuU-_",
        "colab": {
          "base_uri": "https://localhost:8080/"
        },
        "outputId": "4f462d41-3843-4301-87f9-bf8303a7b3b3"
      },
      "execution_count": null,
      "outputs": [
        {
          "output_type": "stream",
          "name": "stdout",
          "text": [
            "Mean: 16.9\n",
            "Median: 16.5\n",
            "Mode: 12\n"
          ]
        }
      ]
    },
    {
      "cell_type": "markdown",
      "source": [
        "**A manufacturer claims that the average battery life of their product is 200 hours. You suspect that the actual battery life is less than claimed. You take a random sample of 30 batteries and find that the average battery life is 195 hours with a standard deviation of 10 hours. Conduct a hypothesis test at a 5% significance level to determine if there is enough evidence to support your suspicion.**"
      ],
      "metadata": {
        "id": "dwAaITQ6uYi5"
      }
    },
    {
      "cell_type": "code",
      "source": [
        "import numpy as np\n",
        "from scipy import stats\n",
        "\n",
        "sample_mean = 195\n",
        "sample_std = 10\n",
        "sample_size = 30\n",
        "population_mean = 200  # Claimed mean\n",
        "alpha = 0.05  # Significance level\n",
        "\n",
        "t_statistic = (sample_mean - population_mean) / (sample_std / np.sqrt(sample_size))\n",
        "degrees_of_freedom = sample_size - 1\n",
        "\n",
        "#critical t-value for a one-tailed test\n",
        "critical_t_value = stats.t.ppf(alpha, degrees_of_freedom)\n",
        "\n",
        "p_value = stats.t.cdf(t_statistic, degrees_of_freedom)\n",
        "\n",
        "if p_value < alpha:\n",
        "    result = \"Reject the null hypothesis\"\n",
        "else:\n",
        "    result = \"Fail to reject the null hypothesis\"\n",
        "\n",
        "print(\"t-statistic:\", t_statistic)\n",
        "print(\"Critical t-value:\", critical_t_value)\n",
        "print(\"p-value:\", p_value)\n",
        "print(\"Result:\", result)\n"
      ],
      "metadata": {
        "id": "eAO6Y6RYuVpw",
        "colab": {
          "base_uri": "https://localhost:8080/"
        },
        "outputId": "9083399a-07d7-45d9-c7d2-062139942904"
      },
      "execution_count": null,
      "outputs": [
        {
          "output_type": "stream",
          "name": "stdout",
          "text": [
            "t-statistic: -2.7386127875258306\n",
            "Critical t-value: -1.6991270265334977\n",
            "p-value: 0.005218694749433665\n",
            "Result: Reject the null hypothesis\n"
          ]
        }
      ]
    },
    {
      "cell_type": "markdown",
      "source": [
        "**A restaurant is collecting feedback from customers about their dining experience. Customers can rate the food quality on a scale from 1 (poor) to 5 (excellent). Obtained responses from 30 customers are as follows :**\n",
        "\n",
        "4, 5, 3, 4, 2, 5, 4, 3, 4, 5, 3, 4, 5, 4, 3, 4, 5, 2, 4, 3, 4, 5, 3, 4, 2, 4, 5, 3, 4, 5\n",
        "\n",
        "**categorize the data. Determine the type of data and calculate the median.**"
      ],
      "metadata": {
        "id": "bpvwGENrugT8"
      }
    },
    {
      "cell_type": "code",
      "source": [
        "import numpy as np\n",
        "\n",
        "# Data\n",
        "data = [4, 5, 3, 4, 2, 5, 4, 3, 4, 5, 3, 4, 5, 4, 3, 4, 5, 2, 4, 3, 4, 5, 3, 4, 2, 4, 5, 3, 4, 5]\n",
        "\n",
        "# Calculate the median\n",
        "median = np.median(data)\n",
        "\n",
        "print(\"Median:\", median)\n"
      ],
      "metadata": {
        "id": "sCK426oguVmQ",
        "colab": {
          "base_uri": "https://localhost:8080/"
        },
        "outputId": "dc6fdfbc-bebd-47f3-9b56-1df727b9afbd"
      },
      "execution_count": null,
      "outputs": [
        {
          "output_type": "stream",
          "name": "stdout",
          "text": [
            "Median: 4.0\n"
          ]
        }
      ]
    },
    {
      "cell_type": "markdown",
      "source": [
        "**A manufacturer claims that the distribution of defects in their products is as follows: 60% are minor defects, 30% are moderate defects, and 10% are major defects. In a random sample of 200 products, 140 have minor defects, 50 have moderate defects, and 10 have major defects. Perform a Chi-Square Test to determine if the observed distribution matches the claimed distribution at a 5%\n",
        "significance level.**"
      ],
      "metadata": {
        "id": "YjQKhXDouwTE"
      }
    },
    {
      "cell_type": "code",
      "source": [
        "import numpy as np\n",
        "from scipy import stats\n",
        "\n",
        "\n",
        "observed = np.array([140, 50, 10])\n",
        "expected_proportions = np.array([0.60, 0.30, 0.10])\n",
        "sample_size = 200\n",
        "\n",
        "\n",
        "expected_frequencies = expected_proportions * sample_size\n",
        "\n",
        "# Perform the Chi-Square Test\n",
        "chi_square_statistic, p_value = stats.chisquare(f_obs=observed, f_exp=expected_frequencies)\n",
        "\n",
        "alpha = 0.05      #significance level\n",
        "\n",
        "if p_value < alpha:\n",
        "    result = \"Reject the null hypothesis. The observed distribution differs from the claimed distribution.\"\n",
        "else:\n",
        "    result = \"Fail to reject the null hypothesis. The observed distribution matches the claimed distribution.\"\n",
        "\n",
        "print(\"Chi-Square Statistic:\", chi_square_statistic)\n",
        "print(\"P-value:\", p_value)\n",
        "print(\"Result:\", result)\n"
      ],
      "metadata": {
        "id": "DAHFXjU6uVjB",
        "colab": {
          "base_uri": "https://localhost:8080/"
        },
        "outputId": "7732c177-1f13-4439-91b1-2bafbd31e04e"
      },
      "execution_count": null,
      "outputs": [
        {
          "output_type": "stream",
          "name": "stdout",
          "text": [
            "Chi-Square Statistic: 10.0\n",
            "P-value: 0.006737946999085468\n",
            "Result: Reject the null hypothesis. The observed distribution differs from the claimed distribution.\n"
          ]
        }
      ]
    },
    {
      "cell_type": "markdown",
      "source": [
        "**Suppose you have a dataset of test scores for two classes, Class A and Class B. Create a box plot for both classes to visualize the distribution of scores.\n",
        "Class A and Class B are as follows:**\n",
        "\n",
        "Class Scores\n",
        "\n",
        "A 85, 92, 78, 88, 90, 75, 95, 81, 89, 86\n",
        "\n",
        "B 78, 84, 79, 91, 88, 82, 76, 93, 87, 80"
      ],
      "metadata": {
        "id": "h6JFo2Tju3ZK"
      }
    },
    {
      "cell_type": "code",
      "source": [
        "import matplotlib.pyplot as plt\n",
        "\n",
        "\n",
        "class_a_scores = [85, 92, 78, 88, 90, 75, 95, 81, 89, 86]\n",
        "class_b_scores = [78, 84, 79, 91, 88, 82, 76, 93, 87, 80]\n",
        "\n",
        "data = [class_a_scores, class_b_scores]\n",
        "\n",
        "fig, ax = plt.subplots()\n",
        "ax.boxplot(data, labels=['Class A', 'Class B'])\n",
        "ax.set_xlabel('Classes')\n",
        "ax.set_ylabel('Scores')\n",
        "ax.set_title('Box Plot of Test Scores for Class A and Class B')\n",
        "plt.show()\n"
      ],
      "metadata": {
        "id": "3j44s8YouVex",
        "colab": {
          "base_uri": "https://localhost:8080/",
          "height": 472
        },
        "outputId": "3597c5e3-a455-423c-d61f-52181a44d038"
      },
      "execution_count": null,
      "outputs": [
        {
          "output_type": "display_data",
          "data": {
            "text/plain": [
              "<Figure size 640x480 with 1 Axes>"
            ],
            "image/png": "[encoded data removed]"
          },
          "metadata": {}
        }
      ]
    },
    {
      "cell_type": "markdown",
      "source": [
        "**Suppose you roll a fair six-sided die. Let X be the random variable representing the outcome.Calculate the probability mass function (PMF) of X and find the expected value (mean) of X.**"
      ],
      "metadata": {
        "id": "bI8pAXZKu_Es"
      }
    },
    {
      "cell_type": "code",
      "source": [
        "outcomes = [1, 2, 3, 4, 5, 6]\n",
        "\n",
        "pmf = {x: 1/6 for x in outcomes}\n",
        "expected_value = sum(x * pmf[x] for x in outcomes)\n",
        "\n",
        "print(\"PMF:\")\n",
        "for x, probability in pmf.items():\n",
        "    print(f\"P(X = {x}) = {probability}\")\n",
        "\n",
        "print(f\"Expected Value (Mean) of X: {expected_value}\")\n"
      ],
      "metadata": {
        "id": "rwtHeiIEuVb8",
        "colab": {
          "base_uri": "https://localhost:8080/"
        },
        "outputId": "baf9d538-c9de-46a7-91f3-8761b8b54653"
      },
      "execution_count": null,
      "outputs": [
        {
          "output_type": "stream",
          "name": "stdout",
          "text": [
            "PMF:\n",
            "P(X = 1) = 0.16666666666666666\n",
            "P(X = 2) = 0.16666666666666666\n",
            "P(X = 3) = 0.16666666666666666\n",
            "P(X = 4) = 0.16666666666666666\n",
            "P(X = 5) = 0.16666666666666666\n",
            "P(X = 6) = 0.16666666666666666\n",
            "Expected Value (Mean) of X: 3.5\n"
          ]
        }
      ]
    },
    {
      "cell_type": "markdown",
      "source": [
        "**A study investigates the impact of fertilizer types (Fertilizer A, Fertilizer B, and Fertilizer C) on plant growth. The plant heights (in inches) after 8 weeks of growth are recorded for each fertilizer type:**\n",
        "\n",
        "Fertilizer A: [12, 14, 13, 16, 15]\n",
        "\n",
        "Fertilizer B: [16, 18, 17, 19, 20]\n",
        "\n",
        "Fertilizer C: [10, 11, 9, 12, 11]\n",
        "\n",
        "**Perform an ANOVA test to determine if there are significant differences in plant growth among the three fertilizer types at a 1% significance level.**"
      ],
      "metadata": {
        "id": "1pmByrTevDoC"
      }
    },
    {
      "cell_type": "code",
      "source": [
        "import scipy.stats as stats\n",
        "\n",
        "fertilizer_a = [12, 14, 13, 16, 15]\n",
        "fertilizer_b = [16, 18, 17, 19, 20]\n",
        "fertilizer_c = [10, 11, 9, 12, 11]\n",
        "\n",
        "# Perform the ANOVA test\n",
        "f_statistic, p_value = stats.f_oneway(fertilizer_a, fertilizer_b, fertilizer_c)\n",
        "\n",
        "alpha = 0.01  # 1% significance level\n",
        "\n",
        "if p_value < alpha:\n",
        "    result = \"Reject the null hypothesis. There are significant differences in plant growth among the fertilizer types.\"\n",
        "else:\n",
        "    result = \"Fail to reject the null hypothesis. There are no significant differences in plant growth among the fertilizer types.\"\n",
        "\n",
        "print(\"F-Statistic:\", f_statistic)\n",
        "print(\"P-value:\", p_value)\n",
        "print(\"Result:\", result)\n"
      ],
      "metadata": {
        "id": "45Rz-cd2uVZG",
        "colab": {
          "base_uri": "https://localhost:8080/"
        },
        "outputId": "ffbdb5af-5a91-4923-aca7-628f81559f6c"
      },
      "execution_count": null,
      "outputs": [
        {
          "output_type": "stream",
          "name": "stdout",
          "text": [
            "F-Statistic: 32.66666666666668\n",
            "P-value: 1.3960053904813163e-05\n",
            "Result: Reject the null hypothesis. There are significant differences in plant growth among the fertilizer types.\n"
          ]
        }
      ]
    }
  ]
}