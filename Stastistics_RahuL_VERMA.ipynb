{
  "nbformat": 4,
  "nbformat_minor": 0,
  "metadata": {
    "colab": {
      "provenance": []
    },
    "kernelspec": {
      "name": "python3",
      "display_name": "Python 3"
    },
    "language_info": {
      "name": "python"
    }
  },
  "cells": [
    {
      "cell_type": "markdown",
      "source": [
        "# Z-Score\n",
        "\n",
        "**z-score tells us how many standard deviations away a value is from the mean.**\n",
        "\n",
        "We use the following formula to calculate a z-score:\n",
        "\n",
        "z = (X – μ) / σ\n",
        "\n",
        "where:\n",
        "\n",
        "X is a single raw data value\n",
        "\n",
        "μ is the population mean\n",
        "\n",
        "σ is the population standard deviation\n",
        "\n",
        "\n",
        "**Syntax**\n",
        "\n",
        "**scipy.stats.zscore(a, axis=0, ddof=0, nan_policy=’propagate’)**\n",
        "\n",
        "**a :** an array like object containing data\n",
        "\n",
        "**axis :** the axis along which to calculate the z-scores. Default is 0.\n",
        "\n",
        "**ddof :** degrees of freedom correction in the calculation of the standard deviation. Default is 0.\n",
        "\n",
        "**nan_policy :** how to handle when input contains nan. Default is propagate, which returns nan. ‘raise’ throws an error and ‘omit’ performs calculations ignoring nan values.\n"
      ],
      "metadata": {
        "id": "hROOV9f7ygN6"
      }
    },
    {
      "cell_type": "code",
      "execution_count": null,
      "metadata": {
        "colab": {
          "base_uri": "https://localhost:8080/"
        },
        "id": "ZtfYUWoWyZWq",
        "outputId": "e2943d5e-5570-484a-ccc9-985c2554432f"
      },
      "outputs": [
        {
          "output_type": "stream",
          "name": "stdout",
          "text": [
            "Z-Score for arr_1\n",
            "[-1.394 -1.195 -1.195 -0.199  0.     0.     0.398  0.598  1.195  1.793]\n",
            "\n",
            "Z-Score for arr_2\n",
            "[[-1.569 -0.588  0.392  0.392  1.373]\n",
            " [-0.816 -0.816 -0.816  1.225  1.225]\n",
            " [-1.167 -1.167  0.5    0.5    1.333]]\n"
          ]
        }
      ],
      "source": [
        "import numpy as np\n",
        "import pandas as pd\n",
        "from scipy import stats\n",
        "\n",
        "arr_1 = np.array([6, 7, 7, 12, 13, 13, 15, 16, 19, 22 ])       # 1-D array\n",
        "arr_2 = np.array([[5, 6, 7, 7, 8],                            # Multidimensional array\n",
        "                 [8, 8, 8, 9, 9],\n",
        "                 [2, 2, 4, 4, 5]])\n",
        "\n",
        "\n",
        "\n",
        "z_arr_1 = stats.zscore(arr_1)        # Calculating Z-score for arr_1\n",
        "z_arr_2 = stats.zscore(arr_2, axis=1)        # Calculating Z-score for arr_2\n",
        "\n",
        "print(f'Z-Score for arr_1\\n{z_arr_1.round(3)}')\n",
        "print(f'\\nZ-Score for arr_2\\n{z_arr_2.round(3)}')\n"
      ]
    },
    {
      "cell_type": "code",
      "source": [
        "# Suppose we have a pandas dataframe\n",
        "\n",
        "np.random.seed(20)\n",
        "df = pd.DataFrame(np.random.randint(2,50, (5,5)), columns = ['A','B','C','D','E'])\n",
        "\n",
        "print(df)\n",
        "\n",
        "# Calculating Z-Score Value\n",
        "z_df = df.apply(stats.zscore)\n",
        "print('\\n',z_df.round(3))"
      ],
      "metadata": {
        "colab": {
          "base_uri": "https://localhost:8080/"
        },
        "id": "VF-ovZoj1quN",
        "outputId": "945ea749-c83b-4389-817a-1efc27aaadfd"
      },
      "execution_count": null,
      "outputs": [
        {
          "output_type": "stream",
          "name": "stdout",
          "text": [
            "    A   B   C   D   E\n",
            "0  37  28  17  33  30\n",
            "1  28  11  22  13  24\n",
            "2   9  36  34  42  23\n",
            "3  28  28  21  18  40\n",
            "4  40  18  43  39   9\n",
            "\n",
            "        A      B      C      D      E\n",
            "0  0.795  0.435 -1.078  0.348  0.475\n",
            "1 -0.037 -1.513 -0.560 -1.391 -0.119\n",
            "2 -1.793  1.352  0.684  1.130 -0.218\n",
            "3 -0.037  0.435 -0.664 -0.956  1.464\n",
            "4  1.072 -0.710  1.617  0.869 -1.603\n"
          ]
        }
      ]
    },
    {
      "cell_type": "markdown",
      "source": [
        "# Correlation\n",
        "\n",
        "**One way to quantify the relationship between two variables is to use the Pearson correlation coefficient, which is a measure of the linear association between two variables.**\n",
        "\n",
        "**It always takes on a value between -1 and 1**\n",
        "\n",
        "where\n",
        "\n",
        "**-1 :** indicates a perfectly negative linear correlation between two variables\n",
        "\n",
        "**0 :** indicates no linear correlation between two variables\n",
        "\n",
        "**1 :** indicates a perfectly positive linear correlation between two variables\n",
        "\n",
        "\n"
      ],
      "metadata": {
        "id": "4pTqjoKB3ASH"
      }
    },
    {
      "cell_type": "code",
      "source": [
        "#To calculate the correlation between two variables in Python, we can use the Numpy corrcoef() function.\n",
        "\n",
        "import numpy as np\n",
        "\n",
        "np.random.seed(20)\n",
        "\n",
        "#Creating some random Variable\n",
        "var_1 = np.random.randint(0,10,50)\n",
        "var_2 = var_1 + np.random.randint(0,10,50)\n",
        "\n",
        "np.corrcoef(var_1, var_2)"
      ],
      "metadata": {
        "colab": {
          "base_uri": "https://localhost:8080/"
        },
        "id": "UwjMD79U2_-U",
        "outputId": "73a7007e-23f0-4f47-9d92-0d36c45603b0"
      },
      "execution_count": null,
      "outputs": [
        {
          "output_type": "execute_result",
          "data": {
            "text/plain": [
              "array([[1.        , 0.74815234],\n",
              "       [0.74815234, 1.        ]])"
            ]
          },
          "metadata": {},
          "execution_count": 22
        }
      ]
    },
    {
      "cell_type": "code",
      "source": [
        "#By default, this function produces a matrix of correlation coefficients.\n",
        "#If we only wanted to return the correlation coefficient between the two variables, we could use the following syntax\n",
        "\n",
        "np.corrcoef(var_1, var_2)[0,1].round(3)"
      ],
      "metadata": {
        "colab": {
          "base_uri": "https://localhost:8080/"
        },
        "id": "HQvK3dxj2_7H",
        "outputId": "3154127d-b832-41f2-d62d-922079cf373a"
      },
      "execution_count": null,
      "outputs": [
        {
          "output_type": "execute_result",
          "data": {
            "text/plain": [
              "0.748"
            ]
          },
          "metadata": {},
          "execution_count": 38
        }
      ]
    },
    {
      "cell_type": "code",
      "source": [
        "#To test if this correlation is statistically significant,\n",
        "#we can calculate the p-value associated with the Pearson correlation coefficient by using the Scipy pearsonr() function,\n",
        "#which returns the Pearson correlation coefficient along with the two-tailed p-value.\n",
        "\n",
        "from scipy.stats import pearsonr\n",
        "\n",
        "pearsonr(var_1, var_2)            # Used when we do correltaion test (also known as Correlation test)\n",
        "\n",
        "#The correlation coefficient is 0.668 and the two-tailed  p-value is 4.24*10^(-10) which is almost zero.\n",
        "#Since this p-value is less than .05, we would conclude that there is a statistically significant correlation between the two variables."
      ],
      "metadata": {
        "colab": {
          "base_uri": "https://localhost:8080/"
        },
        "id": "Hb9sRsxr2_4_",
        "outputId": "ca72986e-e5ba-4289-d9d0-cc8a2e901dc8"
      },
      "execution_count": null,
      "outputs": [
        {
          "output_type": "execute_result",
          "data": {
            "text/plain": [
              "PearsonRResult(statistic=0.7481523434144554, pvalue=4.243144209037517e-10)"
            ]
          },
          "metadata": {},
          "execution_count": 42
        }
      ]
    },
    {
      "cell_type": "code",
      "source": [
        "#If you’re interested in calculating the correlation between several variables in a Pandas DataFrame,\n",
        "#you can simpy use the .corr() function.\n",
        "\n",
        "np.random.seed(20)\n",
        "df_1 = pd.DataFrame(np.random.randint(2,50, (5,5)), columns = ['A','B','C','D','E'])\n",
        "print(df_1)\n",
        "print(f'\\n{df_1.corr().round(3)}')"
      ],
      "metadata": {
        "colab": {
          "base_uri": "https://localhost:8080/"
        },
        "id": "1JKoV7bT2_2d",
        "outputId": "f8cc5b27-8b27-44f4-d04f-dbd2be187b9e"
      },
      "execution_count": null,
      "outputs": [
        {
          "output_type": "stream",
          "name": "stdout",
          "text": [
            "    A   B   C   D   E\n",
            "0  37  28  17  33  30\n",
            "1  28  11  22  13  24\n",
            "2   9  36  34  42  23\n",
            "3  28  28  21  18  40\n",
            "4  40  18  43  39   9\n",
            "\n",
            "       A      B      C      D      E\n",
            "A  1.000 -0.560 -0.061 -0.146 -0.200\n",
            "B -0.560  1.000 -0.027  0.550  0.374\n",
            "C -0.061 -0.027  1.000  0.643 -0.832\n",
            "D -0.146  0.550  0.643  1.000 -0.542\n",
            "E -0.200  0.374 -0.832 -0.542  1.000\n"
          ]
        }
      ]
    },
    {
      "cell_type": "code",
      "source": [
        "# Visualizing the Correlation Matrix\n",
        "\n",
        "import seaborn as sns\n",
        "import matplotlib.pyplot as plt\n",
        "\n",
        "v = df_1.corr()\n",
        "\n",
        "sns.heatmap(v, annot=True, fmt='g')"
      ],
      "metadata": {
        "colab": {
          "base_uri": "https://localhost:8080/",
          "height": 453
        },
        "id": "el76__An9nhP",
        "outputId": "219b1460-3b28-4682-d3b3-baa9c5ffc490"
      },
      "execution_count": null,
      "outputs": [
        {
          "output_type": "execute_result",
          "data": {
            "text/plain": [
              "<Axes: >"
            ]
          },
          "metadata": {},
          "execution_count": 50
        },
        {
          "output_type": "display_data",
          "data": {
            "text/plain": [
              "<Figure size 640x480 with 2 Axes>"
            ],
            "image/png": "[encoded data removed]"
          },
          "metadata": {}
        }
      ]
    },
    {
      "cell_type": "code",
      "source": [
        "# And if you’re only interested in calculating the correlation between two specific variables in the DataFrame, you can specify the variables\n",
        "\n",
        "df_1['A'].corr(df_1['C'])"
      ],
      "metadata": {
        "colab": {
          "base_uri": "https://localhost:8080/"
        },
        "id": "eTNElXVL2_z3",
        "outputId": "bf1a5cf3-d4b2-4c39-af2a-dc9be5a6002b"
      },
      "execution_count": null,
      "outputs": [
        {
          "output_type": "execute_result",
          "data": {
            "text/plain": [
              "-0.06094738944220149"
            ]
          },
          "metadata": {},
          "execution_count": 32
        }
      ]
    },
    {
      "cell_type": "markdown",
      "source": [
        "# Covariance\n",
        "\n",
        "**Covariance is a measure of how changes in one variable are associated with changes in a second variable. Specifically, it’s a measure of the degree to which two variables are linearly associated.**\n",
        "\n",
        "**A covariance matrix is a square matrix that shows the covariance between many different variables. This can be a useful way to understand how different variables are related in a dataset.**\n",
        "\n"
      ],
      "metadata": {
        "id": "dSuvY6x38018"
      }
    },
    {
      "cell_type": "markdown",
      "source": [
        "A positive number for covariance indicates that two variables tend to increase or decrease in tandem. For example, math and science have a positive covariance (33.2), which indicates that students who score high on math also tend to score high on science. Conversely, students who score low on math also tend to score low on science.\n",
        "\n",
        "\n",
        "A negative number for covariance indicates that as one variable increases, a second variable tends to decrease. For example, math and history have a negative covariance (-24.44), which indicates that students who score high on math tend to score low on history. Conversely, students who score low on math tend to score high on history."
      ],
      "metadata": {
        "id": "u9GyDZOV9USm"
      }
    },
    {
      "cell_type": "code",
      "source": [
        "import numpy as np\n",
        "\n",
        "math = [84, 82, 81, 89, 73, 94, 92, 70, 88, 95]\n",
        "science = [85, 82, 72, 77, 75, 89, 95, 84, 77, 94]\n",
        "history = [97, 94, 93, 95, 88, 82, 78, 84, 69, 78]\n",
        "\n",
        "data = np.array([math, science, history])\n",
        "\n",
        "#we’ll create the covariance matrix for this dataset using the numpy function cov(),\n",
        "#specifying that bias = True so that we are able to calculate the population covariance matrix.\n",
        "\n",
        "np.cov(data, bias=True)"
      ],
      "metadata": {
        "colab": {
          "base_uri": "https://localhost:8080/"
        },
        "id": "AQxfCXTK2_xo",
        "outputId": "427d7a02-1257-4b1b-c2d0-6a8c3fa35b24"
      },
      "execution_count": null,
      "outputs": [
        {
          "output_type": "execute_result",
          "data": {
            "text/plain": [
              "array([[ 64.96,  33.2 , -24.44],\n",
              "       [ 33.2 ,  56.4 , -24.1 ],\n",
              "       [-24.44, -24.1 ,  75.56]])"
            ]
          },
          "metadata": {},
          "execution_count": 46
        }
      ]
    },
    {
      "cell_type": "code",
      "source": [
        "#Visualizing the Covariance Matrix\n",
        "\n",
        "import seaborn as sns\n",
        "import matplotlib.pyplot as plt\n",
        "\n",
        "cov = np.cov(data, bias=True)\n",
        "labs = ['math', 'science', 'history']\n",
        "\n",
        "sns.heatmap(cov, annot=True, fmt='g', xticklabels=labs, yticklabels=labs)"
      ],
      "metadata": {
        "colab": {
          "base_uri": "https://localhost:8080/",
          "height": 448
        },
        "id": "FN_eEotO2_vO",
        "outputId": "9bc5facc-a438-412c-cf65-4f8c40e0228d"
      },
      "execution_count": null,
      "outputs": [
        {
          "output_type": "execute_result",
          "data": {
            "text/plain": [
              "<Axes: >"
            ]
          },
          "metadata": {},
          "execution_count": 47
        },
        {
          "output_type": "display_data",
          "data": {
            "text/plain": [
              "<Figure size 640x480 with 2 Axes>"
            ],
            "image/png": "[encoded data removed]"
          },
          "metadata": {}
        }
      ]
    },
    {
      "cell_type": "markdown",
      "source": [
        "# Variance.\n",
        "\n",
        "**The variance is a way to measure the spread of values in a dataset.**\n",
        "\n",
        "**The formula to calculate population variance is:**\n",
        "\n",
        "σ2 = Σ (xi – μ)2 / N\n",
        "\n",
        "where:\n",
        "\n",
        "Σ: A symbol that means “sum”\n",
        "\n",
        "μ: Population mean\n",
        "\n",
        "xi: The ith element from the population\n",
        "\n",
        "N: Population size\n",
        "\n",
        "**The formula to calculate sample variance is:**\n",
        "\n",
        "s2 = Σ (xi – x)2 / (n-1)\n",
        "\n",
        "where:\n",
        "\n",
        "x: Sample mean\n",
        "\n",
        "xi: The ith element from the sample\n",
        "\n",
        "n: Sample size"
      ],
      "metadata": {
        "id": "TIptHpAoBZ9R"
      }
    },
    {
      "cell_type": "markdown",
      "source": [
        "You should calculate the population variance when the dataset you’re working with represents an entire population, i.e. every value that you’re interested in.\n",
        "\n",
        "\n",
        "You should calculate the sample variance when the dataset you’re working with represents a a sample taken from a larger population of interest.\n",
        "\n",
        "\n",
        "The sample variance of a given array of data will always be larger than the population variance for the same array of a data because there is more uncertainty when calculating the sample variance, thus our estimate of the variance will be larger."
      ],
      "metadata": {
        "id": "VPkYmH0cB1Eb"
      }
    },
    {
      "cell_type": "code",
      "source": [
        "from statistics import variance, pvariance\n",
        "\n",
        "data = [4, 8, 12, 15, 9, 6, 14, 18, 12, 9, 16, 17, 17, 20, 14]\n",
        "\n",
        "#calculate sample variance\n",
        "var = variance(data)\n",
        "print(f'Variance : {var}')\n",
        "\n",
        "#calculate population variance\n",
        "p_var = pvariance(data)\n",
        "print(f'Poulation Variance : {p_var}')"
      ],
      "metadata": {
        "colab": {
          "base_uri": "https://localhost:8080/"
        },
        "id": "E8cXwQFL2_sQ",
        "outputId": "37b477b7-ee35-4479-d16f-bcf776371c13"
      },
      "execution_count": null,
      "outputs": [
        {
          "output_type": "stream",
          "name": "stdout",
          "text": [
            "Variance : 22.066666666666666\n",
            "Poulation Variance : 20.595555555555556\n"
          ]
        }
      ]
    },
    {
      "cell_type": "markdown",
      "source": [
        "# Standard Error of the Mean\n",
        "\n",
        "**The standard error of the mean is a way to measure how spread out values are in a dataset.**\n",
        "\n",
        "Standard error of the mean = s / √n\n",
        "\n",
        "where:\n",
        "\n",
        "s: sample standard deviation\n",
        "\n",
        "n: sample size"
      ],
      "metadata": {
        "id": "-yRgbzCTDIDE"
      }
    },
    {
      "cell_type": "markdown",
      "source": [
        "The larger the standard error of the mean, the more spread out values are around the mean in a dataset.\n",
        "\n",
        "As the sample size increases, the standard error of the mean tends to decrease."
      ],
      "metadata": {
        "id": "MxE1bq5pDzeM"
      }
    },
    {
      "cell_type": "code",
      "source": [
        "from scipy.stats import sem\n",
        "\n",
        "data_1 = [4, 8, 12, 15, 9, 6, 14, 18, 12, 9, 16, 17, 17, 20, 14]\n",
        "\n",
        "sem(data_1)"
      ],
      "metadata": {
        "colab": {
          "base_uri": "https://localhost:8080/"
        },
        "id": "G6tMr9XG2_qb",
        "outputId": "61c82bb3-3baf-4ce8-be68-84cce696c2df"
      },
      "execution_count": null,
      "outputs": [
        {
          "output_type": "execute_result",
          "data": {
            "text/plain": [
              "1.2128936932440166"
            ]
          },
          "metadata": {},
          "execution_count": 57
        }
      ]
    },
    {
      "cell_type": "code",
      "source": [
        "import numpy as np\n",
        "\n",
        "data_2 = [4, 8, 12, 15, 9, 6, 14, 18, 12, 9, 16, 17, 17, 20, 14]\n",
        "\n",
        "np.std(data_2, ddof=1) / np.sqrt(np.size(data_2))     # Using the formula"
      ],
      "metadata": {
        "colab": {
          "base_uri": "https://localhost:8080/"
        },
        "id": "0LHKo0P42_nU",
        "outputId": "b0227d85-9ab5-4a3f-fb91-918f2462d0f8"
      },
      "execution_count": null,
      "outputs": [
        {
          "output_type": "execute_result",
          "data": {
            "text/plain": [
              "1.2128936932440166"
            ]
          },
          "metadata": {},
          "execution_count": 59
        }
      ]
    },
    {
      "cell_type": "markdown",
      "source": [
        "# Skewness & Kurtosis\n",
        "\n",
        "skewness and kurtosis are two ways to measure the shape of a distribution.\n",
        "\n"
      ],
      "metadata": {
        "id": "Ba9NyG3TQYik"
      }
    },
    {
      "cell_type": "markdown",
      "source": [
        "**Skewness is a measure of the asymmetry of a distribution. This value can be positive or negative.**\n",
        "\n",
        "=> A negative skew indicates that the tail is on the left side of the distribution, which extends towards more negative values.\n",
        "\n",
        "=> A positive skew indicates that the tail is on the right side of the distribution, which extends towards more positive values.\n",
        "\n",
        "=> A value of zero indicates that there is no skewness in the distribution at all, meaning the distribution is perfectly symmetrical."
      ],
      "metadata": {
        "id": "S6sRNJFrQfeF"
      }
    },
    {
      "cell_type": "markdown",
      "source": [
        "**Kurtosis is a measure of whether or not a distribution is heavy-tailed or light-tailed relative to a normal distribution.**\n",
        "\n",
        "=> The kurtosis of a normal distribution is 3.\n",
        "\n",
        "=> If a given distribution has a kurtosis less than 3, it is said to be playkurtic, which means it tends to produce fewer and less extreme outliers than the normal distribution.\n",
        "\n",
        "=> If a given distribution has a kurtosis greater than 3, it is said to be leptokurtic, which means it tends to produce more outliers than the normal distribution."
      ],
      "metadata": {
        "id": "Ok4Xv1CzQmjo"
      }
    },
    {
      "cell_type": "markdown",
      "source": [
        "**Syntax**\n",
        "\n",
        "**skew(array of values, bias=False)**\n",
        "\n",
        "**kurt(array of values, bias=False)**\n",
        "\n",
        "We use the argument bias=False to calculate the sample skewness and kurtosis as opposed to the population skewness and kurtosis."
      ],
      "metadata": {
        "id": "mzaLE67FQ3uD"
      }
    },
    {
      "cell_type": "code",
      "source": [
        "from scipy import stats\n",
        "\n",
        "d = [88, 85, 82, 97, 67, 77, 74, 86, 81, 95, 77, 88, 85, 76, 81]\n",
        "\n",
        "\n",
        "#calculate sample skewness\n",
        "s = stats.skew(d, bias=False)\n",
        "print(f'Skewness : {s}')\n",
        "\n",
        "\n",
        "#calculate sample kurtosis\n",
        "k = stats.kurtosis(d, bias=False)\n",
        "print(f'Kurtosis : {k}')\n"
      ],
      "metadata": {
        "colab": {
          "base_uri": "https://localhost:8080/"
        },
        "id": "wiuw6kza2_lV",
        "outputId": "ef2ebb4c-bbc4-42f3-b3fc-8804fc5ec2f3"
      },
      "execution_count": null,
      "outputs": [
        {
          "output_type": "stream",
          "name": "stdout",
          "text": [
            "Skewness : 0.0326966578855933\n",
            "Kurtosis : 0.11815715154945083\n"
          ]
        }
      ]
    },
    {
      "cell_type": "markdown",
      "source": [
        "# Bayes’ Theorem\n",
        "\n",
        "Bayes’ Theorem states the following for any two events A and B:\n",
        "\n",
        "**P(A|B) = P(A)*P(B|A) / P(B)**\n",
        "\n",
        "where:\n",
        "\n",
        "P(A|B): The probability of event A, given event B has occurred.\n",
        "\n",
        "P(B|A): The probability of event B, given event A has occurred.\n",
        "\n",
        "P(A): The probability of event A.\n",
        "\n",
        "P(B): The probability of event B."
      ],
      "metadata": {
        "id": "WSJUciHVSsy1"
      }
    },
    {
      "cell_type": "markdown",
      "source": [
        "For example, suppose the probability of the weather being cloudy is 40%.\n",
        "\n",
        "Also suppose the probability of rain on a given day is 20%.\n",
        "\n",
        "Also suppose the probability of clouds on a rainy day is 85%.\n",
        "\n",
        "If it’s cloudy outside on a given day, what is the probability that it will rain that day?\n",
        "\n",
        "**Solution:**\n",
        "\n",
        "P(cloudy) = 0.40\n",
        "\n",
        "P(rain) = 0.20\n",
        "\n",
        "P(cloudy | rain) = 0.85\n",
        "\n",
        "Thus, we can calculate:\n",
        "\n",
        "P(rain | cloudy) = P(rain) * P(cloudy | rain) / P(cloudy)\n",
        "\n",
        "P(rain | cloudy) = 0.20 * 0.85 / 0.40\n",
        "\n",
        "P(rain | cloudy) = 0.425\n",
        "\n",
        "If it’s cloudy outside on a given day, the probability that it will rain that day is 42.5%."
      ],
      "metadata": {
        "id": "ZikKxtn4S5NI"
      }
    },
    {
      "cell_type": "code",
      "source": [
        "# Creating a function for bayes thoram based on the formula\n",
        "\n",
        "def bayesTheorem(pA, pB, pBA):\n",
        "    return pA * pBA / pB"
      ],
      "metadata": {
        "id": "HPb1o2EC2_iQ"
      },
      "execution_count": null,
      "outputs": []
    },
    {
      "cell_type": "code",
      "source": [
        "#define probabilities\n",
        "pRain = 0.2\n",
        "pCloudy = 0.4\n",
        "pCloudyRain = 0.85\n",
        "\n",
        "#use function to calculate conditional probability\n",
        "bayesTheorem(pRain, pCloudy, pCloudyRain)\n"
      ],
      "metadata": {
        "colab": {
          "base_uri": "https://localhost:8080/"
        },
        "id": "7DkSrlS32_f4",
        "outputId": "ffa11b69-1fbd-4d6b-bce0-906737f0af8e"
      },
      "execution_count": null,
      "outputs": [
        {
          "output_type": "execute_result",
          "data": {
            "text/plain": [
              "0.425"
            ]
          },
          "metadata": {},
          "execution_count": 67
        }
      ]
    },
    {
      "cell_type": "markdown",
      "source": [
        "#Binomial Distribution\n",
        "\n",
        "**Binomial dsitribution describes the probability of obtaining k successes in n binomial experiments.**\n",
        "\n",
        "If a random variable X follows a binomial distribution, then the probability that X = k successes can be found by the following formula:\n",
        "\n",
        "**P(X=k) = nCk * pk * (1-p)n-k**\n",
        "\n",
        "where:\n",
        "\n",
        "n: number of trials\n",
        "\n",
        "k: number of successes\n",
        "\n",
        "p: probability of success on a given trial\n",
        "\n",
        "nCk: the number of ways to obtain k successes in n trials"
      ],
      "metadata": {
        "id": "DfNU_0eQUy7_"
      }
    },
    {
      "cell_type": "code",
      "source": [
        "# Generating binomial distribution\n",
        "import numpy as np\n",
        "\n",
        "np.random.seed(25)\n",
        "bi = np.random.binomial(n=15, p=0.25, size=500)\n",
        "print(bi)\n",
        "\n",
        "#Each number in the resulting array represents the number of “successes” experienced during 10 trials\n",
        "#where the probability of success in a given trial was .25."
      ],
      "metadata": {
        "colab": {
          "base_uri": "https://localhost:8080/"
        },
        "id": "7joz0KwqVBFL",
        "outputId": "0feeb50e-f020-4770-a104-7102b0d21f96"
      },
      "execution_count": null,
      "outputs": [
        {
          "output_type": "stream",
          "name": "stdout",
          "text": [
            "[6 4 3 2 3 2 4 3 4 3 3 2 3 4 2 4 3 5 3 5 4 4 3 9 4 4 1 5 3 3 3 6 4 3 3 4 4\n",
            " 5 5 5 1 4 3 4 7 6 3 4 2 4 2 5 1 3 4 4 4 4 5 3 3 5 5 2 5 3 3 6 4 3 1 2 4 2\n",
            " 5 5 2 5 3 4 2 6 5 4 1 4 2 5 2 4 2 5 1 5 5 4 2 6 2 4 5 2 3 6 4 2 3 5 7 5 3\n",
            " 5 4 3 4 2 3 0 3 2 3 2 2 5 2 1 6 6 4 3 9 2 8 2 3 4 3 5 7 4 4 5 5 2 3 4 3 1\n",
            " 3 1 1 3 5 7 4 8 2 1 3 5 5 6 4 4 5 2 5 1 1 4 2 2 3 2 4 3 3 3 3 6 3 4 1 6 5\n",
            " 7 3 7 2 5 1 4 1 3 3 1 5 3 6 4 5 3 3 3 3 6 4 3 4 2 7 4 5 1 2 4 3 3 4 4 3 4\n",
            " 5 6 5 1 4 4 3 1 4 4 5 3 0 3 3 4 3 3 1 7 4 4 3 3 3 4 4 3 3 4 1 6 3 5 5 5 1\n",
            " 7 4 4 3 2 1 4 9 4 4 4 6 4 4 3 2 2 5 2 3 2 5 4 1 3 2 4 3 3 2 3 6 3 5 4 5 3\n",
            " 5 5 2 3 4 1 3 3 4 2 5 4 3 3 4 7 4 5 5 7 3 6 4 6 6 3 2 2 5 4 5 4 1 1 6 6 5\n",
            " 7 2 4 2 5 4 2 4 3 4 3 5 8 2 5 3 6 4 3 3 3 4 4 5 4 6 4 5 4 4 5 3 2 3 4 2 4\n",
            " 2 2 4 8 3 5 3 3 7 2 3 4 6 4 4 3 4 5 6 2 2 2 2 4 4 7 5 5 2 1 1 4 2 7 2 4 6\n",
            " 6 5 4 2 3 2 4 6 4 3 4 4 5 2 3 5 3 4 2 1 3 4 6 4 4 7 7 4 6 6 5 5 3 4 5 7 4\n",
            " 4 1 2 8 3 4 6 2 2 6 3 3 4 4 3 6 3 5 4 3 1 5 2 2 4 6 4 4 4 6 3 2 7 3 2 5 0\n",
            " 4 5 5 0 2 7 6 9 3 5 5 1 1 6 1 1 2 1 5]\n"
          ]
        }
      ]
    },
    {
      "cell_type": "code",
      "source": [
        "#Visualize a Binomial Distribution\n",
        "import seaborn as sns\n",
        "\n",
        "sns.distplot(bi, hist=True, kde=False)\n",
        "\n",
        "\n",
        "#The x-axis describes the number of successes during 15 trials\n",
        "#and the y-axis displays the number of times each number of successes occurred during 500 experiments."
      ],
      "metadata": {
        "colab": {
          "base_uri": "https://localhost:8080/",
          "height": 648
        },
        "id": "iXNk2MHBXmdf",
        "outputId": "10a1bcca-918e-418b-862a-43862026f1c6"
      },
      "execution_count": null,
      "outputs": [
        {
          "output_type": "stream",
          "name": "stderr",
          "text": [
            "<ipython-input-83-36c24ed83139>:4: UserWarning: \n",
            "\n",
            "`distplot` is a deprecated function and will be removed in seaborn v0.14.0.\n",
            "\n",
            "Please adapt your code to use either `displot` (a figure-level function with\n",
            "similar flexibility) or `histplot` (an axes-level function for histograms).\n",
            "\n",
            "For a guide to updating your code to use the new functions, please see\n",
            "https://gist.github.com/mwaskom/de44147ed2974457ad6372750bbe5751\n",
            "\n",
            "  sns.distplot(bi, hist=True, kde=False)\n"
          ]
        },
        {
          "output_type": "execute_result",
          "data": {
            "text/plain": [
              "<Axes: >"
            ]
          },
          "metadata": {},
          "execution_count": 83
        },
        {
          "output_type": "display_data",
          "data": {
            "text/plain": [
              "<Figure size 640x480 with 1 Axes>"
            ],
            "image/png": "[encoded data removed]"
          },
          "metadata": {}
        }
      ]
    },
    {
      "cell_type": "markdown",
      "source": [
        "**Calculating Probabilities Using a Binomial Distribution**\n",
        "\n"
      ],
      "metadata": {
        "id": "JCrVGeD7Vq6z"
      }
    },
    {
      "cell_type": "markdown",
      "source": [
        " Nathan makes 60% of his free-throw attempts. If he shoots 12 free throws, what is the probability that he makes exactly 10?"
      ],
      "metadata": {
        "id": "PkY2VVZsVzRf"
      }
    },
    {
      "cell_type": "code",
      "source": [
        "from scipy import stats\n",
        "\n",
        "stats.binom.pmf(n=12, p=0.6, k=10)\n",
        "\n",
        "#The probability that Nathan makes exactly 10 free throws is 0.0639."
      ],
      "metadata": {
        "colab": {
          "base_uri": "https://localhost:8080/"
        },
        "id": "mQ1nHAWLVCKk",
        "outputId": "48b8c06d-480d-4439-99cb-584a1e3d9d72"
      },
      "execution_count": null,
      "outputs": [
        {
          "output_type": "execute_result",
          "data": {
            "text/plain": [
              "0.06385228185600002"
            ]
          },
          "metadata": {},
          "execution_count": 70
        }
      ]
    },
    {
      "cell_type": "markdown",
      "source": [
        "Marty flips a fair coin 5 times. What is the probability that the coin lands on heads 2 times or fewer?"
      ],
      "metadata": {
        "id": "6dSdxA6GXQLg"
      }
    },
    {
      "cell_type": "code",
      "source": [
        "from scipy.stats import binom\n",
        "\n",
        "binom.cdf(k=2, n=5, p=0.5)"
      ],
      "metadata": {
        "colab": {
          "base_uri": "https://localhost:8080/"
        },
        "id": "dpWb5s1cXSiQ",
        "outputId": "8ee01616-fc9c-47a7-a59f-1d52a1931f74"
      },
      "execution_count": null,
      "outputs": [
        {
          "output_type": "execute_result",
          "data": {
            "text/plain": [
              "0.5"
            ]
          },
          "metadata": {},
          "execution_count": 72
        }
      ]
    },
    {
      "cell_type": "markdown",
      "source": [
        "It is known that 70% of individuals support a certain law. If 10 individuals are randomly selected, what is the probability that between 4 and 6 of them support the law?"
      ],
      "metadata": {
        "id": "1WK73J4RW344"
      }
    },
    {
      "cell_type": "code",
      "source": [
        "from scipy import stats as s\n",
        "\n",
        "s.binom.cdf(n=10, p=0.7, k=6) - s.binom.cdf(n=10, p=0.7, k=4)"
      ],
      "metadata": {
        "colab": {
          "base_uri": "https://localhost:8080/"
        },
        "id": "58hgN6GqVCHP",
        "outputId": "4d1461ae-45b8-433d-8541-0bd02e208c17"
      },
      "execution_count": null,
      "outputs": [
        {
          "output_type": "execute_result",
          "data": {
            "text/plain": [
              "0.3030402942"
            ]
          },
          "metadata": {},
          "execution_count": 71
        }
      ]
    },
    {
      "cell_type": "markdown",
      "source": [
        "# Poisson Distribution\n",
        "\n",
        "**The Poisson distribution describes the probability of obtaining k successes during a given time interval.**\n",
        "\n",
        "If a random variable X follows a Poisson distribution, then the probability that X = k successes can be found by the following formula:\n",
        "\n",
        "**P(X=k) = λk * e– λ / k!**\n",
        "\n",
        "where:\n",
        "\n",
        "λ: mean number of successes that occur during a specific interval\n",
        "\n",
        "k: number of successes\n",
        "\n",
        "e: a constant equal to approximately 2.71828"
      ],
      "metadata": {
        "id": "4btwmW4eZUK8"
      }
    },
    {
      "cell_type": "code",
      "source": [
        "# Generating a Poisson Distribution\n",
        "# syntax\n",
        "# poisson.rvs(mu, size)      ---> mu= mean, size= sample size\n",
        "from scipy.stats import poisson\n",
        "\n",
        "po = poisson.rvs(mu=3, size=10)\n",
        "print(po)"
      ],
      "metadata": {
        "colab": {
          "base_uri": "https://localhost:8080/"
        },
        "id": "QUGmNfWEXn-M",
        "outputId": "abb7382c-ba7f-42ec-afec-2873b753c197"
      },
      "execution_count": null,
      "outputs": [
        {
          "output_type": "stream",
          "name": "stdout",
          "text": [
            "[0 3 3 3 3 5 4 5 6 4]\n"
          ]
        }
      ]
    },
    {
      "cell_type": "code",
      "source": [
        "#Visulaizing Poisson distribution\n",
        "\n",
        "import matplotlib.pyplot as plt\n",
        "from scipy.stats import poisson\n",
        "\n",
        "po_1 = poisson.rvs(mu=12, size=1500)\n",
        "\n",
        "plt.hist(po_1, density=True, edgecolor='black')"
      ],
      "metadata": {
        "colab": {
          "base_uri": "https://localhost:8080/",
          "height": 504
        },
        "id": "gs7vMUoCVCEp",
        "outputId": "2a5523f7-6e45-4066-e4d7-0c78a5f85f64"
      },
      "execution_count": null,
      "outputs": [
        {
          "output_type": "execute_result",
          "data": {
            "text/plain": [
              "(array([0.00318841, 0.0173913 , 0.04318841, 0.13478261, 0.09913043,\n",
              "        0.06869565, 0.04956522, 0.01507246, 0.0026087 , 0.00115942]),\n",
              " array([ 2. ,  4.3,  6.6,  8.9, 11.2, 13.5, 15.8, 18.1, 20.4, 22.7, 25. ]),\n",
              " <BarContainer object of 10 artists>)"
            ]
          },
          "metadata": {},
          "execution_count": 88
        },
        {
          "output_type": "display_data",
          "data": {
            "text/plain": [
              "<Figure size 640x480 with 1 Axes>"
            ],
            "image/png": "[encoded data removed]"
          },
          "metadata": {}
        }
      ]
    },
    {
      "cell_type": "markdown",
      "source": [
        "**Calculate Probabilities Using a Poisson Distribution**"
      ],
      "metadata": {
        "id": "anNNwv1ga6Qh"
      }
    },
    {
      "cell_type": "markdown",
      "source": [
        "**Syntax**\n",
        "\n",
        "**poisson.pmf(k, mu)**\n",
        "\n",
        "**poisson.cdf(k, mu)**\n",
        "\n",
        "mu = mean\n",
        "\n",
        "k = sample size"
      ],
      "metadata": {
        "id": "CzjA4siUbBck"
      }
    },
    {
      "cell_type": "markdown",
      "source": [
        "**Probability Equal to Some Value**"
      ],
      "metadata": {
        "id": "gK66BMT2cR4k"
      }
    },
    {
      "cell_type": "markdown",
      "source": [
        "A store sells 3 apples per day on average. What is the probability that they will sell 5 apples on a given day?"
      ],
      "metadata": {
        "id": "aGFh1SZ6bRih"
      }
    },
    {
      "cell_type": "code",
      "source": [
        "from scipy.stats import poisson\n",
        "\n",
        "poisson.pmf(mu=3,k=5)\n",
        "\n",
        "#The probability that the store sells 5 apples in a given day is 0.100819."
      ],
      "metadata": {
        "colab": {
          "base_uri": "https://localhost:8080/"
        },
        "id": "kIPtZRRVVCCJ",
        "outputId": "a6b45d37-ad25-4b61-cbfa-57c99a61ab1f"
      },
      "execution_count": null,
      "outputs": [
        {
          "output_type": "execute_result",
          "data": {
            "text/plain": [
              "0.10081881344492458"
            ]
          },
          "metadata": {},
          "execution_count": 89
        }
      ]
    },
    {
      "cell_type": "markdown",
      "source": [
        "**Probability Less than Some Value**"
      ],
      "metadata": {
        "id": "RUS8q3p8cOuR"
      }
    },
    {
      "cell_type": "markdown",
      "source": [
        "A certain store sells seven footballs per day on average. What is the probability that this store sells four or less footballs in a given day?"
      ],
      "metadata": {
        "id": "ev3ENToAbnug"
      }
    },
    {
      "cell_type": "code",
      "source": [
        "poisson.cdf(mu=7 ,k=4)\n",
        "\n",
        "#The probability that the store sells four or less footballs in a given day is 0.172992."
      ],
      "metadata": {
        "colab": {
          "base_uri": "https://localhost:8080/"
        },
        "id": "Z4u5Jp5dVB_p",
        "outputId": "4f8bf3fe-ce3e-42ff-bb4d-b1610e64998f"
      },
      "execution_count": null,
      "outputs": [
        {
          "output_type": "execute_result",
          "data": {
            "text/plain": [
              "0.17299160788207146"
            ]
          },
          "metadata": {},
          "execution_count": 90
        }
      ]
    },
    {
      "cell_type": "markdown",
      "source": [
        "**Probability Greater than Some Value**"
      ],
      "metadata": {
        "id": "Py7vDP3EcKx9"
      }
    },
    {
      "cell_type": "markdown",
      "source": [
        "A certain store sells 15 cans of tuna per day on average. What is the probability that this store sells more than 20 cans of tuna in a given day?"
      ],
      "metadata": {
        "id": "iNDmLEL4b5sf"
      }
    },
    {
      "cell_type": "code",
      "source": [
        "1-poisson.cdf(mu=15, k=20)\n",
        "\n",
        "#The probability that the store sells more than 20 cans of tuna in a given day is 0.082971."
      ],
      "metadata": {
        "colab": {
          "base_uri": "https://localhost:8080/"
        },
        "id": "ffH_BRqyVB9K",
        "outputId": "8825ff4b-8dc6-4e2d-9728-d19ec5c59f1d"
      },
      "execution_count": null,
      "outputs": [
        {
          "output_type": "execute_result",
          "data": {
            "text/plain": [
              "0.08297091003146029"
            ]
          },
          "metadata": {},
          "execution_count": 92
        }
      ]
    },
    {
      "cell_type": "markdown",
      "source": [
        "#Uniform Distribution\n",
        "\n",
        "**A uniform distribution is a probability distribution in which every value between an interval from a to b is equally likely to be chosen.**\n",
        "\n",
        "The probability that we will obtain a value between x1 and x2 on an interval from a to b can be found using the formula:\n",
        "\n",
        "**P(obtain value between x1 and x2)  =  (x2 – x1) / (b – a)**"
      ],
      "metadata": {
        "id": "aos7a-57ce-7"
      }
    },
    {
      "cell_type": "markdown",
      "source": [
        "**Syntax**\n",
        "\n",
        "**scipy.stats.uniform(x, loc, scale)**\n",
        "\n",
        "where:\n",
        "\n",
        "x: The value of the uniform distribution\n",
        "\n",
        "loc: The minimum possible value\n",
        "\n",
        "loc + scale: The maximum possible value"
      ],
      "metadata": {
        "id": "hpdlXAU2cpSh"
      }
    },
    {
      "cell_type": "markdown",
      "source": [
        "Suppose a bus shows up at a bus stop every 20 minutes. If you arrive at the bus stop, what is the probability that the bus will show up in 8 minutes or less?"
      ],
      "metadata": {
        "id": "vOJ3JvEpc1pQ"
      }
    },
    {
      "cell_type": "code",
      "source": [
        "from scipy.stats import uniform\n",
        "\n",
        "uniform.cdf(x=8, loc=0, scale=20) - uniform.cdf(x=0, loc=0, scale=20)\n",
        "\n",
        "#The probability that the bus shows up in 8 minutes or less is 0.4."
      ],
      "metadata": {
        "colab": {
          "base_uri": "https://localhost:8080/"
        },
        "id": "_b67v0dCVB60",
        "outputId": "636c8381-c2ac-4f34-f1d7-b39c493039a3"
      },
      "execution_count": null,
      "outputs": [
        {
          "output_type": "execute_result",
          "data": {
            "text/plain": [
              "0.4"
            ]
          },
          "metadata": {},
          "execution_count": 93
        }
      ]
    },
    {
      "cell_type": "markdown",
      "source": [
        "The weight of a certain species of frog is uniformly distributed between 15 and 25 grams. If you randomly select a frog, what is the probability that the frog weighs between 17 and 19 grams?"
      ],
      "metadata": {
        "id": "ikY4zHSudY09"
      }
    },
    {
      "cell_type": "code",
      "source": [
        "uniform.cdf(x=19, loc=15, scale=10) - uniform.cdf(x=17, loc=15, scale=10)\n",
        "\n",
        "#The probability that the frog weighs between 17 and 19 grams is 0.2."
      ],
      "metadata": {
        "colab": {
          "base_uri": "https://localhost:8080/"
        },
        "id": "911qbJ1dVB4F",
        "outputId": "492ca4de-9892-43b5-d913-2a4fa69982d5"
      },
      "execution_count": null,
      "outputs": [
        {
          "output_type": "execute_result",
          "data": {
            "text/plain": [
              "0.2"
            ]
          },
          "metadata": {},
          "execution_count": 94
        }
      ]
    },
    {
      "cell_type": "markdown",
      "source": [
        "The length of an NBA game is uniformly distributed between 120 and 170 minutes. What is the probability that a randomly selected NBA game lasts more than 150 minutes?"
      ],
      "metadata": {
        "id": "uOtT7lHpdhW9"
      }
    },
    {
      "cell_type": "code",
      "source": [
        "uniform.cdf(x=170, loc=120, scale=50) - uniform.cdf(x=150, loc=120, scale=50)\n",
        "\n",
        "#The probability that a randomly selected NBA game lasts more than 150 minutes is 0.4."
      ],
      "metadata": {
        "colab": {
          "base_uri": "https://localhost:8080/"
        },
        "id": "Zdze7wmgVB1x",
        "outputId": "76f2bec0-61ac-4fcf-eed6-1c144e1c6ceb"
      },
      "execution_count": null,
      "outputs": [
        {
          "output_type": "execute_result",
          "data": {
            "text/plain": [
              "0.4"
            ]
          },
          "metadata": {},
          "execution_count": 95
        }
      ]
    },
    {
      "cell_type": "markdown",
      "source": [
        "#t Distribution\n",
        "\n",
        "**The t distribution is a probability distribution that is similar to the normal distribution except it has heavier “tails” than the normal distribution.**\n",
        "\n",
        "**That is, more values in the distribution are located in the tail ends than the center compared to the normal distribution**\n"
      ],
      "metadata": {
        "id": "Z_OJR8Yld_Wu"
      }
    },
    {
      "cell_type": "code",
      "source": [
        "#Generating t distribution\n",
        "#syntax\n",
        "#t.rvs(df, size)         ---> df= degree of freedom,  size= sample size\n",
        "\n",
        "from scipy.stats import t\n",
        "\n",
        "t.rvs(df=6, size=10)\n",
        "\n",
        "#The result is an array of 10 values that follow a t distribution with 6 degrees of freedom."
      ],
      "metadata": {
        "colab": {
          "base_uri": "https://localhost:8080/"
        },
        "id": "Y9HyoCmiVBzG",
        "outputId": "81c665f5-5fad-49aa-c738-dc35d25aa147"
      },
      "execution_count": null,
      "outputs": [
        {
          "output_type": "execute_result",
          "data": {
            "text/plain": [
              "array([ 0.33519487, -0.47658778,  0.66290822,  1.35879207, -0.43930455,\n",
              "        0.66451504, -0.88936472,  0.61251557, -0.01423978, -1.12487236])"
            ]
          },
          "metadata": {},
          "execution_count": 96
        }
      ]
    },
    {
      "cell_type": "code",
      "source": [
        "#visualzing t distribution\n",
        "\n",
        "l = t.rvs(df=5, size=4500)\n",
        "plt.hist(l,density=True, edgecolor='black', bins=20)"
      ],
      "metadata": {
        "colab": {
          "base_uri": "https://localhost:8080/",
          "height": 630
        },
        "id": "9AfJ5OsNl681",
        "outputId": "1bba7a78-3463-4874-86cb-759942687af0"
      },
      "execution_count": null,
      "outputs": [
        {
          "output_type": "execute_result",
          "data": {
            "text/plain": [
              "(array([2.15598872e-04, 2.15598872e-04, 8.62395486e-04, 2.37158759e-03,\n",
              "        4.74317518e-03, 2.19910849e-02, 7.67531983e-02, 2.50094691e-01,\n",
              "        3.64793291e-01, 1.83690239e-01, 4.37665709e-02, 1.31515312e-02,\n",
              "        4.74317518e-03, 1.94038984e-03, 4.31197743e-04, 2.15598872e-04,\n",
              "        0.00000000e+00, 0.00000000e+00, 0.00000000e+00, 2.15598872e-04]),\n",
              " array([-8.54625813, -7.51553741, -6.4848167 , -5.45409599, -4.42337528,\n",
              "        -3.39265457, -2.36193386, -1.33121315, -0.30049244,  0.73022827,\n",
              "         1.76094898,  2.79166969,  3.82239041,  4.85311112,  5.88383183,\n",
              "         6.91455254,  7.94527325,  8.97599396, 10.00671467, 11.03743538,\n",
              "        12.06815609]),\n",
              " <BarContainer object of 20 artists>)"
            ]
          },
          "metadata": {},
          "execution_count": 102
        },
        {
          "output_type": "display_data",
          "data": {
            "text/plain": [
              "<Figure size 640x480 with 1 Axes>"
            ],
            "image/png": "[encoded data removed]"
          },
          "metadata": {}
        }
      ]
    },
    {
      "cell_type": "code",
      "source": [
        "sns.kdeplot(l)"
      ],
      "metadata": {
        "colab": {
          "base_uri": "https://localhost:8080/",
          "height": 448
        },
        "id": "ZM_LpM1FmZOI",
        "outputId": "c81f623c-dfd2-45f6-b45d-d3541ec41397"
      },
      "execution_count": null,
      "outputs": [
        {
          "output_type": "execute_result",
          "data": {
            "text/plain": [
              "<Axes: ylabel='Density'>"
            ]
          },
          "metadata": {},
          "execution_count": 101
        },
        {
          "output_type": "display_data",
          "data": {
            "text/plain": [
              "<Figure size 640x480 with 1 Axes>"
            ],
            "image/png": "[encoded data removed]"
          },
          "metadata": {}
        }
      ]
    },
    {
      "cell_type": "markdown",
      "source": [
        "#Normal Distribution\n",
        "\n"
      ],
      "metadata": {
        "id": "87Os-loynAXR"
      }
    },
    {
      "cell_type": "markdown",
      "source": [
        "**synatx**\n",
        "\n",
        "**np.random.normal(loc=0.0, scale=1.0, size=None)**\n",
        "\n",
        "where:\n",
        "\n",
        "loc: Mean of the distribution. Default is 0.\n",
        "\n",
        "scale: Standard deviation of the distribution. Default is 1.\n",
        "\n",
        "size: Sample size."
      ],
      "metadata": {
        "id": "AC4LLzp_nTuC"
      }
    },
    {
      "cell_type": "code",
      "source": [
        "import numpy as np\n",
        "\n",
        "no = np.random.normal(loc=0, scale=1, size=1500)\n",
        "no"
      ],
      "metadata": {
        "colab": {
          "base_uri": "https://localhost:8080/"
        },
        "id": "MJejLnuPVBwn",
        "outputId": "c5fe6de9-ac3c-4120-be17-fcf3139342b4"
      },
      "execution_count": null,
      "outputs": [
        {
          "output_type": "execute_result",
          "data": {
            "text/plain": [
              "array([ 0.84716376, -2.00157543,  0.67868565, ..., -1.39606793,\n",
              "        1.15647405, -2.20058556])"
            ]
          },
          "metadata": {},
          "execution_count": 108
        }
      ]
    },
    {
      "cell_type": "code",
      "source": [
        "plt.hist(no, bins=30)"
      ],
      "metadata": {
        "colab": {
          "base_uri": "https://localhost:8080/",
          "height": 630
        },
        "id": "cJgK71o3o07M",
        "outputId": "c9554642-be62-42f1-dc48-bf5150b2b15a"
      },
      "execution_count": null,
      "outputs": [
        {
          "output_type": "execute_result",
          "data": {
            "text/plain": [
              "(array([  3.,   3.,   3.,   7.,  11.,  20.,  28.,  35.,  61.,  86.,  83.,\n",
              "        117., 129., 139., 139., 118., 109., 121.,  89.,  59.,  50.,  36.,\n",
              "         17.,  13.,   9.,   5.,   6.,   3.,   0.,   1.]),\n",
              " array([-3.33444921, -3.09929274, -2.86413627, -2.62897979, -2.39382332,\n",
              "        -2.15866685, -1.92351038, -1.68835391, -1.45319744, -1.21804097,\n",
              "        -0.9828845 , -0.74772803, -0.51257155, -0.27741508, -0.04225861,\n",
              "         0.19289786,  0.42805433,  0.6632108 ,  0.89836727,  1.13352374,\n",
              "         1.36868021,  1.60383669,  1.83899316,  2.07414963,  2.3093061 ,\n",
              "         2.54446257,  2.77961904,  3.01477551,  3.24993198,  3.48508845,\n",
              "         3.72024492]),\n",
              " <BarContainer object of 30 artists>)"
            ]
          },
          "metadata": {},
          "execution_count": 115
        },
        {
          "output_type": "display_data",
          "data": {
            "text/plain": [
              "<Figure size 640x480 with 1 Axes>"
            ],
            "image/png": "[encoded data removed]"
          },
          "metadata": {}
        }
      ]
    },
    {
      "cell_type": "code",
      "source": [
        "#x-axis ranges from -3 and 3 with .001 steps\n",
        "from scipy.stats import norm\n",
        "x = np.arange(-3, 3, 0.001)\n",
        "\n",
        "#plot normal distribution with mean 0 and standard deviation 1\n",
        "plt.plot(x, norm.pdf(x, 0, 1))"
      ],
      "metadata": {
        "colab": {
          "base_uri": "https://localhost:8080/",
          "height": 448
        },
        "id": "onps5mbgoeEB",
        "outputId": "c2d7c801-3e67-4e6b-e1fc-d1e4655be337"
      },
      "execution_count": null,
      "outputs": [
        {
          "output_type": "execute_result",
          "data": {
            "text/plain": [
              "[<matplotlib.lines.Line2D at 0x79f7ae0446a0>]"
            ]
          },
          "metadata": {},
          "execution_count": 113
        },
        {
          "output_type": "display_data",
          "data": {
            "text/plain": [
              "<Figure size 640x480 with 1 Axes>"
            ],
            "image/png": "[encoded data removed]"
          },
          "metadata": {}
        }
      ]
    },
    {
      "cell_type": "code",
      "source": [
        "import numpy as np\n",
        "import matplotlib.pyplot as plt\n",
        "from scipy.stats import norm\n",
        "\n",
        "#x-axis ranges from -5 and 5 with .001 steps\n",
        "x = np.arange(-5, 5, 0.001)\n",
        "\n",
        "#define multiple normal distributions\n",
        "plt.plot(x, norm.pdf(x, 0, 1), label='μ: 0, σ: 1')\n",
        "plt.plot(x, norm.pdf(x, 0, 1.5), label='μ:0, σ: 1.5')\n",
        "plt.plot(x, norm.pdf(x, 0, 2), label='μ:0, σ: 2')\n",
        "\n",
        "#add legend to plot\n",
        "plt.legend()"
      ],
      "metadata": {
        "colab": {
          "base_uri": "https://localhost:8080/",
          "height": 448
        },
        "id": "BU2pq7g2oqeX",
        "outputId": "903dd03f-45bd-4357-954a-2cd1bd442c0b"
      },
      "execution_count": null,
      "outputs": [
        {
          "output_type": "execute_result",
          "data": {
            "text/plain": [
              "<matplotlib.legend.Legend at 0x79f7ae12c5e0>"
            ]
          },
          "metadata": {},
          "execution_count": 114
        },
        {
          "output_type": "display_data",
          "data": {
            "text/plain": [
              "<Figure size 640x480 with 1 Axes>"
            ],
            "image/png": "[encoded data removed]"
          },
          "metadata": {}
        }
      ]
    },
    {
      "cell_type": "markdown",
      "source": [
        "#CDF\n",
        "\n",
        "**A cumulative distribution function (CDF) tells us the probability that a random variable takes on a value less than or equal to some value.**"
      ],
      "metadata": {
        "id": "-h8K6-o3pA3W"
      }
    },
    {
      "cell_type": "code",
      "source": [
        "from scipy.stats import norm\n",
        "\n",
        "#calculate probability that random value is less than 1.96 in normal CDF\n",
        "norm.cdf(1.96)\n",
        "\n",
        "#The probability that a random variables takes on a value less than 1.96 in a standard normal distribution is roughly 0.975."
      ],
      "metadata": {
        "colab": {
          "base_uri": "https://localhost:8080/"
        },
        "id": "Lj_OHjsSVBrl",
        "outputId": "890aef03-11e3-4adf-c1b4-f3ebe763d931"
      },
      "execution_count": null,
      "outputs": [
        {
          "output_type": "execute_result",
          "data": {
            "text/plain": [
              "0.9750021048517795"
            ]
          },
          "metadata": {},
          "execution_count": 116
        }
      ]
    },
    {
      "cell_type": "code",
      "source": [
        "#We can also find the probability that a random variable takes on a value greater than 1.96 by simply subtracting this value from 1:\n",
        "from scipy.stats import norm\n",
        "\n",
        "#calculate probability that random value is greater than 1.96 in normal CDF\n",
        "1 - norm.cdf(1.96)\n",
        "\n",
        "#The probability that a random variables takes on a value greater than 1.96 in a standard normal distribution is roughly 0.025."
      ],
      "metadata": {
        "colab": {
          "base_uri": "https://localhost:8080/"
        },
        "id": "6PzFT9ouVBoa",
        "outputId": "117ad425-9fe8-4dd5-f2e5-206c18864baf"
      },
      "execution_count": null,
      "outputs": [
        {
          "output_type": "execute_result",
          "data": {
            "text/plain": [
              "0.024997895148220484"
            ]
          },
          "metadata": {},
          "execution_count": 117
        }
      ]
    },
    {
      "cell_type": "markdown",
      "source": [
        "**Plot the Normal CDF**"
      ],
      "metadata": {
        "id": "v7MgSicYpYIS"
      }
    },
    {
      "cell_type": "code",
      "source": [
        "import matplotlib.pyplot as plt\n",
        "import numpy as np\n",
        "import scipy.stats as ss\n",
        "\n",
        "#define x and y values to use for CDF\n",
        "x = np.linspace(-4, 4, 1000)\n",
        "y = ss.norm.cdf(x)\n",
        "\n",
        "#plot normal CDF\n",
        "plt.plot(x, y)\n",
        "\n",
        "#The x-axis shows the values of a random variable that follows a standard normal distribution and\n",
        "#the y-axis shows the probability that a random variable takes on a value less than the value shown on the x-axis.\n",
        "\n",
        "#For example, if we look at x = 1.96 then we’ll see that the cumulative probability that x is less than 1.96 is roughly 0.975."
      ],
      "metadata": {
        "colab": {
          "base_uri": "https://localhost:8080/",
          "height": 448
        },
        "id": "uDXOHmD-pPyL",
        "outputId": "d2718924-7be5-4c51-b9e8-6b48246d0144"
      },
      "execution_count": null,
      "outputs": [
        {
          "output_type": "execute_result",
          "data": {
            "text/plain": [
              "[<matplotlib.lines.Line2D at 0x79f7ade2f0d0>]"
            ]
          },
          "metadata": {},
          "execution_count": 118
        },
        {
          "output_type": "display_data",
          "data": {
            "text/plain": [
              "<Figure size 640x480 with 1 Axes>"
            ],
            "image/png": "[encoded data removed]"
          },
          "metadata": {}
        }
      ]
    },
    {
      "cell_type": "markdown",
      "source": [
        "#Chi-Square Distribution\n",
        "\n"
      ],
      "metadata": {
        "id": "hEL3NlW6ppGU"
      }
    },
    {
      "cell_type": "code",
      "source": [
        "from scipy.stats import chi2\n",
        "\n",
        "#x-axis ranges from 0 to 20 with .001 steps\n",
        "x = np.arange(0, 20, 0.001)\n",
        "\n",
        "#plot Chi-square distribution with 4 degrees of freedom\n",
        "plt.plot(x, chi2.pdf(x, df=4))"
      ],
      "metadata": {
        "colab": {
          "base_uri": "https://localhost:8080/",
          "height": 448
        },
        "id": "aJqlt12npPva",
        "outputId": "644de5e8-145a-4279-b116-2dd0a8c42a50"
      },
      "execution_count": null,
      "outputs": [
        {
          "output_type": "execute_result",
          "data": {
            "text/plain": [
              "[<matplotlib.lines.Line2D at 0x79f7add1e590>]"
            ]
          },
          "metadata": {},
          "execution_count": 120
        },
        {
          "output_type": "display_data",
          "data": {
            "text/plain": [
              "<Figure size 640x480 with 1 Axes>"
            ],
            "image/png": "[encoded data removed]"
          },
          "metadata": {}
        }
      ]
    },
    {
      "cell_type": "markdown",
      "source": [
        "**Plot a Single Chi-Square Distribution**"
      ],
      "metadata": {
        "id": "zM90HtDKp346"
      }
    },
    {
      "cell_type": "code",
      "source": [
        "#The following code shows how to plot a single Chi-square distribution curve with 4 degrees of freedom\n",
        "\n",
        "import numpy as np\n",
        "import matplotlib.pyplot as plt\n",
        "from scipy.stats import chi2\n",
        "\n",
        "#x-axis ranges from 0 to 20 with .001 steps\n",
        "x = np.arange(0, 20, 0.001)\n",
        "\n",
        "#plot Chi-square distribution with 4 degrees of freedom\n",
        "plt.plot(x, chi2.pdf(x, df=4))"
      ],
      "metadata": {
        "colab": {
          "base_uri": "https://localhost:8080/",
          "height": 448
        },
        "id": "l9MJJt5upPs5",
        "outputId": "ea29ac1d-a4a6-4964-afc7-439bbbe3b67f"
      },
      "execution_count": null,
      "outputs": [
        {
          "output_type": "execute_result",
          "data": {
            "text/plain": [
              "[<matplotlib.lines.Line2D at 0x79f7add8e1a0>]"
            ]
          },
          "metadata": {},
          "execution_count": 121
        },
        {
          "output_type": "display_data",
          "data": {
            "text/plain": [
              "<Figure size 640x480 with 1 Axes>"
            ],
            "image/png": "[encoded data removed]"
          },
          "metadata": {}
        }
      ]
    },
    {
      "cell_type": "markdown",
      "source": [
        "**Plot Multiple Chi-Square Distributions**"
      ],
      "metadata": {
        "id": "KrJ5CeYup_pp"
      }
    },
    {
      "cell_type": "code",
      "source": [
        "#The following code shows how to plot multiple Chi-square distribution curves with different degrees of freedom:\n",
        "\n",
        "import numpy as np\n",
        "import matplotlib.pyplot as plt\n",
        "from scipy.stats import chi2\n",
        "\n",
        "#x-axis ranges from 0 to 20 with .001 steps\n",
        "x = np.arange(0, 20, 0.001)\n",
        "\n",
        "#define multiple Chi-square distributions\n",
        "plt.plot(x, chi2.pdf(x, df=4), label='df: 4')\n",
        "plt.plot(x, chi2.pdf(x, df=8), label='df: 8')\n",
        "plt.plot(x, chi2.pdf(x, df=12), label='df: 12')\n",
        "\n",
        "#add legend to plot\n",
        "plt.legend()"
      ],
      "metadata": {
        "colab": {
          "base_uri": "https://localhost:8080/",
          "height": 448
        },
        "id": "UuRsTHqrpPqb",
        "outputId": "e206a409-4382-4423-9652-2223b46d5fc1"
      },
      "execution_count": null,
      "outputs": [
        {
          "output_type": "execute_result",
          "data": {
            "text/plain": [
              "<matplotlib.legend.Legend at 0x79f7add56680>"
            ]
          },
          "metadata": {},
          "execution_count": 122
        },
        {
          "output_type": "display_data",
          "data": {
            "text/plain": [
              "<Figure size 640x480 with 1 Axes>"
            ],
            "image/png": "[encoded data removed]"
          },
          "metadata": {}
        }
      ]
    },
    {
      "cell_type": "markdown",
      "source": [
        "#Hypothesis Testing\n",
        "\n",
        "**A hypothesis test is a formal statistical test we use to reject or fail to reject some statistical hypothesis.**\n",
        "\n",
        "\n",
        "\n",
        "One sample t-test\n",
        "\n",
        "Two sample t-test\n",
        "\n",
        "Paired samples t-test"
      ],
      "metadata": {
        "id": "5qgVyoDsq8iJ"
      }
    },
    {
      "cell_type": "markdown",
      "source": [
        "**One Sample t-test**\n",
        "\n",
        "**A one sample t-test is used to test whether or not the mean of a population is equal to some value.**\n",
        "\n",
        "For example, suppose we want to know whether or not the mean weight of a certain species of some turtle is equal to 310 pounds.\n",
        "\n",
        "To test this, we go out and collect a simple random sample of turtles with the following weights:\n",
        "\n",
        "Weights: 300, 315, 320, 311, 314, 309, 300, 308, 305, 303, 305, 301, 303\n",
        "\n",
        "The following code shows how to use the ttest_1samp() function from the scipy.stats library to perform a one sample t-test:"
      ],
      "metadata": {
        "id": "WdSz01UPrJ5D"
      }
    },
    {
      "cell_type": "markdown",
      "source": [
        "**syntax**\n",
        "\n",
        "**ttest_1samp(a, popmean)**\n",
        "\n",
        "where:\n",
        "\n",
        "a: an array of sample observations\n",
        "\n",
        "popmean: the expected population mean"
      ],
      "metadata": {
        "id": "5WY77hx3skA_"
      }
    },
    {
      "cell_type": "code",
      "source": [
        "import scipy.stats as stats\n",
        "\n",
        "#define data\n",
        "data = [300, 315, 320, 311, 314, 309, 300, 308, 305, 303, 305, 301, 303]\n",
        "\n",
        "#perform one sample t-test\n",
        "stats.ttest_1samp(a=data, popmean=310)\n",
        "\n",
        "\n",
        "#The t test statistic is -1.5848 and the corresponding two-sided p-value is 0.1389.\n",
        "\n",
        "#The two hypotheses for this particular one sample t-test are as follows:\n",
        "\n",
        "#H0: µ = 310 (the mean weight for this species of turtle is 310 pounds)\n",
        "#HA: µ ≠310 (the mean weight is not 310 pounds)\n",
        "#Because the p-value of our test (0.1389) is greater than alpha = 0.05, we fail to reject the null hypothesis of the test.\n",
        "\n",
        "#We do not have sufficient evidence to say that the mean weight for this particular species of turtle is different from 310 pounds."
      ],
      "metadata": {
        "colab": {
          "base_uri": "https://localhost:8080/"
        },
        "id": "62ukIdRGpPn4",
        "outputId": "187131bc-64ba-4ed9-8428-68ee1aa0fda3"
      },
      "execution_count": null,
      "outputs": [
        {
          "output_type": "execute_result",
          "data": {
            "text/plain": [
              "TtestResult(statistic=-1.5848116313861254, pvalue=0.1389944275158753, df=12)"
            ]
          },
          "metadata": {},
          "execution_count": 123
        }
      ]
    },
    {
      "cell_type": "markdown",
      "source": [
        "**Two Sample t-test**\n",
        "\n",
        "**A two sample t-test is used to test whether or not the means of two populations are equal.**\n",
        "\n",
        "For example, suppose we want to know whether or not the mean weight between two different species of turtles is equal.\n",
        "\n",
        "To test this, we collect a simple random sample of turtles from each species with the following weights:\n",
        "\n",
        "Sample 1: 300, 315, 320, 311, 314, 309, 300, 308, 305, 303, 305, 301, 303\n",
        "\n",
        "Sample 2: 335, 329, 322, 321, 324, 319, 304, 308, 305, 311, 307, 300, 305\n",
        "\n",
        "The following code shows how to use the ttest_ind() function from the scipy.stats library to perform this two sample t-test:"
      ],
      "metadata": {
        "id": "0nTv91D5rpr7"
      }
    },
    {
      "cell_type": "markdown",
      "source": [
        "**Syntax**\n",
        "\n",
        "**ttest_ind(a, b, equal_var=True)**\n",
        "\n",
        "where:\n",
        "\n",
        "a: an array of sample observations for group 1\n",
        "\n",
        "b: an array of sample observations for group 2\n",
        "\n",
        "equal_var: if True, perform a standard independent 2 sample t-test that assumes equal population variances. If False, perform Welch’s t-test, which does not assume equal population variances. This is True by default.\n",
        "\n",
        "\n",
        "Before we perform the test, we need to decide if we’ll assume the two populations have equal variances or not. As a rule of thumb, we can assume the populations have equal variances if the ratio of the larger sample variance to the smaller sample variance is less than 4:1.\n",
        "\n",
        "\n",
        "find variance for each group\n",
        "\n",
        "print(np.var(group1), np.var(group2))\n",
        "\n",
        "Suppose we got  --> 7.73, 12.26\n",
        "\n",
        "The ratio of the larger sample variance to the smaller sample variance is 12.26 / 7.73 = 1.586, which is less than 4. This means we can assume that the population variances are equal.\n",
        "\n",
        "\n",
        "Thus, we can proceed to perform the two sample t-test with equal variances:"
      ],
      "metadata": {
        "id": "R9u_Uj2Cs54L"
      }
    },
    {
      "cell_type": "code",
      "source": [
        "import scipy.stats as stats\n",
        "\n",
        "#define array of turtle weights for each sample\n",
        "sample1 = [300, 315, 320, 311, 314, 309, 300, 308, 305, 303, 305, 301, 303]\n",
        "sample2 = [335, 329, 322, 321, 324, 319, 304, 308, 305, 311, 307, 300, 305]\n",
        "\n",
        "#perform two sample t-test\n",
        "stats.ttest_ind(a=sample1, b=sample2)\n",
        "\n",
        "\n",
        "\n",
        "#The t test statistic is –2.1009 and the corresponding two-sided p-value is 0.0463.\n",
        "\n",
        "#The two hypotheses for this particular two sample t-test are as follows:\n",
        "\n",
        "#H0: µ1 = µ2 (the mean weight between the two species is equal)\n",
        "#HA: µ1 ≠ µ2 (the mean weight between the two species is not equal)\n",
        "#Since the p-value of the test (0.0463) is less than .05, we reject the null hypothesis.\n",
        "\n",
        "3This means we have sufficient evidence to say that the mean weight between the two species is not equal."
      ],
      "metadata": {
        "colab": {
          "base_uri": "https://localhost:8080/"
        },
        "id": "S7JNGXFmpPlZ",
        "outputId": "1fb00175-0c0d-4769-eec5-cf97e91626d5"
      },
      "execution_count": null,
      "outputs": [
        {
          "output_type": "execute_result",
          "data": {
            "text/plain": [
              "TtestResult(statistic=-2.10090292575557, pvalue=0.04633501389516513, df=24.0)"
            ]
          },
          "metadata": {},
          "execution_count": 124
        }
      ]
    },
    {
      "cell_type": "markdown",
      "source": [
        "**Paired Samples t-test**\n",
        "\n",
        "**A paired samples t-test is used to compare the means of two samples when each observation in one sample can be paired with an observation in the other sample.**\n",
        "\n",
        "For example, suppose we want to know whether or not a certain training program is able to increase the max vertical jump (in inches) of basketball players.\n",
        "\n",
        "To test this, we may recruit a simple random sample of 12 college basketball players and measure each of their max vertical jumps. Then, we may have each player use the training program for one month and then measure their max vertical jump again at the end of the month.\n",
        "\n",
        "The following data shows the max jump height (in inches) before and after using the training program for each player:\n",
        "\n",
        "Before: 22, 24, 20, 19, 19, 20, 22, 25, 24, 23, 22, 21\n",
        "\n",
        "After: 23, 25, 20, 24, 18, 22, 23, 28, 24, 25, 24, 20\n",
        "\n",
        "The following code shows how to use the ttest_rel() function from the scipy.stats library to perform this paired samples t-test:\n",
        "\n"
      ],
      "metadata": {
        "id": "jHO_xMOGsFpK"
      }
    },
    {
      "cell_type": "markdown",
      "source": [
        "**Syntax**\n",
        "\n",
        "**ttest_rel(a, b)**\n",
        "\n",
        "where:\n",
        "\n",
        "a: an array of sample observations from group 1\n",
        "\n",
        "b: an array of sample observations from group 2"
      ],
      "metadata": {
        "id": "jBlFk8GttgUR"
      }
    },
    {
      "cell_type": "code",
      "source": [
        "import scipy.stats as stats\n",
        "\n",
        "#define before and after max jump heights\n",
        "before = [22, 24, 20, 19, 19, 20, 22, 25, 24, 23, 22, 21]\n",
        "after = [23, 25, 20, 24, 18, 22, 23, 28, 24, 25, 24, 20]\n",
        "\n",
        "#perform paired samples t-test\n",
        "stats.ttest_rel(a=before, b=after)\n",
        "\n",
        "\n",
        "\n",
        "\n",
        "#The t test statistic is –2.5289 and the corresponding two-sided p-value is 0.0280.\n",
        "\n",
        "#The two hypotheses for this particular paired samples t-test are as follows:\n",
        "\n",
        "#H0: µ1 = µ2 (the mean jump height before and after using the program is equal)\n",
        "#HA: µ1 ≠ µ2 (the mean jump height before and after using the program is not equal)\n",
        "#Since the p-value of the test (0.0280) is less than .05, we reject the null hypothesis.\n",
        "\n",
        "#This means we have sufficient evidence to say that the mean jump height before and after using the training program is not equal."
      ],
      "metadata": {
        "colab": {
          "base_uri": "https://localhost:8080/"
        },
        "id": "Ed_TxiZYpPi4",
        "outputId": "e5633d70-cbba-4ecc-f054-e44a599505ba"
      },
      "execution_count": null,
      "outputs": [
        {
          "output_type": "execute_result",
          "data": {
            "text/plain": [
              "TtestResult(statistic=-2.5289026942943655, pvalue=0.02802807458682508, df=11)"
            ]
          },
          "metadata": {},
          "execution_count": 125
        }
      ]
    },
    {
      "cell_type": "markdown",
      "source": [
        "#Z-Tests\n"
      ],
      "metadata": {
        "id": "dd3ytuiStryM"
      }
    },
    {
      "cell_type": "markdown",
      "source": [
        "**statsmodels.stats.weightstats.ztest(x1, x2=None, value=0)**\n",
        "\n",
        "where:\n",
        "\n",
        "x1: values for the first sample\n",
        "\n",
        "x2: values for the second sample (if performing a two sample z-test)\n",
        "\n",
        "value: mean under the null (in one sample case) or mean difference (in two sample case)"
      ],
      "metadata": {
        "id": "k0_BUUrAtxwI"
      }
    },
    {
      "cell_type": "markdown",
      "source": [
        "**One Sample Z-Test in Python**\n",
        "\n",
        "Suppose the IQ in a certain population is normally distributed with a mean of μ = 100 and standard deviation of σ = 15.\n",
        "\n",
        "A researcher wants to know if a new drug affects IQ levels, so he recruits 20 patients to try it and records their IQ levels.\n",
        "\n",
        "The following code shows how to perform a one sample z-test in Python to determine if the new drug causes a significant difference in IQ levels:"
      ],
      "metadata": {
        "id": "OKhLc-HHt58w"
      }
    },
    {
      "cell_type": "code",
      "source": [
        "from statsmodels.stats.weightstats import ztest as ztest\n",
        "\n",
        "#enter IQ levels for 20 patients\n",
        "data = [88, 92, 94, 94, 96, 97, 97, 97, 99, 99,\n",
        "        105, 109, 109, 109, 110, 112, 112, 113, 114, 115]\n",
        "\n",
        "#perform one sample z-test\n",
        "ztest(data, value=100)\n",
        "\n",
        "\n",
        "\n",
        "#The test statistic for the one sample z-test is 1.5976 and the corresponding p-value is 0.1101.\n",
        "\n",
        "#Since this p-value is not less than .05, we do not have sufficient evidence to reject the null hypothesis.\n",
        "#In other words, the new drug does not significantly affect IQ level."
      ],
      "metadata": {
        "colab": {
          "base_uri": "https://localhost:8080/"
        },
        "id": "_YPTCylnq75t",
        "outputId": "893ed835-994e-42d4-f88f-fe412ab73932"
      },
      "execution_count": null,
      "outputs": [
        {
          "output_type": "execute_result",
          "data": {
            "text/plain": [
              "(1.5976240527147705, 0.1101266701438426)"
            ]
          },
          "metadata": {},
          "execution_count": 126
        }
      ]
    },
    {
      "cell_type": "markdown",
      "source": [
        "**Two Sample Z-Test**\n",
        "\n",
        "\n",
        "Suppose the IQ levels among individuals in two different cities are known to be normally distributed with known standard deviations.\n",
        "\n",
        "A researcher wants to know if the mean IQ level between individuals in city A and city B are different, so she selects a simple random sample of  20 individuals from each city and records their IQ levels.\n",
        "\n",
        "The following code shows how to perform a two sample z-test in Python to determine if the mean IQ level is different between the two cities:"
      ],
      "metadata": {
        "id": "XdXJIdsmuHPB"
      }
    },
    {
      "cell_type": "code",
      "source": [
        "from statsmodels.stats.weightstats import ztest as ztest\n",
        "\n",
        "#enter IQ levels for 20 individuals from each city\n",
        "cityA = [82, 84, 85, 89, 91, 91, 92, 94, 99, 99,\n",
        "         105, 109, 109, 109, 110, 112, 112, 113, 114, 114]\n",
        "\n",
        "cityB = [90, 91, 91, 91, 95, 95, 99, 99, 108, 109,\n",
        "         109, 114, 115, 116, 117, 117, 128, 129, 130, 133]\n",
        "\n",
        "#perform two sample z-test\n",
        "ztest(cityA, cityB, value=0)\n",
        "\n",
        "\n",
        "\n",
        "#The test statistic for the two sample z-test is -1.9953 and the corresponding p-value is 0.0460.\n",
        "\n",
        "#Since this p-value is less than .05, we have sufficient evidence to reject the null hypothesis.\n",
        "#In other words, the mean IQ level is significantly different between the two cities.\n",
        "\n"
      ],
      "metadata": {
        "colab": {
          "base_uri": "https://localhost:8080/"
        },
        "id": "fNzkIN98q73J",
        "outputId": "16dba198-71b1-4620-d782-60150f411826"
      },
      "execution_count": null,
      "outputs": [
        {
          "output_type": "execute_result",
          "data": {
            "text/plain": [
              "(-1.9953236073282115, 0.046007596761332065)"
            ]
          },
          "metadata": {},
          "execution_count": 127
        }
      ]
    },
    {
      "cell_type": "markdown",
      "source": [
        "**One Proportion Z-Test**\n",
        "\n",
        "**A one proportion z-test is used to compare an observed proportion to a theoretical one.**\n",
        "\n",
        "This test uses the following null hypotheses:\n",
        "\n",
        "H0: p = p0 (population proportion is equal to hypothesized proportion p0)\n",
        "\n",
        "The alternative hypothesis can be either two-tailed, left-tailed, or right-tailed:\n",
        "\n",
        "H1 (two-tailed): p ≠ p0 (population proportion is not equal to some hypothesized value p0)\n",
        "\n",
        "H1 (left-tailed): p < p0 (population proportion is less than some hypothesized value p0)\n",
        "\n",
        "H1 (right-tailed): p > p0 (population proportion is greater than some hypothesized value p0)\n",
        "\n",
        "\n",
        "The test statistic is calculated as:\n",
        "\n",
        "z = (p-p0) / √p0(1-p0)/n\n",
        "\n",
        "where:\n",
        "\n",
        "p: observed sample proportion\n",
        "\n",
        "p0: hypothesized population proportion\n",
        "\n",
        "n: sample size\n",
        "\n",
        "If the p-value that corresponds to the test statistic z is less than your chosen significance level (common choices are 0.10, 0.05, and 0.01) then you can reject the null hypothesis."
      ],
      "metadata": {
        "id": "ewdlIA0iubhu"
      }
    },
    {
      "cell_type": "markdown",
      "source": [
        "**syntax**\n",
        "\n",
        "**proportions_ztest(count, nobs, value=None, alternative=’two-sided’)**\n",
        "\n",
        "where:\n",
        "\n",
        "count: The number of successes\n",
        "\n",
        "nobs: The number of trials\n",
        "\n",
        "value: The hypothesized population proportion\n",
        "\n",
        "alternative: The alternative hypothesis\n",
        "\n",
        "\n",
        "This function returns a z test-statistic and a corresponding p-value."
      ],
      "metadata": {
        "id": "Znmm0LVlu2aV"
      }
    },
    {
      "cell_type": "markdown",
      "source": [
        "Suppose we want to know whether or not the proportion of residents in a certain county who support a certain law is equal to 60%. To test this, we collect the following data on a random sample:\n",
        "\n",
        "p0: hypothesized population proportion = 0.60\n",
        "\n",
        "x: residents who support law: 64\n",
        "\n",
        "n: sample size = 100"
      ],
      "metadata": {
        "id": "aBXQsPtvu_pc"
      }
    },
    {
      "cell_type": "code",
      "source": [
        "#import proportions_ztest function\n",
        "from statsmodels.stats.proportion import proportions_ztest\n",
        "\n",
        "#perform one proportion z-test\n",
        "proportions_ztest(count=60, nobs=100, value=0.64)\n",
        "\n",
        "\n",
        "\n",
        "#From the output we can see that the z test-statistic is -0.8165 and the corresponding p-value is 0.4142.\n",
        "#Since this value is not less than α = 0.05, we fail to reject the null hypothesis.\n",
        "#We do not have sufficient evidence to say that the proportion of residents who support the law is different from 0.60."
      ],
      "metadata": {
        "colab": {
          "base_uri": "https://localhost:8080/"
        },
        "id": "tH0n3uSeq7x0",
        "outputId": "b642744c-f493-47ea-8e2c-9b2d1146953e"
      },
      "execution_count": null,
      "outputs": [
        {
          "output_type": "execute_result",
          "data": {
            "text/plain": [
              "(-0.8164965809277268, 0.41421617824252466)"
            ]
          },
          "metadata": {},
          "execution_count": 128
        }
      ]
    },
    {
      "cell_type": "markdown",
      "source": [
        "#Binomial Test\n",
        "\n",
        "**A binomial test compares a sample proportion to a hypothesized proportion.**\n",
        "\n",
        "For example, suppose we have a 6-sided die. If we roll it 12 times, we would expect the number “3” to show up 1/6 of the time, which would be 12 * (1/6) = 2 times.\n",
        "\n",
        "If the number “3” actually shows up 4 times, is that evidence that the die is biased towards the number “3”? We could perform a binomial test to answer that question."
      ],
      "metadata": {
        "id": "2aR9Y8XOvRc4"
      }
    },
    {
      "cell_type": "markdown",
      "source": [
        "**syntax**\n",
        "\n",
        "**binom_test(x, n=None, p=0.5, alternative=’two-sided’)**\n",
        "\n",
        "where:\n",
        "\n",
        "x: number of “successes”\n",
        "\n",
        "n: total number of trials\n",
        "\n",
        "p: the probability of success on each trial\n",
        "\n",
        "alternative: the alternative hypothesis. Default is ‘two-sided’ but you can also specify ‘greater’ or ‘less.’\n",
        "\n",
        "This function returns the p-value of the test."
      ],
      "metadata": {
        "id": "1oEvJwnfvg25"
      }
    },
    {
      "cell_type": "markdown",
      "source": [
        "We roll a 6-sided die 24 times and it lands on the number “3” exactly 6 times. Perform a binomial test to determine if the die is biased towards the number “3.”\n",
        "\n",
        "The null and alternative hypotheses for our test are as follows:\n",
        "\n",
        "H0: π ≤ 1/6 (the die is not biased towards the number “3”)\n",
        "\n",
        "HA: π > 1/6\n",
        "\n",
        "*π is the symbol for population proportion."
      ],
      "metadata": {
        "id": "KgLcSplsvraU"
      }
    },
    {
      "cell_type": "code",
      "source": [
        "from scipy.stats import binom_test\n",
        "\n",
        "binom_test(x=6, n=24, p=1/6, alternative='greater')\n",
        "\n",
        "\n",
        "#Because this p-value (0.1995) is not less than 0.05, we fail to reject the null hypothesis.\n",
        "#We do not have sufficient evidence to say the die is biased towards the number “3.”"
      ],
      "metadata": {
        "colab": {
          "base_uri": "https://localhost:8080/"
        },
        "id": "VR_ffBGCq7u6",
        "outputId": "e46e6acb-bbd3-444c-8ca0-a99d42a13cf8"
      },
      "execution_count": null,
      "outputs": [
        {
          "output_type": "stream",
          "name": "stderr",
          "text": [
            "<ipython-input-129-592e1902309e>:3: DeprecationWarning: 'binom_test' is deprecated in favour of 'binomtest' from version 1.7.0 and will be removed in Scipy 1.12.0.\n",
            "  binom_test(x=6, n=24, p=1/6, alternative='greater')\n"
          ]
        },
        {
          "output_type": "execute_result",
          "data": {
            "text/plain": [
              "0.1995295129479585"
            ]
          },
          "metadata": {},
          "execution_count": 129
        }
      ]
    },
    {
      "cell_type": "markdown",
      "source": [
        "We flip a coin 30 times and it lands on heads exactly 19 times. Perform a binomial test to determine if the coin is biased towards heads.\n",
        "\n",
        "The null and alternative hypotheses for our test are as follows:\n",
        "\n",
        "H0: π ≤ 1/2 (the coin is not biased towards heads)\n",
        "\n",
        "HA: π > 1/2"
      ],
      "metadata": {
        "id": "bUbXUHTbv7Mv"
      }
    },
    {
      "cell_type": "code",
      "source": [
        "binom_test(x=19, n=30, p=1/2, alternative='greater')\n",
        "\n",
        "#Because this p-value (0.10024) is not less than 0.05, we fail to reject the null hypothesis.\n",
        "#We do not have sufficient evidence to say the coin is biased towards heads."
      ],
      "metadata": {
        "colab": {
          "base_uri": "https://localhost:8080/"
        },
        "id": "CinnW-fmq7sP",
        "outputId": "49a1cbb9-ec58-4cbf-fda6-d5df7eae59f7"
      },
      "execution_count": null,
      "outputs": [
        {
          "output_type": "stream",
          "name": "stderr",
          "text": [
            "<ipython-input-130-582ac0dfb541>:1: DeprecationWarning: 'binom_test' is deprecated in favour of 'binomtest' from version 1.7.0 and will be removed in Scipy 1.12.0.\n",
            "  binom_test(x=19, n=30, p=1/2, alternative='greater')\n"
          ]
        },
        {
          "output_type": "execute_result",
          "data": {
            "text/plain": [
              "0.10024421103298667"
            ]
          },
          "metadata": {},
          "execution_count": 130
        }
      ]
    },
    {
      "cell_type": "markdown",
      "source": [
        "A shop makes widgets with 80% effectiveness. They implement a new system that they hope will improve the rate of effectiveness. They randomly select 50 widgets from a recent production run and find that 47 of them are effective. Perform a binomial test to determine if the new system leads to higher effectiveness.\n",
        "\n",
        "The null and alternative hypotheses for our test are as follows:\n",
        "\n",
        "H0: π ≤ 0.80 (the new system does not lead to an increase in effectiveness)\n",
        "\n",
        "\n",
        "HA: π > 0.80\n",
        "\n"
      ],
      "metadata": {
        "id": "LZaqIHYbwM9M"
      }
    },
    {
      "cell_type": "code",
      "source": [
        "binom_test(x=47, n=50, p=0.8, alternative='greater')\n",
        "\n",
        "\n",
        "#Because this p-value (0.00565) is less than 0.05, we reject the null hypothesis.\n",
        "#We have sufficient evidence to say the new system leads to an increase in effectiveness."
      ],
      "metadata": {
        "colab": {
          "base_uri": "https://localhost:8080/"
        },
        "id": "5Ns0o2YTq7pX",
        "outputId": "0e2e18ad-dde5-412b-f7cb-d233daad7aa9"
      },
      "execution_count": null,
      "outputs": [
        {
          "output_type": "stream",
          "name": "stderr",
          "text": [
            "<ipython-input-131-432cef4d7220>:1: DeprecationWarning: 'binom_test' is deprecated in favour of 'binomtest' from version 1.7.0 and will be removed in Scipy 1.12.0.\n",
            "  binom_test(x=47, n=50, p=0.8, alternative='greater')\n"
          ]
        },
        {
          "output_type": "execute_result",
          "data": {
            "text/plain": [
              "0.005656361012155317"
            ]
          },
          "metadata": {},
          "execution_count": 131
        }
      ]
    },
    {
      "cell_type": "markdown",
      "source": [
        "#Confidence Intervals\n",
        "\n",
        "\n",
        "**A confidence interval for a mean is a range of values that is likely to contain a population mean with a certain level of confidence.**\n",
        "\n",
        "It is calculated as:\n",
        "\n",
        "Confidence Interval = x  +/-  t*(s/√n)\n",
        "\n",
        "where:\n",
        "\n",
        "x: sample mean\n",
        "\n",
        "t: t-value that corresponds to the confidence level\n",
        "\n",
        "s: sample standard deviation\n",
        "\n",
        "n: sample size"
      ],
      "metadata": {
        "id": "TYqPtYUiw8Sb"
      }
    },
    {
      "cell_type": "markdown",
      "source": [
        "**The way to interpret this confidence interval is as follows:**\n",
        "\n",
        "95% confidence interval = (16.758, 24.042)\n",
        "\n",
        "\n",
        "There is a 95% chance that the confidence interval of [16.758, 24.042] contains the true population mean height of plants.\n",
        "\n",
        "\n",
        "\n",
        "Another way of saying the same thing is that there is only a 5% chance that the true population mean lies outside of the 95% confidence interval. That is, there’s only a 5% chance that the true population mean height of plants is less than 16.758 inches or greater than 24.042 inches.\n",
        "\n"
      ],
      "metadata": {
        "id": "_0rtxXACy15f"
      }
    },
    {
      "cell_type": "markdown",
      "source": [
        "**Confidence Intervals Using the t Distribution**\n",
        "\n",
        "\n",
        "If we’re working with a small sample (n <30), we can use the t.interval() function from the scipy.stats library to calculate a confidence interval for a population mean.\n",
        "\n",
        "The following example shows how to calculate a confidence interval for the true population mean height (in inches) of a certain species of plant, using a sample of 15 plants:"
      ],
      "metadata": {
        "id": "kdI1sOh4xFFC"
      }
    },
    {
      "cell_type": "code",
      "source": [
        "pip install --upgrade scipy\n"
      ],
      "metadata": {
        "colab": {
          "base_uri": "https://localhost:8080/"
        },
        "id": "ry4Fc8tXx-OO",
        "outputId": "15229cf9-2d11-429b-de60-3a16b22505a3"
      },
      "execution_count": null,
      "outputs": [
        {
          "output_type": "stream",
          "name": "stdout",
          "text": [
            "Requirement already satisfied: scipy in /usr/local/lib/python3.10/dist-packages (1.11.2)\n",
            "Requirement already satisfied: numpy<1.28.0,>=1.21.6 in /usr/local/lib/python3.10/dist-packages (from scipy) (1.23.5)\n"
          ]
        }
      ]
    },
    {
      "cell_type": "code",
      "source": [
        "import numpy as np\n",
        "import scipy.stats as st\n",
        "\n",
        "#define sample data\n",
        "data = [12, 12, 13, 13, 15, 16, 17, 22, 23, 25, 26, 27, 28, 28, 29]\n",
        "\n",
        "#create 95% confidence interval for population mean weight\n",
        "#st.t.interval(alpha=0.95, df=len(data)-1, loc=np.mean(data), scale=st.sem(data))\n",
        "st.t.interval(0.95, len(data)-1, loc=np.mean(data), scale=st.sem(data))\n",
        "\n",
        "#The 95% confidence interval for the true population mean height is (16.758, 24.042)."
      ],
      "metadata": {
        "colab": {
          "base_uri": "https://localhost:8080/"
        },
        "id": "oHeH0d9Iq7mV",
        "outputId": "5a9a813e-5218-4422-e17e-a42341c26df9"
      },
      "execution_count": null,
      "outputs": [
        {
          "output_type": "execute_result",
          "data": {
            "text/plain": [
              "(16.75776979778498, 24.042230202215016)"
            ]
          },
          "metadata": {},
          "execution_count": 137
        }
      ]
    },
    {
      "cell_type": "markdown",
      "source": [
        "**Confidence Intervals Using the Normal Distribution**\n",
        "\n",
        "\n",
        "If we’re working with larger samples (n≥30), we can assume that the sampling distribution of the sample mean is normally distributed (thanks to the Central Limit Theorem) and can instead use the norm.interval() function from the scipy.stats library."
      ],
      "metadata": {
        "id": "mvyMBl8lyd5H"
      }
    },
    {
      "cell_type": "code",
      "source": [
        "import numpy as np\n",
        "import scipy.stats as st\n",
        "\n",
        "#define sample data\n",
        "np.random.seed(0)\n",
        "data = np.random.randint(10, 30, 50)\n",
        "\n",
        "#create 95% confidence interval for population mean weight\n",
        "#st.norm.interval(alpha=0.95, loc=np.mean(data), scale=st.sem(data))\n",
        "st.norm.interval(0.95, np.mean(data), st.sem(data))\n",
        "\n",
        "\n",
        "#The 95% confidence interval for the true population mean height is (17.40, 21.08)."
      ],
      "metadata": {
        "colab": {
          "base_uri": "https://localhost:8080/"
        },
        "id": "q3t7Zdvyq7j8",
        "outputId": "cc2a4b65-f834-43ff-d3e0-b5f101583fae"
      },
      "execution_count": null,
      "outputs": [
        {
          "output_type": "execute_result",
          "data": {
            "text/plain": [
              "(17.400060940568054, 21.079939059431943)"
            ]
          },
          "metadata": {},
          "execution_count": 139
        }
      ]
    },
    {
      "cell_type": "markdown",
      "source": [
        "**Plot a Confidence Interval**"
      ],
      "metadata": {
        "id": "p5MTFwv4zCgi"
      }
    },
    {
      "cell_type": "markdown",
      "source": [
        "**Plotting Confidence Intervals Using lineplot()**"
      ],
      "metadata": {
        "id": "0hihRzel0HrG"
      }
    },
    {
      "cell_type": "code",
      "source": [
        "import numpy as np\n",
        "import seaborn as sns\n",
        "import matplotlib.pyplot as plt\n",
        "\n",
        "#create some random data\n",
        "np.random.seed(0)\n",
        "x = np.random.randint(1, 10, 30)\n",
        "y = x + np.random.normal(0, 1, 30)\n",
        "\n",
        "#create lineplot\n",
        "sns.lineplot(x=x, y=y)\n",
        "\n",
        "# Show the plot\n",
        "plt.show()\n"
      ],
      "metadata": {
        "colab": {
          "base_uri": "https://localhost:8080/",
          "height": 430
        },
        "id": "7JL7Ox-Cq7gY",
        "outputId": "c51b2580-d0ef-4e8c-89c5-e73566506a2a"
      },
      "execution_count": null,
      "outputs": [
        {
          "output_type": "display_data",
          "data": {
            "text/plain": [
              "<Figure size 640x480 with 1 Axes>"
            ],
            "image/png": "[encoded data removed]"
          },
          "metadata": {}
        }
      ]
    },
    {
      "cell_type": "code",
      "source": [
        "#By default, the lineplot() function uses a 95% confidence interval but can specify the confidence level to use with the ci command.\n",
        "\n",
        "sns.lineplot(x=x, y=y, ci=80)"
      ],
      "metadata": {
        "colab": {
          "base_uri": "https://localhost:8080/",
          "height": 539
        },
        "id": "USaCjyh7q7dO",
        "outputId": "c735f6d5-06cd-4d66-b085-13e4a9fc394f"
      },
      "execution_count": null,
      "outputs": [
        {
          "output_type": "stream",
          "name": "stderr",
          "text": [
            "<ipython-input-144-fa8dba0dc787>:3: FutureWarning: \n",
            "\n",
            "The `ci` parameter is deprecated. Use `errorbar=('ci', 80)` for the same effect.\n",
            "\n",
            "  sns.lineplot(x=x, y=y, ci=80)\n"
          ]
        },
        {
          "output_type": "execute_result",
          "data": {
            "text/plain": [
              "<Axes: >"
            ]
          },
          "metadata": {},
          "execution_count": 144
        },
        {
          "output_type": "display_data",
          "data": {
            "text/plain": [
              "<Figure size 640x480 with 1 Axes>"
            ],
            "image/png": "[encoded data removed]"
          },
          "metadata": {}
        }
      ]
    },
    {
      "cell_type": "markdown",
      "source": [
        "**Plotting Confidence Intervals Using regplot()**"
      ],
      "metadata": {
        "id": "7525cQAJ0DzP"
      }
    },
    {
      "cell_type": "code",
      "source": [
        "import numpy as np\n",
        "import seaborn as sns\n",
        "import matplotlib.pyplot as plt\n",
        "\n",
        "#create some random data\n",
        "np.random.seed(0)\n",
        "x = np.random.randint(1, 10, 30)\n",
        "y = x+np.random.normal(0, 1, 30)\n",
        "\n",
        "#create regplot\n",
        "sns.regplot(x=x, y=y)"
      ],
      "metadata": {
        "colab": {
          "base_uri": "https://localhost:8080/",
          "height": 448
        },
        "id": "czQOKllHq7aY",
        "outputId": "ec8e293b-589d-490a-be89-6815f5260f23"
      },
      "execution_count": null,
      "outputs": [
        {
          "output_type": "execute_result",
          "data": {
            "text/plain": [
              "<Axes: >"
            ]
          },
          "metadata": {},
          "execution_count": 146
        },
        {
          "output_type": "display_data",
          "data": {
            "text/plain": [
              "<Figure size 640x480 with 1 Axes>"
            ],
            "image/png": "[encoded data removed]"
          },
          "metadata": {}
        }
      ]
    },
    {
      "cell_type": "code",
      "source": [
        "#Similar to lineplot(), the regplot() function uses a 95% confidence interval by default but can specify the confidence level to use with the ci command\n",
        "\n",
        "sns.regplot(x=x, y=y, ci=80)"
      ],
      "metadata": {
        "colab": {
          "base_uri": "https://localhost:8080/",
          "height": 448
        },
        "id": "xP-FZHvsz4oL",
        "outputId": "426c0703-ffb9-4617-af9a-01f2328c9b10"
      },
      "execution_count": null,
      "outputs": [
        {
          "output_type": "execute_result",
          "data": {
            "text/plain": [
              "<Axes: >"
            ]
          },
          "metadata": {},
          "execution_count": 147
        },
        {
          "output_type": "display_data",
          "data": {
            "text/plain": [
              "<Figure size 640x480 with 1 Axes>"
            ],
            "image/png": "[encoded data removed]"
          },
          "metadata": {}
        }
      ]
    },
    {
      "cell_type": "markdown",
      "source": [
        "#ANOVA\n",
        "\n",
        "\n"
      ],
      "metadata": {
        "id": "jJnPq2sf0g0G"
      }
    },
    {
      "cell_type": "markdown",
      "source": [
        "**One-Way ANOVA**\n",
        "\n",
        "A one-way ANOVA (“analysis of variance”) is used to determine whether or not there is a statistically significant difference between the means of three or more independent groups.\n"
      ],
      "metadata": {
        "id": "k_jyVJdV0lpa"
      }
    },
    {
      "cell_type": "markdown",
      "source": [
        "A researcher recruits 30 students to participate in a study. The students are randomly assigned to use one of three studying techniques for the next three weeks to prepare for an exam. At the end of the three weeks, all of the students take the same test.\n",
        "\n",
        "Use the following steps to perform a one-way ANOVA to determine if the average scores are the same across all three groups."
      ],
      "metadata": {
        "id": "dMJ_tYHd00wk"
      }
    },
    {
      "cell_type": "code",
      "source": [
        "from scipy.stats import f_oneway\n",
        "\n",
        "#enter exam scores for each group\n",
        "group1 = [85, 86, 88, 75, 78, 94, 98, 79, 71, 80]\n",
        "group2 = [91, 92, 93, 85, 87, 84, 82, 88, 95, 96]\n",
        "group3 = [79, 78, 88, 94, 92, 85, 83, 85, 82, 81]\n",
        "\n",
        "#perform one-way ANOVA\n",
        "f_oneway(group1, group2, group3)"
      ],
      "metadata": {
        "colab": {
          "base_uri": "https://localhost:8080/"
        },
        "id": "D9dJkCG4z4kq",
        "outputId": "80e7bf83-63d5-4fa4-aebb-18504739e061"
      },
      "execution_count": null,
      "outputs": [
        {
          "output_type": "execute_result",
          "data": {
            "text/plain": [
              "F_onewayResult(statistic=2.3575322551335636, pvalue=0.11384795345837218)"
            ]
          },
          "metadata": {},
          "execution_count": 148
        }
      ]
    },
    {
      "cell_type": "markdown",
      "source": [
        "A one-way ANOVA uses the following null and alternative hypotheses:\n",
        "\n",
        "H0 (null hypothesis): μ1 = μ2 = μ3 = … = μk (all the population means are equal)\n",
        "\n",
        "H1 (null hypothesis): at least one population mean is different from the rest\n",
        "\n",
        "The F test statistic is 2.3575 and the corresponding p-value is 0.1138. Since the p-value is not less than .05, we fail to reject the null hypothesis.\n",
        "\n",
        "This means we do not have sufficient evidence to say that there is a difference in exam scores among the three studying techniques."
      ],
      "metadata": {
        "id": "a1ddd1Ml0_By"
      }
    },
    {
      "cell_type": "markdown",
      "source": [
        "**Two-way ANOVA**\n",
        "\n",
        "A two-way ANOVA is used to determine whether or not there is a statistically significant difference between the means of three or more independent groups that have been split on two factors.\n",
        "\n",
        "The purpose of a two-way ANOVA is to determine how two factors impact a response variable, and to determine whether or not there is an interaction between the two factors on the response variable."
      ],
      "metadata": {
        "id": "6L9N2tq-1HSq"
      }
    },
    {
      "cell_type": "markdown",
      "source": [
        "A botanist wants to know whether or not plant growth is influenced by sunlight exposure and watering frequency. She plants 30 seeds and lets them grow for two months under different conditions for sunlight exposure and watering frequency. After two months, she records the height of each plant, in inches.\n",
        "\n",
        "Use the following steps to perform a two-way ANOVA to determine if watering frequency and sunlight exposure have a significant effect on plant growth, and to determine if there is any interaction effect between watering frequency and sunlight exposure."
      ],
      "metadata": {
        "id": "E-WpOLvd1O_1"
      }
    },
    {
      "cell_type": "code",
      "source": [
        "import numpy as np\n",
        "import pandas as pd\n",
        "import statsmodels.api as sm\n",
        "from statsmodels.formula.api import ols\n",
        "\n",
        "#create data\n",
        "df = pd.DataFrame({'water': np.repeat(['daily', 'weekly'], 15),\n",
        "                   'sun': np.tile(np.repeat(['low', 'med', 'high'], 5), 2),\n",
        "                   'height': [6, 6, 6, 5, 6, 5, 5, 6, 4, 5,\n",
        "                              6, 6, 7, 8, 7, 3, 4, 4, 4, 5,\n",
        "                              4, 4, 4, 4, 4, 5, 6, 6, 7, 8]})\n",
        "\n",
        "\n",
        "\n",
        "#perform two-way ANOVA\n",
        "model = ols('height ~ C(water) + C(sun) + C(water):C(sun)', data=df).fit()\n",
        "sm.stats.anova_lm(model, typ=2)"
      ],
      "metadata": {
        "colab": {
          "base_uri": "https://localhost:8080/",
          "height": 175
        },
        "id": "QYNJg_tnz4hG",
        "outputId": "077a3aa1-76bc-467a-bd22-a19ab42e2035"
      },
      "execution_count": null,
      "outputs": [
        {
          "output_type": "execute_result",
          "data": {
            "text/plain": [
              "                    sum_sq    df        F    PR(>F)\n",
              "C(water)          8.533333   1.0  16.0000  0.000527\n",
              "C(sun)           24.866667   2.0  23.3125  0.000002\n",
              "C(water):C(sun)   2.466667   2.0   2.3125  0.120667\n",
              "Residual         12.800000  24.0      NaN       NaN"
            ],
            "text/html": [
              "\n",
              "  <div id=\"df-344c7501-74bc-4cc7-acef-e1d59de8a803\" class=\"colab-df-container\">\n",
              "    <div>\n",
              "<style scoped>\n",
              "    .dataframe tbody tr th:only-of-type {\n",
              "        vertical-align: middle;\n",
              "    }\n",
              "\n",
              "    .dataframe tbody tr th {\n",
              "        vertical-align: top;\n",
              "    }\n",
              "\n",
              "    .dataframe thead th {\n",
              "        text-align: right;\n",
              "    }\n",
              "</style>\n",
              "<table border=\"1\" class=\"dataframe\">\n",
              "  <thead>\n",
              "    <tr style=\"text-align: right;\">\n",
              "      <th></th>\n",
              "      <th>sum_sq</th>\n",
              "      <th>df</th>\n",
              "      <th>F</th>\n",
              "      <th>PR(&gt;F)</th>\n",
              "    </tr>\n",
              "  </thead>\n",
              "  <tbody>\n",
              "    <tr>\n",
              "      <th>C(water)</th>\n",
              "      <td>8.533333</td>\n",
              "      <td>1.0</td>\n",
              "      <td>16.0000</td>\n",
              "      <td>0.000527</td>\n",
              "    </tr>\n",
              "    <tr>\n",
              "      <th>C(sun)</th>\n",
              "      <td>24.866667</td>\n",
              "      <td>2.0</td>\n",
              "      <td>23.3125</td>\n",
              "      <td>0.000002</td>\n",
              "    </tr>\n",
              "    <tr>\n",
              "      <th>C(water):C(sun)</th>\n",
              "      <td>2.466667</td>\n",
              "      <td>2.0</td>\n",
              "      <td>2.3125</td>\n",
              "      <td>0.120667</td>\n",
              "    </tr>\n",
              "    <tr>\n",
              "      <th>Residual</th>\n",
              "      <td>12.800000</td>\n",
              "      <td>24.0</td>\n",
              "      <td>NaN</td>\n",
              "      <td>NaN</td>\n",
              "    </tr>\n",
              "  </tbody>\n",
              "</table>\n",
              "</div>\n",
              "    <div class=\"colab-df-buttons\">\n",
              "\n",
              "  <div class=\"colab-df-container\">\n",
              "    <button class=\"colab-df-convert\" onclick=\"convertToInteractive('df-344c7501-74bc-4cc7-acef-e1d59de8a803')\"\n",
              "            title=\"Convert this dataframe to an interactive table.\"\n",
              "            style=\"display:none;\">\n",
              "\n",
              "  <svg xmlns=\"http://www.w3.org/2000/svg\" height=\"24px\" viewBox=\"0 -960 960 960\">\n",
              "    <path d=\"M120-120v-720h720v720H120Zm60-500h600v-160H180v160Zm220 220h160v-160H400v160Zm0 220h160v-160H400v160ZM180-400h160v-160H180v160Zm440 0h160v-160H620v160ZM180-180h160v-160H180v160Zm440 0h160v-160H620v160Z\"/>\n",
              "  </svg>\n",
              "    </button>\n",
              "\n",
              "  <style>\n",
              "    .colab-df-container {\n",
              "      display:flex;\n",
              "      gap: 12px;\n",
              "    }\n",
              "\n",
              "    .colab-df-convert {\n",
              "      background-color: #E8F0FE;\n",
              "      border: none;\n",
              "      border-radius: 50%;\n",
              "      cursor: pointer;\n",
              "      display: none;\n",
              "      fill: #1967D2;\n",
              "      height: 32px;\n",
              "      padding: 0 0 0 0;\n",
              "      width: 32px;\n",
              "    }\n",
              "\n",
              "    .colab-df-convert:hover {\n",
              "      background-color: #E2EBFA;\n",
              "      box-shadow: 0px 1px 2px rgba(60, 64, 67, 0.3), 0px 1px 3px 1px rgba(60, 64, 67, 0.15);\n",
              "      fill: #174EA6;\n",
              "    }\n",
              "\n",
              "    .colab-df-buttons div {\n",
              "      margin-bottom: 4px;\n",
              "    }\n",
              "\n",
              "    [theme=dark] .colab-df-convert {\n",
              "      background-color: #3B4455;\n",
              "      fill: #D2E3FC;\n",
              "    }\n",
              "\n",
              "    [theme=dark] .colab-df-convert:hover {\n",
              "      background-color: #434B5C;\n",
              "      box-shadow: 0px 1px 3px 1px rgba(0, 0, 0, 0.15);\n",
              "      filter: drop-shadow(0px 1px 2px rgba(0, 0, 0, 0.3));\n",
              "      fill: #FFFFFF;\n",
              "    }\n",
              "  </style>\n",
              "\n",
              "    <script>\n",
              "      const buttonEl =\n",
              "        document.querySelector('#df-344c7501-74bc-4cc7-acef-e1d59de8a803 button.colab-df-convert');\n",
              "      buttonEl.style.display =\n",
              "        google.colab.kernel.accessAllowed ? 'block' : 'none';\n",
              "\n",
              "      async function convertToInteractive(key) {\n",
              "        const element = document.querySelector('#df-344c7501-74bc-4cc7-acef-e1d59de8a803');\n",
              "        const dataTable =\n",
              "          await google.colab.kernel.invokeFunction('convertToInteractive',\n",
              "                                                    [key], {});\n",
              "        if (!dataTable) return;\n",
              "\n",
              "        const docLinkHtml = 'Like what you see? Visit the ' +\n",
              "          '<a target=\"_blank\" href=https://colab.research.google.com/notebooks/data_table.ipynb>data table notebook</a>'\n",
              "          + ' to learn more about interactive tables.';\n",
              "        element.innerHTML = '';\n",
              "        dataTable['output_type'] = 'display_data';\n",
              "        await google.colab.output.renderOutput(dataTable, element);\n",
              "        const docLink = document.createElement('div');\n",
              "        docLink.innerHTML = docLinkHtml;\n",
              "        element.appendChild(docLink);\n",
              "      }\n",
              "    </script>\n",
              "  </div>\n",
              "\n",
              "\n",
              "<div id=\"df-261a5223-ce49-42d0-be24-02f9def21f24\">\n",
              "  <button class=\"colab-df-quickchart\" onclick=\"quickchart('df-261a5223-ce49-42d0-be24-02f9def21f24')\"\n",
              "            title=\"Suggest charts.\"\n",
              "            style=\"display:none;\">\n",
              "\n",
              "<svg xmlns=\"http://www.w3.org/2000/svg\" height=\"24px\"viewBox=\"0 0 24 24\"\n",
              "     width=\"24px\">\n",
              "    <g>\n",
              "        <path d=\"M19 3H5c-1.1 0-2 .9-2 2v14c0 1.1.9 2 2 2h14c1.1 0 2-.9 2-2V5c0-1.1-.9-2-2-2zM9 17H7v-7h2v7zm4 0h-2V7h2v10zm4 0h-2v-4h2v4z\"/>\n",
              "    </g>\n",
              "</svg>\n",
              "  </button>\n",
              "\n",
              "<style>\n",
              "  .colab-df-quickchart {\n",
              "      --bg-color: #E8F0FE;\n",
              "      --fill-color: #1967D2;\n",
              "      --hover-bg-color: #E2EBFA;\n",
              "      --hover-fill-color: #174EA6;\n",
              "      --disabled-fill-color: #AAA;\n",
              "      --disabled-bg-color: #DDD;\n",
              "  }\n",
              "\n",
              "  [theme=dark] .colab-df-quickchart {\n",
              "      --bg-color: #3B4455;\n",
              "      --fill-color: #D2E3FC;\n",
              "      --hover-bg-color: #434B5C;\n",
              "      --hover-fill-color: #FFFFFF;\n",
              "      --disabled-bg-color: #3B4455;\n",
              "      --disabled-fill-color: #666;\n",
              "  }\n",
              "\n",
              "  .colab-df-quickchart {\n",
              "    background-color: var(--bg-color);\n",
              "    border: none;\n",
              "    border-radius: 50%;\n",
              "    cursor: pointer;\n",
              "    display: none;\n",
              "    fill: var(--fill-color);\n",
              "    height: 32px;\n",
              "    padding: 0;\n",
              "    width: 32px;\n",
              "  }\n",
              "\n",
              "  .colab-df-quickchart:hover {\n",
              "    background-color: var(--hover-bg-color);\n",
              "    box-shadow: 0 1px 2px rgba(60, 64, 67, 0.3), 0 1px 3px 1px rgba(60, 64, 67, 0.15);\n",
              "    fill: var(--button-hover-fill-color);\n",
              "  }\n",
              "\n",
              "  .colab-df-quickchart-complete:disabled,\n",
              "  .colab-df-quickchart-complete:disabled:hover {\n",
              "    background-color: var(--disabled-bg-color);\n",
              "    fill: var(--disabled-fill-color);\n",
              "    box-shadow: none;\n",
              "  }\n",
              "\n",
              "  .colab-df-spinner {\n",
              "    border: 2px solid var(--fill-color);\n",
              "    border-color: transparent;\n",
              "    border-bottom-color: var(--fill-color);\n",
              "    animation:\n",
              "      spin 1s steps(1) infinite;\n",
              "  }\n",
              "\n",
              "  @keyframes spin {\n",
              "    0% {\n",
              "      border-color: transparent;\n",
              "      border-bottom-color: var(--fill-color);\n",
              "      border-left-color: var(--fill-color);\n",
              "    }\n",
              "    20% {\n",
              "      border-color: transparent;\n",
              "      border-left-color: var(--fill-color);\n",
              "      border-top-color: var(--fill-color);\n",
              "    }\n",
              "    30% {\n",
              "      border-color: transparent;\n",
              "      border-left-color: var(--fill-color);\n",
              "      border-top-color: var(--fill-color);\n",
              "      border-right-color: var(--fill-color);\n",
              "    }\n",
              "    40% {\n",
              "      border-color: transparent;\n",
              "      border-right-color: var(--fill-color);\n",
              "      border-top-color: var(--fill-color);\n",
              "    }\n",
              "    60% {\n",
              "      border-color: transparent;\n",
              "      border-right-color: var(--fill-color);\n",
              "    }\n",
              "    80% {\n",
              "      border-color: transparent;\n",
              "      border-right-color: var(--fill-color);\n",
              "      border-bottom-color: var(--fill-color);\n",
              "    }\n",
              "    90% {\n",
              "      border-color: transparent;\n",
              "      border-bottom-color: var(--fill-color);\n",
              "    }\n",
              "  }\n",
              "</style>\n",
              "\n",
              "  <script>\n",
              "    async function quickchart(key) {\n",
              "      const quickchartButtonEl =\n",
              "        document.querySelector('#' + key + ' button');\n",
              "      quickchartButtonEl.disabled = true;  // To prevent multiple clicks.\n",
              "      quickchartButtonEl.classList.add('colab-df-spinner');\n",
              "      try {\n",
              "        const charts = await google.colab.kernel.invokeFunction(\n",
              "            'suggestCharts', [key], {});\n",
              "      } catch (error) {\n",
              "        console.error('Error during call to suggestCharts:', error);\n",
              "      }\n",
              "      quickchartButtonEl.classList.remove('colab-df-spinner');\n",
              "      quickchartButtonEl.classList.add('colab-df-quickchart-complete');\n",
              "    }\n",
              "    (() => {\n",
              "      let quickchartButtonEl =\n",
              "        document.querySelector('#df-261a5223-ce49-42d0-be24-02f9def21f24 button');\n",
              "      quickchartButtonEl.style.display =\n",
              "        google.colab.kernel.accessAllowed ? 'block' : 'none';\n",
              "    })();\n",
              "  </script>\n",
              "</div>\n",
              "    </div>\n",
              "  </div>\n"
            ]
          },
          "metadata": {},
          "execution_count": 149
        }
      ]
    },
    {
      "cell_type": "markdown",
      "source": [
        "We can see the following p-values for each of the factors in the table:\n",
        "\n",
        "water: p-value = .000527\n",
        "\n",
        "sun: p-value = .0000002\n",
        "\n",
        "water*sun: p-value = .120667\n",
        "\n",
        "Since the p-values for water and sun are both less than .05, this means that both factors have a statistically significant effect on plant height.\n",
        "\n",
        "And since the p-value for the interaction effect (.120667) is not less than .05, this tells us that there is no significant interaction effect between sunlight exposure and watering frequency.\n",
        "\n",
        "Note: Although the ANOVA results tell us that watering frequency and sunlight exposure have a statistically significant effect on plant height, we would need to perform post-hoc tests to determine exactly how different levels of water and sunlight affect plant height."
      ],
      "metadata": {
        "id": "a71hNkKN1dXd"
      }
    },
    {
      "cell_type": "markdown",
      "source": [
        "**Three-way ANOVA**\n",
        "\n",
        "A three-way ANOVA is used to determine whether or not there is a statistically significant difference between the means of three or more independent groups that have been split on three factors."
      ],
      "metadata": {
        "id": "D52M0ysL1nvT"
      }
    },
    {
      "cell_type": "markdown",
      "source": [
        "Suppose a researcher wants to determine if two training programs lead to different mean improvements in jumping height among college basketball players.\n",
        "\n",
        "The researcher suspects that gender and division (Division I or II) may also affect jumping height so he collects data for these factors as well.\n",
        "\n",
        "His goal is to perform a three-way ANOVA to determine how training program, gender, and division affect jumping height."
      ],
      "metadata": {
        "id": "1PwRfE4r1uh2"
      }
    },
    {
      "cell_type": "code",
      "source": [
        "import numpy as np\n",
        "import pandas as pd\n",
        "import statsmodels.api as sm\n",
        "from statsmodels.formula.api import ols\n",
        "\n",
        "#create DataFrame\n",
        "df = pd.DataFrame({'program': np.repeat([1, 2], 20),\n",
        "                   'gender': np.tile(np.repeat(['M', 'F'], 10), 2),\n",
        "                   'division': np.tile(np.repeat([1, 2], 5), 4),\n",
        "                   'height': [7, 7, 8, 8, 7, 6, 6, 5, 6, 5,\n",
        "                              5, 5, 4, 5, 4, 3, 3, 4, 3, 3,\n",
        "                              6, 6, 5, 4, 5, 4, 5, 4, 4, 3,\n",
        "                              2, 2, 1, 4, 4, 2, 1, 1, 2, 1]})\n",
        "\n",
        "\n",
        "\n",
        "#perform three-way ANOVA\n",
        "model = ols(\"\"\"height ~ C(program) + C(gender) + C(division) +\n",
        "               C(program):C(gender) + C(program):C(division) + C(gender):C(division) +\n",
        "               C(program):C(gender):C(division)\"\"\", data=df).fit()\n",
        "\n",
        "sm.stats.anova_lm(model, typ=2)"
      ],
      "metadata": {
        "colab": {
          "base_uri": "https://localhost:8080/",
          "height": 300
        },
        "id": "0G8uLLStz4d3",
        "outputId": "edf96227-032a-4729-cfe3-712b2661fe87"
      },
      "execution_count": null,
      "outputs": [
        {
          "output_type": "execute_result",
          "data": {
            "text/plain": [
              "                                        sum_sq    df             F  \\\n",
              "C(program)                        3.610000e+01   1.0  6.563636e+01   \n",
              "C(gender)                         6.760000e+01   1.0  1.229091e+02   \n",
              "C(division)                       1.960000e+01   1.0  3.563636e+01   \n",
              "C(program):C(gender)              3.466674e-31   1.0  6.303043e-31   \n",
              "C(program):C(division)            4.000000e-01   1.0  7.272727e-01   \n",
              "C(gender):C(division)             1.000000e-01   1.0  1.818182e-01   \n",
              "C(program):C(gender):C(division)  1.000000e-01   1.0  1.818182e-01   \n",
              "Residual                          1.760000e+01  32.0           NaN   \n",
              "\n",
              "                                        PR(>F)  \n",
              "C(program)                        2.983934e-09  \n",
              "C(gender)                         1.714432e-12  \n",
              "C(division)                       1.185218e-06  \n",
              "C(program):C(gender)              1.000000e+00  \n",
              "C(program):C(division)            4.001069e-01  \n",
              "C(gender):C(division)             6.726702e-01  \n",
              "C(program):C(gender):C(division)  6.726702e-01  \n",
              "Residual                                   NaN  "
            ],
            "text/html": [
              "\n",
              "  <div id=\"df-9e7ea782-69c6-482d-b78e-63386290b5f9\" class=\"colab-df-container\">\n",
              "    <div>\n",
              "<style scoped>\n",
              "    .dataframe tbody tr th:only-of-type {\n",
              "        vertical-align: middle;\n",
              "    }\n",
              "\n",
              "    .dataframe tbody tr th {\n",
              "        vertical-align: top;\n",
              "    }\n",
              "\n",
              "    .dataframe thead th {\n",
              "        text-align: right;\n",
              "    }\n",
              "</style>\n",
              "<table border=\"1\" class=\"dataframe\">\n",
              "  <thead>\n",
              "    <tr style=\"text-align: right;\">\n",
              "      <th></th>\n",
              "      <th>sum_sq</th>\n",
              "      <th>df</th>\n",
              "      <th>F</th>\n",
              "      <th>PR(&gt;F)</th>\n",
              "    </tr>\n",
              "  </thead>\n",
              "  <tbody>\n",
              "    <tr>\n",
              "      <th>C(program)</th>\n",
              "      <td>3.610000e+01</td>\n",
              "      <td>1.0</td>\n",
              "      <td>6.563636e+01</td>\n",
              "      <td>2.983934e-09</td>\n",
              "    </tr>\n",
              "    <tr>\n",
              "      <th>C(gender)</th>\n",
              "      <td>6.760000e+01</td>\n",
              "      <td>1.0</td>\n",
              "      <td>1.229091e+02</td>\n",
              "      <td>1.714432e-12</td>\n",
              "    </tr>\n",
              "    <tr>\n",
              "      <th>C(division)</th>\n",
              "      <td>1.960000e+01</td>\n",
              "      <td>1.0</td>\n",
              "      <td>3.563636e+01</td>\n",
              "      <td>1.185218e-06</td>\n",
              "    </tr>\n",
              "    <tr>\n",
              "      <th>C(program):C(gender)</th>\n",
              "      <td>3.466674e-31</td>\n",
              "      <td>1.0</td>\n",
              "      <td>6.303043e-31</td>\n",
              "      <td>1.000000e+00</td>\n",
              "    </tr>\n",
              "    <tr>\n",
              "      <th>C(program):C(division)</th>\n",
              "      <td>4.000000e-01</td>\n",
              "      <td>1.0</td>\n",
              "      <td>7.272727e-01</td>\n",
              "      <td>4.001069e-01</td>\n",
              "    </tr>\n",
              "    <tr>\n",
              "      <th>C(gender):C(division)</th>\n",
              "      <td>1.000000e-01</td>\n",
              "      <td>1.0</td>\n",
              "      <td>1.818182e-01</td>\n",
              "      <td>6.726702e-01</td>\n",
              "    </tr>\n",
              "    <tr>\n",
              "      <th>C(program):C(gender):C(division)</th>\n",
              "      <td>1.000000e-01</td>\n",
              "      <td>1.0</td>\n",
              "      <td>1.818182e-01</td>\n",
              "      <td>6.726702e-01</td>\n",
              "    </tr>\n",
              "    <tr>\n",
              "      <th>Residual</th>\n",
              "      <td>1.760000e+01</td>\n",
              "      <td>32.0</td>\n",
              "      <td>NaN</td>\n",
              "      <td>NaN</td>\n",
              "    </tr>\n",
              "  </tbody>\n",
              "</table>\n",
              "</div>\n",
              "    <div class=\"colab-df-buttons\">\n",
              "\n",
              "  <div class=\"colab-df-container\">\n",
              "    <button class=\"colab-df-convert\" onclick=\"convertToInteractive('df-9e7ea782-69c6-482d-b78e-63386290b5f9')\"\n",
              "            title=\"Convert this dataframe to an interactive table.\"\n",
              "            style=\"display:none;\">\n",
              "\n",
              "  <svg xmlns=\"http://www.w3.org/2000/svg\" height=\"24px\" viewBox=\"0 -960 960 960\">\n",
              "    <path d=\"M120-120v-720h720v720H120Zm60-500h600v-160H180v160Zm220 220h160v-160H400v160Zm0 220h160v-160H400v160ZM180-400h160v-160H180v160Zm440 0h160v-160H620v160ZM180-180h160v-160H180v160Zm440 0h160v-160H620v160Z\"/>\n",
              "  </svg>\n",
              "    </button>\n",
              "\n",
              "  <style>\n",
              "    .colab-df-container {\n",
              "      display:flex;\n",
              "      gap: 12px;\n",
              "    }\n",
              "\n",
              "    .colab-df-convert {\n",
              "      background-color: #E8F0FE;\n",
              "      border: none;\n",
              "      border-radius: 50%;\n",
              "      cursor: pointer;\n",
              "      display: none;\n",
              "      fill: #1967D2;\n",
              "      height: 32px;\n",
              "      padding: 0 0 0 0;\n",
              "      width: 32px;\n",
              "    }\n",
              "\n",
              "    .colab-df-convert:hover {\n",
              "      background-color: #E2EBFA;\n",
              "      box-shadow: 0px 1px 2px rgba(60, 64, 67, 0.3), 0px 1px 3px 1px rgba(60, 64, 67, 0.15);\n",
              "      fill: #174EA6;\n",
              "    }\n",
              "\n",
              "    .colab-df-buttons div {\n",
              "      margin-bottom: 4px;\n",
              "    }\n",
              "\n",
              "    [theme=dark] .colab-df-convert {\n",
              "      background-color: #3B4455;\n",
              "      fill: #D2E3FC;\n",
              "    }\n",
              "\n",
              "    [theme=dark] .colab-df-convert:hover {\n",
              "      background-color: #434B5C;\n",
              "      box-shadow: 0px 1px 3px 1px rgba(0, 0, 0, 0.15);\n",
              "      filter: drop-shadow(0px 1px 2px rgba(0, 0, 0, 0.3));\n",
              "      fill: #FFFFFF;\n",
              "    }\n",
              "  </style>\n",
              "\n",
              "    <script>\n",
              "      const buttonEl =\n",
              "        document.querySelector('#df-9e7ea782-69c6-482d-b78e-63386290b5f9 button.colab-df-convert');\n",
              "      buttonEl.style.display =\n",
              "        google.colab.kernel.accessAllowed ? 'block' : 'none';\n",
              "\n",
              "      async function convertToInteractive(key) {\n",
              "        const element = document.querySelector('#df-9e7ea782-69c6-482d-b78e-63386290b5f9');\n",
              "        const dataTable =\n",
              "          await google.colab.kernel.invokeFunction('convertToInteractive',\n",
              "                                                    [key], {});\n",
              "        if (!dataTable) return;\n",
              "\n",
              "        const docLinkHtml = 'Like what you see? Visit the ' +\n",
              "          '<a target=\"_blank\" href=https://colab.research.google.com/notebooks/data_table.ipynb>data table notebook</a>'\n",
              "          + ' to learn more about interactive tables.';\n",
              "        element.innerHTML = '';\n",
              "        dataTable['output_type'] = 'display_data';\n",
              "        await google.colab.output.renderOutput(dataTable, element);\n",
              "        const docLink = document.createElement('div');\n",
              "        docLink.innerHTML = docLinkHtml;\n",
              "        element.appendChild(docLink);\n",
              "      }\n",
              "    </script>\n",
              "  </div>\n",
              "\n",
              "\n",
              "<div id=\"df-e89cd275-e594-45c8-994a-019abd687471\">\n",
              "  <button class=\"colab-df-quickchart\" onclick=\"quickchart('df-e89cd275-e594-45c8-994a-019abd687471')\"\n",
              "            title=\"Suggest charts.\"\n",
              "            style=\"display:none;\">\n",
              "\n",
              "<svg xmlns=\"http://www.w3.org/2000/svg\" height=\"24px\"viewBox=\"0 0 24 24\"\n",
              "     width=\"24px\">\n",
              "    <g>\n",
              "        <path d=\"M19 3H5c-1.1 0-2 .9-2 2v14c0 1.1.9 2 2 2h14c1.1 0 2-.9 2-2V5c0-1.1-.9-2-2-2zM9 17H7v-7h2v7zm4 0h-2V7h2v10zm4 0h-2v-4h2v4z\"/>\n",
              "    </g>\n",
              "</svg>\n",
              "  </button>\n",
              "\n",
              "<style>\n",
              "  .colab-df-quickchart {\n",
              "      --bg-color: #E8F0FE;\n",
              "      --fill-color: #1967D2;\n",
              "      --hover-bg-color: #E2EBFA;\n",
              "      --hover-fill-color: #174EA6;\n",
              "      --disabled-fill-color: #AAA;\n",
              "      --disabled-bg-color: #DDD;\n",
              "  }\n",
              "\n",
              "  [theme=dark] .colab-df-quickchart {\n",
              "      --bg-color: #3B4455;\n",
              "      --fill-color: #D2E3FC;\n",
              "      --hover-bg-color: #434B5C;\n",
              "      --hover-fill-color: #FFFFFF;\n",
              "      --disabled-bg-color: #3B4455;\n",
              "      --disabled-fill-color: #666;\n",
              "  }\n",
              "\n",
              "  .colab-df-quickchart {\n",
              "    background-color: var(--bg-color);\n",
              "    border: none;\n",
              "    border-radius: 50%;\n",
              "    cursor: pointer;\n",
              "    display: none;\n",
              "    fill: var(--fill-color);\n",
              "    height: 32px;\n",
              "    padding: 0;\n",
              "    width: 32px;\n",
              "  }\n",
              "\n",
              "  .colab-df-quickchart:hover {\n",
              "    background-color: var(--hover-bg-color);\n",
              "    box-shadow: 0 1px 2px rgba(60, 64, 67, 0.3), 0 1px 3px 1px rgba(60, 64, 67, 0.15);\n",
              "    fill: var(--button-hover-fill-color);\n",
              "  }\n",
              "\n",
              "  .colab-df-quickchart-complete:disabled,\n",
              "  .colab-df-quickchart-complete:disabled:hover {\n",
              "    background-color: var(--disabled-bg-color);\n",
              "    fill: var(--disabled-fill-color);\n",
              "    box-shadow: none;\n",
              "  }\n",
              "\n",
              "  .colab-df-spinner {\n",
              "    border: 2px solid var(--fill-color);\n",
              "    border-color: transparent;\n",
              "    border-bottom-color: var(--fill-color);\n",
              "    animation:\n",
              "      spin 1s steps(1) infinite;\n",
              "  }\n",
              "\n",
              "  @keyframes spin {\n",
              "    0% {\n",
              "      border-color: transparent;\n",
              "      border-bottom-color: var(--fill-color);\n",
              "      border-left-color: var(--fill-color);\n",
              "    }\n",
              "    20% {\n",
              "      border-color: transparent;\n",
              "      border-left-color: var(--fill-color);\n",
              "      border-top-color: var(--fill-color);\n",
              "    }\n",
              "    30% {\n",
              "      border-color: transparent;\n",
              "      border-left-color: var(--fill-color);\n",
              "      border-top-color: var(--fill-color);\n",
              "      border-right-color: var(--fill-color);\n",
              "    }\n",
              "    40% {\n",
              "      border-color: transparent;\n",
              "      border-right-color: var(--fill-color);\n",
              "      border-top-color: var(--fill-color);\n",
              "    }\n",
              "    60% {\n",
              "      border-color: transparent;\n",
              "      border-right-color: var(--fill-color);\n",
              "    }\n",
              "    80% {\n",
              "      border-color: transparent;\n",
              "      border-right-color: var(--fill-color);\n",
              "      border-bottom-color: var(--fill-color);\n",
              "    }\n",
              "    90% {\n",
              "      border-color: transparent;\n",
              "      border-bottom-color: var(--fill-color);\n",
              "    }\n",
              "  }\n",
              "</style>\n",
              "\n",
              "  <script>\n",
              "    async function quickchart(key) {\n",
              "      const quickchartButtonEl =\n",
              "        document.querySelector('#' + key + ' button');\n",
              "      quickchartButtonEl.disabled = true;  // To prevent multiple clicks.\n",
              "      quickchartButtonEl.classList.add('colab-df-spinner');\n",
              "      try {\n",
              "        const charts = await google.colab.kernel.invokeFunction(\n",
              "            'suggestCharts', [key], {});\n",
              "      } catch (error) {\n",
              "        console.error('Error during call to suggestCharts:', error);\n",
              "      }\n",
              "      quickchartButtonEl.classList.remove('colab-df-spinner');\n",
              "      quickchartButtonEl.classList.add('colab-df-quickchart-complete');\n",
              "    }\n",
              "    (() => {\n",
              "      let quickchartButtonEl =\n",
              "        document.querySelector('#df-e89cd275-e594-45c8-994a-019abd687471 button');\n",
              "      quickchartButtonEl.style.display =\n",
              "        google.colab.kernel.accessAllowed ? 'block' : 'none';\n",
              "    })();\n",
              "  </script>\n",
              "</div>\n",
              "    </div>\n",
              "  </div>\n"
            ]
          },
          "metadata": {},
          "execution_count": 150
        }
      ]
    },
    {
      "cell_type": "markdown",
      "source": [
        "The Pr(>F) column shows the p-value for each individual factor and the interactions between the factors.\n",
        "\n",
        "From the output we can see that none of the interactions between the three factors were statistically significant.\n",
        "\n",
        "We can also see that each of the three factors (program, gender, and division) were statistically significant with the following p-values:\n",
        "\n",
        "\n",
        "\n",
        "P-value of program: 0.00000000298\n",
        "\n",
        "P-value of gender: 0.00000000000171\n",
        "\n",
        "P-value of division: 0.00000185\n",
        "\n",
        "In conclusion, we would state that training program, gender, and division are all significant predictors of the jumping height increase among players.\n",
        "\n",
        "We would also state that there are no significant interaction effects between these three factors."
      ],
      "metadata": {
        "id": "zXgk5Qv_16t7"
      }
    },
    {
      "cell_type": "code",
      "source": [],
      "metadata": {
        "id": "ga3OxSnkz4a_"
      },
      "execution_count": null,
      "outputs": []
    },
    {
      "cell_type": "code",
      "source": [],
      "metadata": {
        "id": "iL7gUmboz4X-"
      },
      "execution_count": null,
      "outputs": []
    },
    {
      "cell_type": "code",
      "source": [],
      "metadata": {
        "id": "EMJCJMt2z4U5"
      },
      "execution_count": null,
      "outputs": []
    },
    {
      "cell_type": "code",
      "source": [],
      "metadata": {
        "id": "MKWpRdJsz4Rr"
      },
      "execution_count": null,
      "outputs": []
    }
  ]
}