{
  "nbformat": 4,
  "nbformat_minor": 0,
  "metadata": {
    "colab": {
      "provenance": []
    },
    "kernelspec": {
      "name": "python3",
      "display_name": "Python 3"
    },
    "language_info": {
      "name": "python"
    }
  },
  "cells": [
    {
      "cell_type": "markdown",
      "source": [
        "Q1: A researcher wants to determine if there is a significant difference in the mean test scores\n",
        "among four different study groups (Group 1, Group 2, Group 3, and Group 4). The test scores are\n",
        "recorded as follows:\n",
        "\n",
        "Group 1: [85, 88, 82, 86, 90]\n",
        "\n",
        "Group 2: [78, 80, 84, 76, 82]\n",
        "\n",
        "Group 3: [92, 94, 91, 88, 96]\n",
        "\n",
        "Group 4: [75, 78, 80, 77, 81]\n",
        "\n",
        "Perform an ANOVA test to determine if there are significant differences in mean test scores among\n",
        "the four groups at a 5% significance level."
      ],
      "metadata": {
        "id": "-F_05s_uNnXT"
      }
    },
    {
      "cell_type": "code",
      "execution_count": null,
      "metadata": {
        "colab": {
          "base_uri": "https://localhost:8080/"
        },
        "id": "1zLc70BXNf9M",
        "outputId": "b36a5edc-d788-4216-f0aa-5a85441aff59"
      },
      "outputs": [
        {
          "output_type": "stream",
          "name": "stdout",
          "text": [
            "P-value 3.875161644446216e-06\n",
            "Reject Null Hypothesis -> The mean of at least one group is not same.\n"
          ]
        }
      ],
      "source": [
        "#H_o = There is no significant difference in mean among four groups.    => mu1 = mu2 = mu3 = mu4\n",
        "#H_a = The mean of at least one group is different.\n",
        "\n",
        "import scipy.stats as stats\n",
        "\n",
        "g1 = [85, 88, 82, 86, 90]\n",
        "g2 = [78, 80, 84, 76, 82]\n",
        "g3 = [92, 94, 91, 88, 96]\n",
        "g4 = [75, 78, 80, 77, 81]\n",
        "\n",
        "alpha = 0.05\n",
        "\n",
        "_, pvalue = stats.f_oneway(g1, g2, g3, g4)\n",
        "\n",
        "print('P-value',pvalue)\n",
        "\n",
        "if pvalue < alpha:\n",
        "  print('Reject Null Hypothesis -> The mean of at least one group is not same.')\n",
        "else :\n",
        "  print('Fail to reject Null Hypothesis -> There is no significant difference in mean among four groups.')\n",
        "\n"
      ]
    },
    {
      "cell_type": "markdown",
      "source": [
        "Q2: Find the Singular Value Decomposition (SVD) of the matrix\n",
        "\n",
        "A = [\n",
        "\n",
        "1 2\n",
        "\n",
        "3 4\n",
        "\n",
        "]"
      ],
      "metadata": {
        "id": "3g0FGhmjPzma"
      }
    },
    {
      "cell_type": "code",
      "source": [
        "# Singular Value Decomposition (SVD) is a matrix factorization technique\n",
        "# It decomposes a given matrix into three other matrices\n",
        "# The three matrices involved in SVD are:\n",
        "# U (Left Singular Vectors): U is an orthogonal matrix (U^T * U = I) that contains the left singular vectors of the original matrix.\n",
        "# Σ (Diagonal Singular Values): Σ is a diagonal matrix containing the singular values of the original matrix. These singular values are non-negative and represent the \"strength\" or importance of each singular vector.\n",
        "# V^T (Right Singular Vectors): V^T is the transpose of an orthogonal matrix V, containing the right singular vectors of the original matrix.\n",
        "# Mathematically, the SVD of a matrix A is represented as:\n",
        "# A = U * Σ * V^T"
      ],
      "metadata": {
        "id": "9KZ2yFVRP3xf"
      },
      "execution_count": null,
      "outputs": []
    },
    {
      "cell_type": "code",
      "source": [
        "from numpy import linalg\n",
        "import numpy as np\n",
        "A = np.array([[1,2],[3,4]])\n",
        "linalg.svd(A)"
      ],
      "metadata": {
        "colab": {
          "base_uri": "https://localhost:8080/"
        },
        "id": "GsrTThQCQbyN",
        "outputId": "b170c5aa-92ee-4b2a-cc75-68a1d8f8117a"
      },
      "execution_count": null,
      "outputs": [
        {
          "output_type": "execute_result",
          "data": {
            "text/plain": [
              "(array([[-0.40455358, -0.9145143 ],\n",
              "        [-0.9145143 ,  0.40455358]]),\n",
              " array([5.4649857 , 0.36596619]),\n",
              " array([[-0.57604844, -0.81741556],\n",
              "        [ 0.81741556, -0.57604844]]))"
            ]
          },
          "metadata": {},
          "execution_count": 74
        }
      ]
    },
    {
      "cell_type": "markdown",
      "source": [
        "Q3: You are conducting a survey to collect data on the number of cars owned by households in a\n",
        "neighborhood. The data ranges from 0 to 4 cars. Determine the type of data and calculate the\n",
        "median.\n",
        "\n",
        "The data is as follows:\n",
        "\n",
        "0, 2, 4, 2, 0, 1, 2, 3, 2, 4, 2, 3, 1, 3, 4, 1, 4, 3"
      ],
      "metadata": {
        "id": "PXy9XaO6SSa4"
      }
    },
    {
      "cell_type": "code",
      "source": [
        "# Type of data --> Discrete\n",
        "\n",
        "data = [0, 2, 4, 2, 0, 1, 2, 3, 2, 4, 2, 3, 1, 3, 4, 1, 4, 3]\n",
        "np.median(data)"
      ],
      "metadata": {
        "colab": {
          "base_uri": "https://localhost:8080/"
        },
        "id": "vH8Ua5mXSVNe",
        "outputId": "bec91be3-4493-4bd8-fe4d-ab5deb117616"
      },
      "execution_count": null,
      "outputs": [
        {
          "output_type": "execute_result",
          "data": {
            "text/plain": [
              "2.0"
            ]
          },
          "metadata": {},
          "execution_count": 75
        }
      ]
    },
    {
      "cell_type": "markdown",
      "source": [
        "Q4: A manufacturer claims that their machine produces widgets with a mean weight of 500 grams.\n",
        "You take a random sample of 36 widgets and find that the mean weight is 495 grams with a standard\n",
        "deviation of 20 grams. Conduct a hypothesis test at a 1% significance level to determine if the\n",
        "manufacturer's claim is accurate."
      ],
      "metadata": {
        "id": "sX89WDGQTyCF"
      }
    },
    {
      "cell_type": "code",
      "source": [
        "# H_o = Mean weight of weidgets are 500 grams\n",
        "# H_a = Mean weight of weidgets are not 500 grams\n",
        "\n",
        "population_mean = 500\n",
        "sample_size = 36\n",
        "sample_mean = 495\n",
        "sample_std = 20\n",
        "alpha = 0.01\n",
        "\n",
        "z = (sample_mean - population_mean) / (sample_std/np.sqrt(sample_size))\n",
        "pvalue = 2 * (1 - stats.norm.cdf(abs(z)))            # p-value for a two-tailed test (to test whether the observed value falls significantly above or below the mean)\n",
        "                                                     # we are only interested in whether the mean weight is less than 500 grams\n",
        "print('test-statstic(z) :', z)\n",
        "print('P-value :',pvalue)\n",
        "\n",
        "if pvalue < alpha:\n",
        "  print('Reject Null Hypothesis -> Mean weight of weidgets are not 500 grams')\n",
        "else:\n",
        "  print('Fail to reject Null Hypothesis -> Mean weight of weidgets are 500 grams')\n"
      ],
      "metadata": {
        "colab": {
          "base_uri": "https://localhost:8080/"
        },
        "id": "t5JARbBmT4nE",
        "outputId": "f2ea54ed-528e-4e68-ab8a-42e01808f117"
      },
      "execution_count": null,
      "outputs": [
        {
          "output_type": "stream",
          "name": "stdout",
          "text": [
            "test-statstic(z) : -1.5\n",
            "P-value : 0.13361440253771617\n",
            "Fail to reject Null Hypothesis -> Mean weight of weidgets are 500 grams\n"
          ]
        }
      ]
    },
    {
      "cell_type": "markdown",
      "source": [
        "Q5: In a factory, 80% of the products pass quality control, while 20% are rejected. Of the products\n",
        "that pass quality control, 90% are shipped on time, while 10% are delayed. If a randomly chosen\n",
        "product is delayed, what is the probability that it also failed quality control?"
      ],
      "metadata": {
        "id": "pS0dbgG7V8WN"
      }
    },
    {
      "cell_type": "code",
      "source": [
        "P_delayed = 0.10\n",
        "P_rejected_qc = 0.20\n",
        "\n",
        "P_delayed_given_failed_qc = P_delayed / P_rejected_qc\n",
        "print(\"Probability of being delayed given that it is also failed QC:\", P_delayed_given_failed_qc)"
      ],
      "metadata": {
        "colab": {
          "base_uri": "https://localhost:8080/"
        },
        "id": "WvE37c6HV9RB",
        "outputId": "10532dc4-5bd9-484a-de7b-2531c4173eee"
      },
      "execution_count": null,
      "outputs": [
        {
          "output_type": "stream",
          "name": "stdout",
          "text": [
            "Probability of being delayed given that it is also failed QC: 0.5\n"
          ]
        }
      ]
    },
    {
      "cell_type": "markdown",
      "source": [
        "Q6: A survey records the monthly incomes (in thousands of dollars) of a group of individuals.\n",
        "\n",
        "Calculate the mean, median, and mode for the income data with the following\n",
        "class intervals:\n",
        "\n",
        "Income Range\n",
        "(in thousands)  \n",
        "\n",
        "10-20 20-30 30-40 40-50 50-60\n",
        "\n",
        "Frequency\n",
        "\n",
        "15 20 12 8 5"
      ],
      "metadata": {
        "id": "ArAtXrv_XIbq"
      }
    },
    {
      "cell_type": "code",
      "source": [
        "from statistics import mean, median, mode\n",
        "\n",
        "Income_range = ['10-20', '20-30', '30-40', '40-50', '50-60']\n",
        "freq = [15, 20, 12, 8, 5]\n",
        "\n",
        "midpoint = [((int(k.split('-')[0]))+(int(k.split('-')[1])))/2 for k in Income_range]\n",
        "# cumulative_freq = np.cumsum(freq)\n",
        "\n",
        "data = []\n",
        "for i in range(len(Income_range)):\n",
        "    data.extend([midpoint[i]] * freq[i])\n",
        "\n",
        "print('Mean :', mean(data))\n",
        "print('Median :', median(data))\n",
        "print('Mode :', mode(data))"
      ],
      "metadata": {
        "colab": {
          "base_uri": "https://localhost:8080/"
        },
        "id": "ClzZC3VRXQww",
        "outputId": "0875e1a0-1c45-4bf2-ac92-f6f2a4c0b608"
      },
      "execution_count": null,
      "outputs": [
        {
          "output_type": "stream",
          "name": "stdout",
          "text": [
            "Mean : 29.666666666666668\n",
            "Median : 25.0\n",
            "Mode : 25.0\n"
          ]
        }
      ]
    },
    {
      "cell_type": "markdown",
      "source": [
        "Q7: A university claims that the average time it takes for a student to complete a specific test is 40\n",
        "minutes. A random sample of 30 students takes the test, and the sample mean time is found to be 38\n",
        "minutes with a sample standard deviation of 5 minutes. Test the university's claim at a 1%\n",
        "significance level."
      ],
      "metadata": {
        "id": "r6cGM3Kad7Tu"
      }
    },
    {
      "cell_type": "code",
      "source": [
        "# H_o =  average time it takes for a student to complete a specific test is 40 minutes or more.\n",
        "# H_a =  average time it takes for a student to complete a specific test is less then 40 minutes.\n",
        "\n",
        "population_mean = 40\n",
        "sample_size = 30\n",
        "sample_mean = 38\n",
        "sample_std = 5\n",
        "alpha = 0.01\n",
        "\n",
        "z = (sample_mean - population_mean) / (sample_std/np.sqrt(sample_size))\n",
        "pvalue = 1-stats.norm.cdf(abs(z))          # p-value for a one-tailed test -> left (because we are checking if the observed vaue is less then the ,mentioned value or not)\n",
        "\n",
        "print('Test-statstic :',z)\n",
        "print('P-value :', pvalue)\n",
        "\n",
        "if pvalue < alpha:\n",
        "  print('Reject Null Hypothesis -> average time it takes for a student to complete a specific test is less then 40 minutes.')\n",
        "else:\n",
        "  print('Fail to Reject Null Hypothesis -> average time it takes for a student to complete a specific test is 40 minutes or more.')"
      ],
      "metadata": {
        "colab": {
          "base_uri": "https://localhost:8080/"
        },
        "id": "pYU54vgOd90m",
        "outputId": "1c4c5ec5-f6f0-46ef-d51d-41b2a8248de6"
      },
      "execution_count": null,
      "outputs": [
        {
          "output_type": "stream",
          "name": "stdout",
          "text": [
            "Test-statstic : -2.1908902300206643\n",
            "P-value : 0.014229868458155326\n",
            "Fail to Reject Null Hypothesis -> average time it takes for a student to complete a specific test is 40 minutes or more.\n"
          ]
        }
      ]
    },
    {
      "cell_type": "markdown",
      "source": [
        "Q8: Calculate Pearson's correlation coefficient for the following data pairs with continuous class\n",
        "intervals:\n",
        "\n",
        "Height (cm)\n",
        "\n",
        "150-160 160-170 170-180 180-190 190-200\n",
        "\n",
        "Weight (kg)\n",
        "\n",
        "50 55 60 65 70"
      ],
      "metadata": {
        "id": "N0trBB1gi0yI"
      }
    },
    {
      "cell_type": "code",
      "source": [
        "Height = ['150-160', '160-170', '170-180', '180-190', '190-200']\n",
        "weight = [50, 55, 60, 65, 70]\n",
        "\n",
        "midpoint_h = [((int(h.split('-')[0]))+(int(h.split('-')[1])))/2 for h in Height]\n",
        "\n",
        "print('correlation coefficient for the following data pairs :', np.corrcoef(midpoint_h, weight)[0,1])"
      ],
      "metadata": {
        "colab": {
          "base_uri": "https://localhost:8080/"
        },
        "id": "sUSOT9nUi6d1",
        "outputId": "5c9b0027-f277-469a-d1c3-7cda8efccc68"
      },
      "execution_count": null,
      "outputs": [
        {
          "output_type": "stream",
          "name": "stdout",
          "text": [
            "correlation coefficient for the following data pairs : 1.0\n"
          ]
        }
      ]
    },
    {
      "cell_type": "markdown",
      "source": [
        "Q9: Find the eigenvectors of the following 3x3 matrix:\n",
        "\n",
        "A = [\n",
        "\n",
        "2 1 0\n",
        "\n",
        "1 3 1\n",
        "\n",
        "0 1 2\n",
        "\n",
        "]"
      ],
      "metadata": {
        "id": "gbwkhDxvkk5w"
      }
    },
    {
      "cell_type": "code",
      "source": [
        "a = np.array([[2, 1, 0],[1, 3, 1],[0, 1, 2]])\n",
        "value, vector = np.linalg.eig(a)\n",
        "\n",
        "print('Eigne Value :\\n', value)\n",
        "print('\\nEigne Vector :\\n', vector)"
      ],
      "metadata": {
        "colab": {
          "base_uri": "https://localhost:8080/"
        },
        "id": "ki6bEes4knfW",
        "outputId": "a80316da-cd18-4f07-91f7-ff4d0d5850a8"
      },
      "execution_count": null,
      "outputs": [
        {
          "output_type": "stream",
          "name": "stdout",
          "text": [
            "Eigne Value :\n",
            " [4. 2. 1.]\n",
            "\n",
            "Eigne Vector :\n",
            " [[-4.08248290e-01  7.07106781e-01  5.77350269e-01]\n",
            " [-8.16496581e-01 -3.45742585e-16 -5.77350269e-01]\n",
            " [-4.08248290e-01 -7.07106781e-01  5.77350269e-01]]\n"
          ]
        }
      ]
    },
    {
      "cell_type": "markdown",
      "source": [
        "Q10: The following data represents the scores of a group of students in a math test:\n",
        "\n",
        "72, 85, 90, 68, 78, 92, 88, 76, 80, 84.\n",
        "\n",
        "Calculate the interquartile range (IQR) for this dataset."
      ],
      "metadata": {
        "id": "3egGFpAXxzRq"
      }
    },
    {
      "cell_type": "code",
      "source": [
        "math = [72, 85, 90, 68, 78, 92, 88, 76, 80, 84]\n",
        "\n",
        "q3 =np.percentile(math, 75)\n",
        "q1 =np.percentile(math, 25)\n",
        "\n",
        "IQR = q3 - q1\n",
        "\n",
        "print('IQR :',IQR)"
      ],
      "metadata": {
        "colab": {
          "base_uri": "https://localhost:8080/"
        },
        "id": "CresdLnEx4pR",
        "outputId": "7b03cc0e-dc07-4cfd-ead3-860dcf02f56a"
      },
      "execution_count": null,
      "outputs": [
        {
          "output_type": "stream",
          "name": "stdout",
          "text": [
            "IQR : 10.75\n"
          ]
        }
      ]
    },
    {
      "cell_type": "markdown",
      "source": [
        "Q1: Find the eigenvectors of the following 3x3 matrix:\n",
        "\n",
        "A = [\n",
        "\n",
        "2 1 1\n",
        "\n",
        "1 2 1\n",
        "\n",
        "1 1 2\n",
        "\n",
        "]"
      ],
      "metadata": {
        "id": "YUd2XLgtyjll"
      }
    },
    {
      "cell_type": "code",
      "source": [
        "arr = np.array([[2,1,1],[1,2,1],[1,1,2]])\n",
        "value, vector = np.linalg.eig(arr)\n",
        "\n",
        "print('Eigen Value :\\n', value)\n",
        "print('\\nEigen Vector :\\n', vector)"
      ],
      "metadata": {
        "colab": {
          "base_uri": "https://localhost:8080/"
        },
        "id": "-HW-ocn_yloQ",
        "outputId": "95a872b2-7a8f-4794-d4bd-45f18f52ff0a"
      },
      "execution_count": null,
      "outputs": [
        {
          "output_type": "stream",
          "name": "stdout",
          "text": [
            "Eigen Value :\n",
            " [1. 4. 1.]\n",
            "\n",
            "Eigen Vector :\n",
            " [[-0.81649658  0.57735027 -0.32444284]\n",
            " [ 0.40824829  0.57735027 -0.48666426]\n",
            " [ 0.40824829  0.57735027  0.81110711]]\n"
          ]
        }
      ]
    },
    {
      "cell_type": "markdown",
      "source": [
        "Q2: Calculate Pearson's correlation coefficient for the following data pairs with continuous class\n",
        "intervals:\n",
        "\n",
        "Age (years)\n",
        "\n",
        "20-30 30-40 40-50 50-60 60-70\n",
        "\n",
        "Income(rupees)\n",
        "\n",
        "25000 35000 45000 55000 65000"
      ],
      "metadata": {
        "id": "iNggbGY4y-kQ"
      }
    },
    {
      "cell_type": "code",
      "source": [
        "age = ['20-30', '30-40', '40-50', '50-60', '60-70']\n",
        "income = [25000, 35000, 45000, 55000, 65000]\n",
        "\n",
        "midpoint_age = [((int(a.split('-')[0])) + (int(a.split('-')[1])))/ 2 for a in age]\n",
        "\n",
        "print('Correlation coefficient for the following data pairs :', np.corrcoef(midpoint_age, income)[0,1])"
      ],
      "metadata": {
        "colab": {
          "base_uri": "https://localhost:8080/"
        },
        "id": "DqWqNoAhzCaj",
        "outputId": "c767cd8f-c0ea-49da-e7fb-f9a511c772b1"
      },
      "execution_count": null,
      "outputs": [
        {
          "output_type": "stream",
          "name": "stdout",
          "text": [
            "Correlation coefficient for the following data pairs : 1.0\n"
          ]
        }
      ]
    },
    {
      "cell_type": "markdown",
      "source": [
        "Q3: A manufacturer claims that the average lifespan of its LED bulbs is 10,000 hours. A sample of 25\n",
        "bulbs is tested, and the sample mean lifespan is found to be 9,800 hours with a sample standard\n",
        "deviation of 200 hours. Test the manufacturer's claim at a 5% significance level."
      ],
      "metadata": {
        "id": "GbLqyST10Sdz"
      }
    },
    {
      "cell_type": "code",
      "source": [
        "# H_o = average lifespan of LED bulbs is 10,000 hours\n",
        "# H_a = average lifespan of LED bulbs is not 10,000 hours\n",
        "\n",
        "\n",
        "population_mean = 10000\n",
        "sample_size = 25\n",
        "sample_mean = 9800\n",
        "sample_std = 200\n",
        "alpha = 0.05\n",
        "\n",
        "z = (sample_mean - population_mean) / (sample_std/np.sqrt(sample_size))\n",
        "pval = 2*(1 - stats.norm.cdf(abs(z)))\n",
        "\n",
        "print('Test-statstic :', z)\n",
        "print('P-value :', pval)\n",
        "\n",
        "if pval < alpha:\n",
        "  print('Reject Null Hypothesis -> average lifespan of LED bulbs is not 10,000 hours')\n",
        "else:\n",
        "  print('Fail to Reject Null Hypothesis -> average lifespan of LED bulbs is 10,000 hours')\n",
        "\n"
      ],
      "metadata": {
        "colab": {
          "base_uri": "https://localhost:8080/"
        },
        "id": "JJ2IAW4H0TkG",
        "outputId": "7000a792-22e3-4e37-b37e-e07dc275b4a6"
      },
      "execution_count": null,
      "outputs": [
        {
          "output_type": "stream",
          "name": "stdout",
          "text": [
            "Test-statstic : -5.0\n",
            "P-value : 5.733031438470704e-07\n",
            "Reject Null Hypothesis -> average lifespan of LED bulbs is not 10,000 hours\n"
          ]
        }
      ]
    },
    {
      "cell_type": "markdown",
      "source": [
        "Q4: A dataset contains the temperatures (in degrees Celsius) recorded at different times of the day.\n",
        "Calculate the mean, median, and mode for the temperature data with the following class intervals:\n",
        "\n",
        "Temperature\n",
        "(°C)\n",
        "\n",
        "10-20 20-30 30-40 40-50 50-60\n",
        "\n",
        "Frequency\n",
        "\n",
        "4 8 12 10 6"
      ],
      "metadata": {
        "id": "7jyjh-DH3w4I"
      }
    },
    {
      "cell_type": "code",
      "source": [
        "from statistics import mean, median, mode\n",
        "\n",
        "temp = ['10-20', '20-30', '30-40', '40-50', '50-60']\n",
        "freq = [4, 8, 12, 10, 6]\n",
        "\n",
        "midpoint_t = [((int(t.split('-')[0]))+(int(t.split('-')[1])))/2 for t in temp]\n",
        "\n",
        "data_ft = []\n",
        "for i in range(len(Income_range)):\n",
        "    data_ft.extend([midpoint_t[i]] * freq[i])\n",
        "\n",
        "print('Mean :', mean(data_ft))\n",
        "print('Median :', median(data_ft))\n",
        "print('Mode :', mode(data_ft))"
      ],
      "metadata": {
        "colab": {
          "base_uri": "https://localhost:8080/"
        },
        "id": "1HY_TgfZ30Pc",
        "outputId": "53a110db-ffcd-4d77-c885-7f50f91b7a41"
      },
      "execution_count": null,
      "outputs": [
        {
          "output_type": "stream",
          "name": "stdout",
          "text": [
            "Mean : 36.5\n",
            "Median : 35.0\n",
            "Mode : 35.0\n"
          ]
        }
      ]
    },
    {
      "cell_type": "markdown",
      "source": [
        "Q5: In a survey of a group of people, 60% own a car, and 40% own a bicycle. If 30% of the people\n",
        "own both a car and a bicycle, what is the probability that a randomly chosen person owns a bicycle\n",
        "given that they own a car?"
      ],
      "metadata": {
        "id": "iBME3jm_4Sbk"
      }
    },
    {
      "cell_type": "code",
      "source": [
        "p_car = 0.6\n",
        "p_bicycle = 0.4\n",
        "p_car_bicycle = 0.3\n",
        "p_bicycle_given_car = p_car_bicycle / p_car\n",
        "print('Probability that a randomly chosen person owns a bicycle given that they own a car :',p_bicycle_given_car)"
      ],
      "metadata": {
        "colab": {
          "base_uri": "https://localhost:8080/"
        },
        "id": "KUTvaxHe4TUk",
        "outputId": "78885024-cd5e-44f0-af86-20a5a1d92428"
      },
      "execution_count": null,
      "outputs": [
        {
          "output_type": "stream",
          "name": "stdout",
          "text": [
            "Probability that a randomly chosen person owns a bicycle given that they own a car : 0.5\n"
          ]
        }
      ]
    },
    {
      "cell_type": "markdown",
      "source": [
        "Q6: A university claims that the average score of their students on a standardized test is 1150. You\n",
        "randomly select 25 students and find that their average score is 1125 with a standard deviation of 100. Conduct a hypothesis test at a 5% significance level to determine if the university's claim is\n",
        "accurate."
      ],
      "metadata": {
        "id": "jJvIa3NH5P5T"
      }
    },
    {
      "cell_type": "code",
      "source": [
        "# H_o = average score of students on a standardized test is 1150\n",
        "# H_a = average score of students on a standardized test is not 1150\n",
        "\n",
        "pop_mean = 1150\n",
        "sample_size = 25\n",
        "sample_mean = 1125\n",
        "sample_std = 100\n",
        "aplha = 0.05\n",
        "\n",
        "z = (sample_mean - pop_mean)/(sample_std/np.sqrt(sample_size))\n",
        "pval = 2*(1- stats.norm.cdf(abs(z)))\n",
        "\n",
        "print('Test-statstic :', z)\n",
        "print('P-value :', pval)\n",
        "\n",
        "if pval < alpha:\n",
        "  print('Reject Null Hypothesis ->  average score of students on a standardized test is not 1150')\n",
        "else:\n",
        "  print('Fail to Reject Null Hypothesis -> average score of students on a standardized test is 1150')"
      ],
      "metadata": {
        "colab": {
          "base_uri": "https://localhost:8080/"
        },
        "id": "D_WTZXad5Qqg",
        "outputId": "73cd17c1-8bfb-46a3-bfd7-33e47b2de6cf"
      },
      "execution_count": null,
      "outputs": [
        {
          "output_type": "stream",
          "name": "stdout",
          "text": [
            "Test-statstic : -1.25\n",
            "P-value : 0.2112995473337107\n",
            "Fail to Reject Null Hypothesis -> average score of students on a standardized test is 1150\n"
          ]
        }
      ]
    },
    {
      "cell_type": "markdown",
      "source": [
        "Q7: A survey collects data on the highest level of education achieved by 60 participants. The\n",
        "categories are \"High School,\" \"Bachelor's Degree,\" \"Master's Degree,\" and \"Ph.D.\" Categorize the\n",
        "data and determine the type of data. Calculate the mode."
      ],
      "metadata": {
        "id": "AYuqq_Km6jPP"
      }
    },
    {
      "cell_type": "markdown",
      "source": [
        "The data is as follows:\n",
        "\n",
        "High School, Bachelor's Degree, Master's Degree, Master's Degree, Ph.D., Bachelor's Degree,\n",
        "Master's Degree, Bachelor's Degree, Bachelor's Degree, High School, Bachelor's Degree, High School,\n",
        "Master's Degree, Master's Degree, Bachelor's Degree, Master's Degree, Bachelor's Degree,\n",
        "Bachelor's Degree, Ph.D., Master's Degree, Bachelor's Degree, Master's Degree, Ph.D., Ph.D.,\n",
        "Bachelor's Degree, Master's Degree, Bachelor's Degree, Ph.D., Bachelor's Degree, Master's Degree,\n",
        "Bachelor's Degree, Master's Degree, High School, High School, Master's Degree, Ph.D., Ph.D., Ph.D.,\n",
        "High School, Master's Degree, Master's Degree, Bachelor's Degree, Master's Degree, Bachelor's\n",
        "Degree, High School, Ph.D., High School, High School, Master's Degree, Ph.D., Bachelor's Degree,\n",
        "Ph.D., Ph.D."
      ],
      "metadata": {
        "id": "5ImpZFhu6tgl"
      }
    },
    {
      "cell_type": "code",
      "source": [
        "# Its a categorical (Qualitative) -> as it can be orderd therefore \"Ordinal Data\" type data\n",
        "\n",
        "import pandas as pd\n",
        "\n",
        "ed_degree = \"High School, Bachelor's Degree, Master's Degree, Master's Degree, Ph.D., Bachelor's Degree, Master's Degree, Bachelor's Degree, Bachelor's Degree, High School, Bachelor's Degree, High School, Master's Degree, Master's Degree, Bachelor's Degree, Master's Degree, Bachelor's Degree, Bachelor's Degree, Ph.D., Master's Degree, Bachelor's Degree, Master's Degree, Ph.D., Ph.D., Bachelor's Degree, Master's Degree, Bachelor's Degree, Ph.D., Bachelor's Degree, Master's Degree, Bachelor's Degree, Master's Degree, High School, High School, Master's Degree, Ph.D., Ph.D., Ph.D., High School, Master's Degree, Master's Degree, Bachelor's Degree, Master's Degree, Bachelor's Degree, High School, Ph.D., High School, High School, Master's Degree, Ph.D., Bachelor's Degree, Ph.D., Ph.D.\"\n",
        "ed_degree = pd.Series(ed_degree.split(', '))\n",
        "\n",
        "print(\"Mode :\\n\",dict(ed_degree.value_counts().nlargest(2)))"
      ],
      "metadata": {
        "colab": {
          "base_uri": "https://localhost:8080/"
        },
        "id": "ZCHbgrcM700X",
        "outputId": "babe4803-6007-4ac7-e692-48b66dd695da"
      },
      "execution_count": null,
      "outputs": [
        {
          "output_type": "stream",
          "name": "stdout",
          "text": [
            "Mode :\n",
            " {\"Bachelor's Degree\": 16, \"Master's Degree\": 16}\n"
          ]
        }
      ]
    },
    {
      "cell_type": "markdown",
      "source": [
        "Q8: Find the LU decomposition of the matrix\n",
        "\n",
        "A = [\n",
        "\n",
        "2 1\n",
        "\n",
        "3 4\n",
        "\n",
        "]."
      ],
      "metadata": {
        "id": "FAWGXtFa9mbR"
      }
    },
    {
      "cell_type": "code",
      "source": [
        "#LU decomposition, also known as LU factorization\n",
        "#decompose a square matrix into the product of two lower triangular matrices (L and U), often with a permutation matrix (P).\n",
        "#Permutation Matrix (P) ==>  P is an identity matrix with its rows reordered.\n",
        "#Lower Triangular Matrix (L) ==>  A square matrix in which all entries above the main diagonal are zero\n",
        "#Upper Triangular Matrix (U) ==>  A square matrix in which all entries below the main diagonal are zero.\n",
        "#A = PLU\n",
        "\n",
        "from scipy.linalg import lu\n",
        "\n",
        "A = np.array([[2, 1], [3, 4]])\n",
        "P, L, U = lu(A)\n",
        "\n",
        "print(\"Permutation_Matrix_P :\\n\", P)\n",
        "print(\"\\nLower_Triangular_Matrix_L :\\n\", L)\n",
        "print(\"\\nUpper_Triangular_Matrix_U :\\n\", U)\n"
      ],
      "metadata": {
        "colab": {
          "base_uri": "https://localhost:8080/"
        },
        "id": "0cikcV199oo6",
        "outputId": "a105c535-3432-42b4-98f4-4bcbc21de275"
      },
      "execution_count": null,
      "outputs": [
        {
          "output_type": "stream",
          "name": "stdout",
          "text": [
            "Permutation_Matrix_P :\n",
            " [[0. 1.]\n",
            " [1. 0.]]\n",
            "\n",
            "Lower_Triangular_Matrix_L :\n",
            " [[1.         0.        ]\n",
            " [0.66666667 1.        ]]\n",
            "\n",
            "Upper_Triangular_Matrix_U :\n",
            " [[ 3.          4.        ]\n",
            " [ 0.         -1.66666667]]\n"
          ]
        }
      ]
    },
    {
      "cell_type": "markdown",
      "source": [
        "Q9: Let Z be a continuous random variable representing the height (in inches) of adults in a\n",
        "population, with a probability density function (PDF) given by f(z) = 0.02z for 60 ≤ z ≤ 75. Calculate\n",
        "the probability that Z falls between 65 and 70 inches."
      ],
      "metadata": {
        "id": "rHX0Kq-8_lqr"
      }
    },
    {
      "cell_type": "code",
      "source": [],
      "metadata": {
        "id": "ebYyaxkv_me_"
      },
      "execution_count": null,
      "outputs": []
    },
    {
      "cell_type": "markdown",
      "source": [
        "Q10: A manufacturer wants to determine if there is a significant difference in the mean lifetimes of\n",
        "three different brands of light bulbs (Brand A, Brand B, and Brand C). The lifetimes (in hours) are\n",
        "recorded as follows:\n",
        "\n",
        "Brand A: [1500, 1600, 1550, 1620, 1580]\n",
        "\n",
        "Brand B: [1680, 1630, 1650, 1675, 1660]\n",
        "\n",
        "Brand C: [1470, 1490, 1450, 1485, 1505]\n",
        "\n",
        "Perform an ANOVA test to determine if there are significant differences in mean lifetimes among the\n",
        "three brands at a 2% significance level."
      ],
      "metadata": {
        "id": "60M0o2YZ_4Yk"
      }
    },
    {
      "cell_type": "code",
      "source": [
        "Brand_A = [1500, 1600, 1550, 1620, 1580]\n",
        "Brand_B = [1680, 1630, 1650, 1675, 1660]\n",
        "Brand_C = [1470, 1490, 1450, 1485, 1505]\n",
        "alpha = 0.02\n",
        "\n",
        "_, p = stats.f_oneway(Brand_A, Brand_B, Brand_C)\n",
        "\n",
        "print('P-Vlaue :', p)\n",
        "\n",
        "if p < alpha:\n",
        "  print('Reject null hypothesis -> There are significant differences in mean lifetimes among the three brands')\n",
        "else:\n",
        "  print('Fil to Reject null hypothesis -> There are no significant differences in mean lifetimes among the three brands')"
      ],
      "metadata": {
        "colab": {
          "base_uri": "https://localhost:8080/"
        },
        "id": "K6iCLEOC_7jH",
        "outputId": "bab7587e-8af5-4057-95f2-d974da5d7237"
      },
      "execution_count": null,
      "outputs": [
        {
          "output_type": "stream",
          "name": "stdout",
          "text": [
            "P-Vlaue : 5.263640402834659e-06\n",
            "Reject null hypothesis -> There are significant differences in mean lifetimes among the three brands\n"
          ]
        }
      ]
    }
  ]
}